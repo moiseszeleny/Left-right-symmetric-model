{
 "cells": [
  {
   "cell_type": "code",
   "execution_count": 168,
   "metadata": {},
   "outputs": [],
   "source": [
    "from sympy import symbols, init_printing, BlockMatrix, MatrixSymbol, Matrix, block_collapse, Identity, ZeroMatrix, Eq, DiagonalMatrix\n",
    "from sympy.physics.quantum import Dagger\n",
    "init_printing()"
   ]
  },
  {
   "cell_type": "code",
   "execution_count": 133,
   "metadata": {},
   "outputs": [
    {
     "data": {
      "image/png": "[encoded data removed]",
      "text/latex": [
       "$\\displaystyle \\left[\\begin{matrix}{{m_{3\\times3}}} & {{m_{i4}}}\\\\{{m_{4i}}} & {{m_{44}}}\\end{matrix}\\right]$"
      ],
      "text/plain": [
       "⎡{{m_{3\\times3}}}  {{m_{i4}}}⎤\n",
       "⎢                            ⎥\n",
       "⎣   {{m_{4i}}}     {{m_{44}}}⎦"
      ]
     },
     "execution_count": 133,
     "metadata": {},
     "output_type": "execute_result"
    }
   ],
   "source": [
    "m33 = MatrixSymbol(r'{{m_{3\\times3}}}', 3, 3)\n",
    "mi4 = MatrixSymbol(r'{{m_{i4}}}', 3, 1)\n",
    "m4i = MatrixSymbol(r'{{m_{4i}}}', 1, 3)\n",
    "m44 = MatrixSymbol('{{m_{44}}}', 1,1)\n",
    "M = BlockMatrix([\n",
    "    [m33,mi4],\n",
    "    [m4i,m44]\n",
    "])\n",
    "M"
   ]
  },
  {
   "cell_type": "code",
   "execution_count": 134,
   "metadata": {},
   "outputs": [
    {
     "data": {
      "image/png": "[encoded data removed]",
      "text/latex": [
       "$\\displaystyle \\left[\\begin{matrix}{{U_{3\\times3}}} & {{U_{i4}}}\\\\{{U_{4i}}} & {{U_{44}}}\\end{matrix}\\right]$"
      ],
      "text/plain": [
       "⎡{{U_{3\\times3}}}  {{U_{i4}}}⎤\n",
       "⎢                            ⎥\n",
       "⎣   {{U_{4i}}}     {{U_{44}}}⎦"
      ]
     },
     "execution_count": 134,
     "metadata": {},
     "output_type": "execute_result"
    }
   ],
   "source": [
    "U33 = MatrixSymbol(r'{{U_{3\\times3}}}', 3, 3)\n",
    "Ui4 = MatrixSymbol(r'{{U_{i4}}}', 3, 1)\n",
    "U4i = MatrixSymbol(r'{{U_{4i}}}', 1, 3)\n",
    "U44 = MatrixSymbol('{{U_{44}}}', 1,1)\n",
    "U = BlockMatrix([\n",
    "    [U33,Ui4],\n",
    "    [U4i,U44]\n",
    "])\n",
    "U"
   ]
  },
  {
   "cell_type": "code",
   "execution_count": 135,
   "metadata": {},
   "outputs": [
    {
     "data": {
      "image/png": "[encoded data removed]",
      "text/latex": [
       "$\\displaystyle \\left[\\begin{matrix}{{U_{3\\times3}}}^{\\dagger} & {{U_{4i}}}^{\\dagger}\\\\{{U_{i4}}}^{\\dagger} & {{U_{44}}}^{\\dagger}\\end{matrix}\\right]$"
      ],
      "text/plain": [
       "⎡                †            †⎤\n",
       "⎢{{U_{3\\times3}}}   {{U_{4i}}} ⎥\n",
       "⎢                              ⎥\n",
       "⎢             †               †⎥\n",
       "⎣   {{U_{i4}}}      {{U_{44}}} ⎦"
      ]
     },
     "execution_count": 135,
     "metadata": {},
     "output_type": "execute_result"
    }
   ],
   "source": [
    "UDagger = BlockMatrix([\n",
    "    [Dagger(U33), Dagger(U4i)],\n",
    "    [Dagger(Ui4), Dagger(U44)]\n",
    "])\n",
    "UDagger"
   ]
  },
  {
   "cell_type": "code",
   "execution_count": 136,
   "metadata": {},
   "outputs": [],
   "source": [
    "UDU = block_collapse(UDagger*U)"
   ]
  },
  {
   "cell_type": "code",
   "execution_count": 137,
   "metadata": {},
   "outputs": [
    {
     "data": {
      "image/png": "[encoded data removed]",
      "text/latex": [
       "$\\displaystyle \\left[\\begin{matrix}{{U_{3\\times3}}}^{\\dagger} {{U_{3\\times3}}} + {{U_{4i}}}^{\\dagger} {{U_{4i}}} & {{U_{3\\times3}}}^{\\dagger} {{U_{i4}}} + {{U_{4i}}}^{\\dagger} {{U_{44}}}\\\\{{U_{44}}}^{\\dagger} {{U_{4i}}} + {{U_{i4}}}^{\\dagger} {{U_{3\\times3}}} & {{U_{44}}}^{\\dagger} {{U_{44}}} + {{U_{i4}}}^{\\dagger} {{U_{i4}}}\\end{matrix}\\right]$"
      ],
      "text/plain": [
       "⎡                †                              †                             \n",
       "⎢{{U_{3\\times3}}} ⋅{{U_{3\\times3}}} + {{U_{4i}}} ⋅{{U_{4i}}}  {{U_{3\\times3}}}\n",
       "⎢                                                                             \n",
       "⎢             †                        †                                   †  \n",
       "⎣   {{U_{44}}} ⋅{{U_{4i}}} + {{U_{i4}}} ⋅{{U_{3\\times3}}}        {{U_{44}}} ⋅{\n",
       "\n",
       "†                        †           ⎤\n",
       " ⋅{{U_{i4}}} + {{U_{4i}}} ⋅{{U_{44}}}⎥\n",
       "                                     ⎥\n",
       "                      †              ⎥\n",
       "{U_{44}}} + {{U_{i4}}} ⋅{{U_{i4}}}   ⎦"
      ]
     },
     "execution_count": 137,
     "metadata": {},
     "output_type": "execute_result"
    }
   ],
   "source": [
    "UDU"
   ]
  },
  {
   "cell_type": "code",
   "execution_count": 138,
   "metadata": {},
   "outputs": [
    {
     "data": {
      "image/png": "[encoded data removed]",
      "text/latex": [
       "$\\displaystyle \\left( 3, \\  3\\right)$"
      ],
      "text/plain": [
       "(3, 3)"
      ]
     },
     "metadata": {},
     "output_type": "display_data"
    },
    {
     "data": {
      "image/png": "[encoded data removed]",
      "text/latex": [
       "$\\displaystyle {{U_{3\\times3}}}^{\\dagger} {{U_{3\\times3}}} + {{U_{4i}}}^{\\dagger} {{U_{4i}}}$"
      ],
      "text/plain": [
       "                †                              †           \n",
       "{{U_{3\\times3}}} ⋅{{U_{3\\times3}}} + {{U_{4i}}} ⋅{{U_{4i}}}"
      ]
     },
     "execution_count": 138,
     "metadata": {},
     "output_type": "execute_result"
    }
   ],
   "source": [
    "UDU33 = UDU.args[0].args[2].args[0]\n",
    "display(UDU33.shape)\n",
    "UDU33"
   ]
  },
  {
   "cell_type": "markdown",
   "metadata": {},
   "source": [
    "It follows that "
   ]
  },
  {
   "cell_type": "code",
   "execution_count": 139,
   "metadata": {},
   "outputs": [
    {
     "data": {
      "image/png": "[encoded data removed]",
      "text/latex": [
       "$\\displaystyle \\left\\{ {{U_{3\\times3}}}^{\\dagger} {{U_{3\\times3}}} : \\mathbb{I}, \\  {{U_{3\\times3}}}^{\\dagger} {{U_{i4}}} : - {{U_{4i}}}^{\\dagger} {{U_{44}}}, \\  {{U_{44}}}^{\\dagger} {{U_{44}}} : \\mathbb{I}, \\  {{U_{44}}}^{\\dagger} {{U_{4i}}} : - {{U_{i4}}}^{\\dagger} {{U_{3\\times3}}}, \\  {{U_{4i}}}^{\\dagger} {{U_{4i}}} : 0, \\  {{U_{i4}}}^{\\dagger} {{U_{i4}}} : 0\\right\\}$"
      ],
      "text/plain": [
       "⎧                †                                      †                     \n",
       "⎨{{U_{3\\times3}}} ⋅{{U_{3\\times3}}}: 𝕀, {{U_{3\\times3}}} ⋅{{U_{i4}}}: -{{U_{4i\n",
       "⎩                                                                             \n",
       "\n",
       "   †                       †                          †                       \n",
       "}}} ⋅{{U_{44}}}, {{U_{44}}} ⋅{{U_{44}}}: 𝕀, {{U_{44}}} ⋅{{U_{4i}}}: -{{U_{i4}}\n",
       "                                                                              \n",
       "\n",
       " †                             †                          †              ⎫\n",
       "} ⋅{{U_{3\\times3}}}, {{U_{4i}}} ⋅{{U_{4i}}}: 𝟘, {{U_{i4}}} ⋅{{U_{i4}}}: 𝟘⎬\n",
       "                                                                         ⎭"
      ]
     },
     "execution_count": 139,
     "metadata": {},
     "output_type": "execute_result"
    }
   ],
   "source": [
    "subs_block_unitarity = {\n",
    "    Dagger(U33)*U33:Identity(3),\n",
    "    Dagger(U4i)*U4i:ZeroMatrix(3,3),\n",
    "    Dagger(U33)*Ui4:-Dagger(U4i)*U44,\n",
    "    Dagger(U44)*U4i:-Dagger(Ui4)*U33,\n",
    "    Dagger(U44)*U44:Identity(1),\n",
    "    Dagger(Ui4)*Ui4:ZeroMatrix(1,1)\n",
    "}\n",
    "subs_block_unitarity"
   ]
  },
  {
   "cell_type": "code",
   "execution_count": 140,
   "metadata": {},
   "outputs": [
    {
     "data": {
      "image/png": "[encoded data removed]",
      "text/latex": [
       "$\\displaystyle \\left[\\begin{matrix}\\mathbb{I} & 0\\\\0 & \\mathbb{I}\\end{matrix}\\right]$"
      ],
      "text/plain": [
       "⎡𝕀  𝟘⎤\n",
       "⎢    ⎥\n",
       "⎣𝟘  𝕀⎦"
      ]
     },
     "execution_count": 140,
     "metadata": {},
     "output_type": "execute_result"
    }
   ],
   "source": [
    "block_collapse(UDU.subs(subs_block_unitarity))"
   ]
  },
  {
   "cell_type": "code",
   "execution_count": 166,
   "metadata": {},
   "outputs": [
    {
     "data": {
      "image/png": "[encoded data removed]",
      "text/latex": [
       "$\\displaystyle \\left[\\begin{matrix}\\overline{{{U_{i4}}}_{0, 0}} {{U_{i4}}}_{0, 0} & \\overline{{{U_{i4}}}_{1, 0}} {{U_{i4}}}_{0, 0} & \\overline{{{U_{i4}}}_{2, 0}} {{U_{i4}}}_{0, 0}\\\\\\overline{{{U_{i4}}}_{0, 0}} {{U_{i4}}}_{1, 0} & \\overline{{{U_{i4}}}_{1, 0}} {{U_{i4}}}_{1, 0} & \\overline{{{U_{i4}}}_{2, 0}} {{U_{i4}}}_{1, 0}\\\\\\overline{{{U_{i4}}}_{0, 0}} {{U_{i4}}}_{2, 0} & \\overline{{{U_{i4}}}_{1, 0}} {{U_{i4}}}_{2, 0} & \\overline{{{U_{i4}}}_{2, 0}} {{U_{i4}}}_{2, 0}\\end{matrix}\\right]$"
      ],
      "text/plain": [
       "⎡_____________                _____________                _____________      \n",
       "⎢{{U_{i4}}}_00⋅{{U_{i4}}}_00  {{U_{i4}}}_10⋅{{U_{i4}}}_00  {{U_{i4}}}_20⋅{{U_{\n",
       "⎢                                                                             \n",
       "⎢_____________                _____________                _____________      \n",
       "⎢{{U_{i4}}}_00⋅{{U_{i4}}}_10  {{U_{i4}}}_10⋅{{U_{i4}}}_10  {{U_{i4}}}_20⋅{{U_{\n",
       "⎢                                                                             \n",
       "⎢_____________                _____________                _____________      \n",
       "⎣{{U_{i4}}}_00⋅{{U_{i4}}}_20  {{U_{i4}}}_10⋅{{U_{i4}}}_20  {{U_{i4}}}_20⋅{{U_{\n",
       "\n",
       "        ⎤\n",
       "i4}}}_00⎥\n",
       "        ⎥\n",
       "        ⎥\n",
       "i4}}}_10⎥\n",
       "        ⎥\n",
       "        ⎥\n",
       "i4}}}_20⎦"
      ]
     },
     "execution_count": 166,
     "metadata": {},
     "output_type": "execute_result"
    }
   ],
   "source": [
    "(Ui4*Dagger(Ui4)).as_explicit()"
   ]
  },
  {
   "cell_type": "code",
   "execution_count": 167,
   "metadata": {},
   "outputs": [
    {
     "data": {
      "image/png": "[encoded data removed]",
      "text/latex": [
       "$\\displaystyle \\left[\\begin{matrix}\\overline{{{U_{4i}}}_{0, 0}} {{U_{4i}}}_{0, 0} + \\overline{{{U_{4i}}}_{0, 1}} {{U_{4i}}}_{0, 1} + \\overline{{{U_{4i}}}_{0, 2}} {{U_{4i}}}_{0, 2}\\end{matrix}\\right]$"
      ],
      "text/plain": [
       "⎡_____________                 _____________                 _____________    \n",
       "⎣{{U_{4i}}}_00⋅{{U_{4i}}}_00 + {{U_{4i}}}_01⋅{{U_{4i}}}_01 + {{U_{4i}}}_02⋅{{U\n",
       "\n",
       "          ⎤\n",
       "_{4i}}}_02⎦"
      ]
     },
     "execution_count": 167,
     "metadata": {},
     "output_type": "execute_result"
    }
   ],
   "source": [
    "(U4i*Dagger(U4i)).as_explicit()"
   ]
  },
  {
   "cell_type": "markdown",
   "metadata": {},
   "source": [
    "## Diagonalization"
   ]
  },
  {
   "cell_type": "code",
   "execution_count": 141,
   "metadata": {},
   "outputs": [],
   "source": [
    "mlight = block_collapse(UDagger*M*U)"
   ]
  },
  {
   "cell_type": "code",
   "execution_count": 142,
   "metadata": {},
   "outputs": [
    {
     "data": {
      "image/png": "[encoded data removed]",
      "text/latex": [
       "$\\displaystyle \\left[\\begin{matrix}\\left({{U_{3\\times3}}}^{\\dagger} {{m_{3\\times3}}} + {{U_{4i}}}^{\\dagger} {{m_{4i}}}\\right) {{U_{3\\times3}}} + \\left({{U_{3\\times3}}}^{\\dagger} {{m_{i4}}} + {{U_{4i}}}^{\\dagger} {{m_{44}}}\\right) {{U_{4i}}} & \\left({{U_{3\\times3}}}^{\\dagger} {{m_{3\\times3}}} + {{U_{4i}}}^{\\dagger} {{m_{4i}}}\\right) {{U_{i4}}} + \\left({{U_{3\\times3}}}^{\\dagger} {{m_{i4}}} + {{U_{4i}}}^{\\dagger} {{m_{44}}}\\right) {{U_{44}}}\\\\\\left({{U_{44}}}^{\\dagger} {{m_{44}}} + {{U_{i4}}}^{\\dagger} {{m_{i4}}}\\right) {{U_{4i}}} + \\left({{U_{44}}}^{\\dagger} {{m_{4i}}} + {{U_{i4}}}^{\\dagger} {{m_{3\\times3}}}\\right) {{U_{3\\times3}}} & \\left({{U_{44}}}^{\\dagger} {{m_{44}}} + {{U_{i4}}}^{\\dagger} {{m_{i4}}}\\right) {{U_{44}}} + \\left({{U_{44}}}^{\\dagger} {{m_{4i}}} + {{U_{i4}}}^{\\dagger} {{m_{3\\times3}}}\\right) {{U_{i4}}}\\end{matrix}\\right]$"
      ],
      "text/plain": [
       "⎡⎛                †                              †           ⎞                \n",
       "⎢⎝{{U_{3\\times3}}} ⋅{{m_{3\\times3}}} + {{U_{4i}}} ⋅{{m_{4i}}}⎠⋅{{U_{3\\times3}}\n",
       "⎢                                                                             \n",
       "⎢      ⎛          †                        †           ⎞              ⎛       \n",
       "⎣      ⎝{{U_{44}}} ⋅{{m_{44}}} + {{U_{i4}}} ⋅{{m_{i4}}}⎠⋅{{U_{4i}}} + ⎝{{U_{44\n",
       "\n",
       "    ⎛                †                        †           ⎞             ⎛     \n",
       "} + ⎝{{U_{3\\times3}}} ⋅{{m_{i4}}} + {{U_{4i}}} ⋅{{m_{44}}}⎠⋅{{U_{4i}}}  ⎝{{U_{\n",
       "                                                                              \n",
       "   †                        †                 ⎞                               \n",
       "}}} ⋅{{m_{4i}}} + {{U_{i4}}} ⋅{{m_{3\\times3}}}⎠⋅{{U_{3\\times3}}}              \n",
       "\n",
       "           †                              †           ⎞              ⎛        \n",
       "3\\times3}}} ⋅{{m_{3\\times3}}} + {{U_{4i}}} ⋅{{m_{4i}}}⎠⋅{{U_{i4}}} + ⎝{{U_{3\\t\n",
       "                                                                              \n",
       "⎛          †                        †           ⎞              ⎛          †   \n",
       "⎝{{U_{44}}} ⋅{{m_{44}}} + {{U_{i4}}} ⋅{{m_{i4}}}⎠⋅{{U_{44}}} + ⎝{{U_{44}}} ⋅{{\n",
       "\n",
       "        †                        †           ⎞           ⎤\n",
       "imes3}}} ⋅{{m_{i4}}} + {{U_{4i}}} ⋅{{m_{44}}}⎠⋅{{U_{44}}}⎥\n",
       "                                                         ⎥\n",
       "                     †                 ⎞                 ⎥\n",
       "m_{4i}}} + {{U_{i4}}} ⋅{{m_{3\\times3}}}⎠⋅{{U_{i4}}}      ⎦"
      ]
     },
     "execution_count": 142,
     "metadata": {},
     "output_type": "execute_result"
    }
   ],
   "source": [
    "mlight"
   ]
  },
  {
   "cell_type": "code",
   "execution_count": 143,
   "metadata": {},
   "outputs": [
    {
     "data": {
      "image/png": "[encoded data removed]",
      "text/latex": [
       "$\\displaystyle \\left({{U_{3\\times3}}}^{\\dagger} {{m_{3\\times3}}} {{U_{i4}}} + {{U_{4i}}}^{\\dagger} {{m_{4i}}} {{U_{i4}}}\\right) + \\left({{U_{3\\times3}}}^{\\dagger} {{m_{i4}}} {{U_{44}}} + {{U_{4i}}}^{\\dagger} {{m_{44}}} {{U_{44}}}\\right)$"
      ],
      "text/plain": [
       "                †                                         †                   \n",
       "{{U_{3\\times3}}} ⋅{{m_{3\\times3}}}⋅{{U_{i4}}} + {{U_{4i}}} ⋅{{m_{4i}}}⋅{{U_{i4\n",
       "\n",
       "                      †                                   †                   \n",
       "}}} + {{U_{3\\times3}}} ⋅{{m_{i4}}}⋅{{U_{44}}} + {{U_{4i}}} ⋅{{m_{44}}}⋅{{U_{44\n",
       "\n",
       "   \n",
       "}}}"
      ]
     },
     "execution_count": 143,
     "metadata": {},
     "output_type": "execute_result"
    }
   ],
   "source": [
    "mixLR = mlight.args[0].args[2].args[1].expand()\n",
    "mixLR"
   ]
  },
  {
   "cell_type": "code",
   "execution_count": 144,
   "metadata": {},
   "outputs": [
    {
     "data": {
      "image/png": "[encoded data removed]",
      "text/latex": [
       "$\\displaystyle \\left( 3, \\  1\\right)$"
      ],
      "text/plain": [
       "(3, 1)"
      ]
     },
     "execution_count": 144,
     "metadata": {},
     "output_type": "execute_result"
    }
   ],
   "source": [
    "mixLR.shape"
   ]
  },
  {
   "cell_type": "code",
   "execution_count": 145,
   "metadata": {},
   "outputs": [
    {
     "data": {
      "image/png": "[encoded data removed]",
      "text/latex": [
       "$\\displaystyle \\left\\{ {{U_{3\\times3}}}^{\\dagger} {{m_{3\\times3}}} {{U_{i4}}} + {{U_{4i}}}^{\\dagger} {{m_{4i}}} {{U_{i4}}} : - {{U_{3\\times3}}}^{\\dagger} {{m_{i4}}} {{U_{44}}} - {{U_{4i}}}^{\\dagger} {{m_{44}}} {{U_{44}}}\\right\\}$"
      ],
      "text/plain": [
       "⎧                †                                         †                  \n",
       "⎨{{U_{3\\times3}}} ⋅{{m_{3\\times3}}}⋅{{U_{i4}}} + {{U_{4i}}} ⋅{{m_{4i}}}⋅{{U_{i\n",
       "⎩                                                                             \n",
       "\n",
       "                       †                                  †                   \n",
       "4}}}: -{{U_{3\\times3}}} ⋅{{m_{i4}}}⋅{{U_{44}}} -{{U_{4i}}} ⋅{{m_{44}}}⋅{{U_{44\n",
       "                                                                              \n",
       "\n",
       "   ⎫\n",
       "}}}⎬\n",
       "   ⎭"
      ]
     },
     "execution_count": 145,
     "metadata": {},
     "output_type": "execute_result"
    }
   ],
   "source": [
    "subs_block_diagonalizationLR = {\n",
    "    Dagger(U33)*m33*Ui4 + Dagger(U4i)*m4i*Ui4: -(Dagger(U33)*mi4*U44 + Dagger(U4i)*m44*U44)\n",
    "}\n",
    "subs_block_diagonalizationLR"
   ]
  },
  {
   "cell_type": "code",
   "execution_count": 146,
   "metadata": {},
   "outputs": [
    {
     "data": {
      "image/png": "[encoded data removed]",
      "text/latex": [
       "$\\displaystyle \\left({{U_{44}}}^{\\dagger} {{m_{44}}} {{U_{4i}}} + {{U_{i4}}}^{\\dagger} {{m_{i4}}} {{U_{4i}}}\\right) + \\left({{U_{44}}}^{\\dagger} {{m_{4i}}} {{U_{3\\times3}}} + {{U_{i4}}}^{\\dagger} {{m_{3\\times3}}} {{U_{3\\times3}}}\\right)$"
      ],
      "text/plain": [
       "          †                                   †                               \n",
       "{{U_{44}}} ⋅{{m_{44}}}⋅{{U_{4i}}} + {{U_{i4}}} ⋅{{m_{i4}}}⋅{{U_{4i}}} + {{U_{4\n",
       "\n",
       "    †                                         †                               \n",
       "4}}} ⋅{{m_{4i}}}⋅{{U_{3\\times3}}} + {{U_{i4}}} ⋅{{m_{3\\times3}}}⋅{{U_{3\\times3\n",
       "\n",
       "   \n",
       "}}}"
      ]
     },
     "execution_count": 146,
     "metadata": {},
     "output_type": "execute_result"
    }
   ],
   "source": [
    "mixRL = mlight.args[0].args[2].args[2].expand()\n",
    "mixRL"
   ]
  },
  {
   "cell_type": "code",
   "execution_count": 147,
   "metadata": {},
   "outputs": [
    {
     "data": {
      "image/png": "[encoded data removed]",
      "text/latex": [
       "$\\displaystyle \\left( 1, \\  3\\right)$"
      ],
      "text/plain": [
       "(1, 3)"
      ]
     },
     "execution_count": 147,
     "metadata": {},
     "output_type": "execute_result"
    }
   ],
   "source": [
    "mixRL.shape"
   ]
  },
  {
   "cell_type": "code",
   "execution_count": 148,
   "metadata": {},
   "outputs": [
    {
     "data": {
      "image/png": "[encoded data removed]",
      "text/latex": [
       "$\\displaystyle \\left\\{ {{U_{44}}}^{\\dagger} {{m_{44}}} {{U_{4i}}} + {{U_{i4}}}^{\\dagger} {{m_{i4}}} {{U_{4i}}} : - {{U_{44}}}^{\\dagger} {{m_{4i}}} {{U_{3\\times3}}} - {{U_{i4}}}^{\\dagger} {{m_{3\\times3}}} {{U_{3\\times3}}}\\right\\}$"
      ],
      "text/plain": [
       "⎧          †                                   †                              \n",
       "⎨{{U_{44}}} ⋅{{m_{44}}}⋅{{U_{4i}}} + {{U_{i4}}} ⋅{{m_{i4}}}⋅{{U_{4i}}}: -{{U_{\n",
       "⎩                                                                             \n",
       "\n",
       "     †                                        †                               \n",
       "44}}} ⋅{{m_{4i}}}⋅{{U_{3\\times3}}} -{{U_{i4}}} ⋅{{m_{3\\times3}}}⋅{{U_{3\\times3\n",
       "                                                                              \n",
       "\n",
       "   ⎫\n",
       "}}}⎬\n",
       "   ⎭"
      ]
     },
     "execution_count": 148,
     "metadata": {},
     "output_type": "execute_result"
    }
   ],
   "source": [
    "subs_block_diagonalizationRL = {\n",
    "    Dagger(U44)*m44*U4i + Dagger(Ui4)*mi4*U4i: -(Dagger(U44)*m4i*U33 + Dagger(Ui4)*m33*U33)\n",
    "}\n",
    "subs_block_diagonalizationRL"
   ]
  },
  {
   "cell_type": "code",
   "execution_count": 149,
   "metadata": {},
   "outputs": [
    {
     "data": {
      "image/png": "[encoded data removed]",
      "text/latex": [
       "$\\displaystyle {{U_{3\\times3}}}^{\\dagger} {{m_{3\\times3}}} {{U_{3\\times3}}} + {{U_{3\\times3}}}^{\\dagger} {{m_{i4}}} {{U_{4i}}} + {{U_{4i}}}^{\\dagger} {{m_{44}}} {{U_{4i}}} + {{U_{4i}}}^{\\dagger} {{m_{4i}}} {{U_{3\\times3}}}$"
      ],
      "text/plain": [
       "                †                                                     †       \n",
       "{{U_{3\\times3}}} ⋅{{m_{3\\times3}}}⋅{{U_{3\\times3}}} + {{U_{3\\times3}}} ⋅{{m_{i\n",
       "\n",
       "                            †                                   †             \n",
       "4}}}⋅{{U_{4i}}} + {{U_{4i}}} ⋅{{m_{44}}}⋅{{U_{4i}}} + {{U_{4i}}} ⋅{{m_{4i}}}⋅{\n",
       "\n",
       "               \n",
       "{U_{3\\times3}}}"
      ]
     },
     "execution_count": 149,
     "metadata": {},
     "output_type": "execute_result"
    }
   ],
   "source": [
    "mnu = block_collapse(mlight.args[0].args[2].args[0].expand())\n",
    "mnu"
   ]
  },
  {
   "cell_type": "code",
   "execution_count": 150,
   "metadata": {},
   "outputs": [
    {
     "data": {
      "image/png": "[encoded data removed]",
      "text/latex": [
       "$\\displaystyle \\left( 3, \\  3\\right)$"
      ],
      "text/plain": [
       "(3, 3)"
      ]
     },
     "execution_count": 150,
     "metadata": {},
     "output_type": "execute_result"
    }
   ],
   "source": [
    "mnu.shape"
   ]
  },
  {
   "cell_type": "code",
   "execution_count": 151,
   "metadata": {},
   "outputs": [
    {
     "data": {
      "image/png": "[encoded data removed]",
      "text/latex": [
       "$\\displaystyle {{U_{3\\times3}}}^{\\dagger} {{m_{3\\times3}}} {{U_{3\\times3}}} + {{U_{3\\times3}}}^{\\dagger} {{m_{i4}}} {{U_{4i}}} + {{U_{4i}}}^{\\dagger} {{m_{44}}} {{U_{4i}}} + {{U_{4i}}}^{\\dagger} {{m_{4i}}} {{U_{3\\times3}}}$"
      ],
      "text/plain": [
       "                †                                                     †       \n",
       "{{U_{3\\times3}}} ⋅{{m_{3\\times3}}}⋅{{U_{3\\times3}}} + {{U_{3\\times3}}} ⋅{{m_{i\n",
       "\n",
       "                            †                                   †             \n",
       "4}}}⋅{{U_{4i}}} + {{U_{4i}}} ⋅{{m_{44}}}⋅{{U_{4i}}} + {{U_{4i}}} ⋅{{m_{4i}}}⋅{\n",
       "\n",
       "               \n",
       "{U_{3\\times3}}}"
      ]
     },
     "execution_count": 151,
     "metadata": {},
     "output_type": "execute_result"
    }
   ],
   "source": [
    "mnu"
   ]
  },
  {
   "cell_type": "code",
   "execution_count": 152,
   "metadata": {},
   "outputs": [],
   "source": [
    "subs_block_diagonalization_mnu = {}"
   ]
  },
  {
   "cell_type": "code",
   "execution_count": 153,
   "metadata": {},
   "outputs": [
    {
     "data": {
      "image/png": "[encoded data removed]",
      "text/latex": [
       "$\\displaystyle \\left({{U_{44}}}^{\\dagger} {{m_{44}}} {{U_{44}}} + {{U_{i4}}}^{\\dagger} {{m_{i4}}} {{U_{44}}}\\right) + \\left({{U_{44}}}^{\\dagger} {{m_{4i}}} {{U_{i4}}} + {{U_{i4}}}^{\\dagger} {{m_{3\\times3}}} {{U_{i4}}}\\right)$"
      ],
      "text/plain": [
       "          †                                   †                               \n",
       "{{U_{44}}} ⋅{{m_{44}}}⋅{{U_{44}}} + {{U_{i4}}} ⋅{{m_{i4}}}⋅{{U_{44}}} + {{U_{4\n",
       "\n",
       "    †                                   †                            \n",
       "4}}} ⋅{{m_{4i}}}⋅{{U_{i4}}} + {{U_{i4}}} ⋅{{m_{3\\times3}}}⋅{{U_{i4}}}"
      ]
     },
     "execution_count": 153,
     "metadata": {},
     "output_type": "execute_result"
    }
   ],
   "source": [
    "m4 = mlight.args[0].args[2].args[3].expand()\n",
    "m4"
   ]
  },
  {
   "cell_type": "code",
   "execution_count": 154,
   "metadata": {},
   "outputs": [
    {
     "data": {
      "image/png": "[encoded data removed]",
      "text/latex": [
       "$\\displaystyle \\left( 1, \\  1\\right)$"
      ],
      "text/plain": [
       "(1, 1)"
      ]
     },
     "execution_count": 154,
     "metadata": {},
     "output_type": "execute_result"
    }
   ],
   "source": [
    "m4.shape"
   ]
  },
  {
   "cell_type": "markdown",
   "metadata": {},
   "source": [
    "## Inverse transformation"
   ]
  },
  {
   "cell_type": "code",
   "execution_count": 185,
   "metadata": {},
   "outputs": [],
   "source": [
    "ml = MatrixSymbol('{{m_l}}', 3, 3)\n",
    "mh = MatrixSymbol('{{m_h}}', 1, 1)"
   ]
  },
  {
   "cell_type": "code",
   "execution_count": 186,
   "metadata": {},
   "outputs": [
    {
     "data": {
      "image/png": "[encoded data removed]",
      "text/latex": [
       "$\\displaystyle \\left( \\left[\\begin{matrix}{{m_l}} & 0\\\\0 & {{m_h}}\\end{matrix}\\right], \\  \\left( 4, \\  4\\right)\\right)$"
      ],
      "text/plain": [
       "⎛⎡{{m_l}}     𝟘   ⎤        ⎞\n",
       "⎜⎢                ⎥, (4, 4)⎟\n",
       "⎝⎣   𝟘     {{m_h}}⎦        ⎠"
      ]
     },
     "execution_count": 186,
     "metadata": {},
     "output_type": "execute_result"
    }
   ],
   "source": [
    "Mdiag = BlockMatrix([\n",
    "    [ml, ZeroMatrix(3, 1)],\n",
    "    [ZeroMatrix(1, 3), mh]\n",
    "])\n",
    "\n",
    "\n",
    "Mdiag, Mdiag.shape"
   ]
  },
  {
   "cell_type": "code",
   "execution_count": 188,
   "metadata": {},
   "outputs": [],
   "source": [
    "UMdiagUD = block_collapse(U*Mdiag*UDagger)"
   ]
  },
  {
   "cell_type": "code",
   "execution_count": 189,
   "metadata": {},
   "outputs": [
    {
     "data": {
      "image/png": "[encoded data removed]",
      "text/latex": [
       "$\\displaystyle \\left[\\begin{matrix}{{U_{3\\times3}}} {{m_l}} {{U_{3\\times3}}}^{\\dagger} + {{U_{i4}}} {{m_h}} {{U_{i4}}}^{\\dagger} & {{U_{3\\times3}}} {{m_l}} {{U_{4i}}}^{\\dagger} + {{U_{i4}}} {{m_h}} {{U_{44}}}^{\\dagger}\\\\{{U_{44}}} {{m_h}} {{U_{i4}}}^{\\dagger} + {{U_{4i}}} {{m_l}} {{U_{3\\times3}}}^{\\dagger} & {{U_{44}}} {{m_h}} {{U_{44}}}^{\\dagger} + {{U_{4i}}} {{m_l}} {{U_{4i}}}^{\\dagger}\\end{matrix}\\right]$"
      ],
      "text/plain": [
       "⎡                                         †                                †  \n",
       "⎢{{U_{3\\times3}}}⋅{{m_l}}⋅{{U_{3\\times3}}}  + {{U_{i4}}}⋅{{m_h}}⋅{{U_{i4}}}   \n",
       "⎢                                                                             \n",
       "⎢                                †                                      †     \n",
       "⎣   {{U_{44}}}⋅{{m_h}}⋅{{U_{i4}}}  + {{U_{4i}}}⋅{{m_l}}⋅{{U_{3\\times3}}}      \n",
       "\n",
       "                                   †                                †⎤\n",
       "{{U_{3\\times3}}}⋅{{m_l}}⋅{{U_{4i}}}  + {{U_{i4}}}⋅{{m_h}}⋅{{U_{44}}} ⎥\n",
       "                                                                     ⎥\n",
       "                                †                                †   ⎥\n",
       "   {{U_{44}}}⋅{{m_h}}⋅{{U_{44}}}  + {{U_{4i}}}⋅{{m_l}}⋅{{U_{4i}}}    ⎦"
      ]
     },
     "execution_count": 189,
     "metadata": {},
     "output_type": "execute_result"
    }
   ],
   "source": [
    "UMdiagUD"
   ]
  },
  {
   "cell_type": "code",
   "execution_count": 190,
   "metadata": {},
   "outputs": [
    {
     "data": {
      "image/png": "[encoded data removed]",
      "text/latex": [
       "$\\displaystyle \\left[\\begin{matrix}{{m_{3\\times3}}} & {{m_{i4}}}\\\\{{m_{4i}}} & {{m_{44}}}\\end{matrix}\\right]$"
      ],
      "text/plain": [
       "⎡{{m_{3\\times3}}}  {{m_{i4}}}⎤\n",
       "⎢                            ⎥\n",
       "⎣   {{m_{4i}}}     {{m_{44}}}⎦"
      ]
     },
     "execution_count": 190,
     "metadata": {},
     "output_type": "execute_result"
    }
   ],
   "source": [
    "M"
   ]
  },
  {
   "cell_type": "code",
   "execution_count": 191,
   "metadata": {},
   "outputs": [],
   "source": [
    "eq11 = Eq(M.blocks[0,0], UMdiagUD.blocks[0,0])\n",
    "eq12 = Eq(M.blocks[0,1], UMdiagUD.blocks[0,1])\n",
    "eq21 = Eq(M.blocks[1,0], UMdiagUD.blocks[1,0])\n",
    "eq22 = Eq(M.blocks[1,1], UMdiagUD.blocks[1,1])"
   ]
  },
  {
   "cell_type": "code",
   "execution_count": 192,
   "metadata": {},
   "outputs": [
    {
     "data": {
      "image/png": "[encoded data removed]",
      "text/latex": [
       "$\\displaystyle {{m_{3\\times3}}} = {{U_{3\\times3}}} {{m_l}} {{U_{3\\times3}}}^{\\dagger} + {{U_{i4}}} {{m_h}} {{U_{i4}}}^{\\dagger}$"
      ],
      "text/plain": [
       "                                                            †                 \n",
       "{{m_{3\\times3}}} = {{U_{3\\times3}}}⋅{{m_l}}⋅{{U_{3\\times3}}}  + {{U_{i4}}}⋅{{m\n",
       "\n",
       "               †\n",
       "_h}}⋅{{U_{i4}}} "
      ]
     },
     "metadata": {},
     "output_type": "display_data"
    },
    {
     "data": {
      "image/png": "[encoded data removed]",
      "text/latex": [
       "$\\displaystyle {{m_{i4}}} = {{U_{3\\times3}}} {{m_l}} {{U_{4i}}}^{\\dagger} + {{U_{i4}}} {{m_h}} {{U_{44}}}^{\\dagger}$"
      ],
      "text/plain": [
       "                                                †                             \n",
       "{{m_{i4}}} = {{U_{3\\times3}}}⋅{{m_l}}⋅{{U_{4i}}}  + {{U_{i4}}}⋅{{m_h}}⋅{{U_{44\n",
       "\n",
       "   †\n",
       "}}} "
      ]
     },
     "metadata": {},
     "output_type": "display_data"
    },
    {
     "data": {
      "image/png": "[encoded data removed]",
      "text/latex": [
       "$\\displaystyle {{m_{4i}}} = {{U_{44}}} {{m_h}} {{U_{i4}}}^{\\dagger} + {{U_{4i}}} {{m_l}} {{U_{3\\times3}}}^{\\dagger}$"
      ],
      "text/plain": [
       "                                          †                                   \n",
       "{{m_{4i}}} = {{U_{44}}}⋅{{m_h}}⋅{{U_{i4}}}  + {{U_{4i}}}⋅{{m_l}}⋅{{U_{3\\times3\n",
       "\n",
       "   †\n",
       "}}} "
      ]
     },
     "metadata": {},
     "output_type": "display_data"
    },
    {
     "data": {
      "image/png": "[encoded data removed]",
      "text/latex": [
       "$\\displaystyle {{m_{44}}} = {{U_{44}}} {{m_h}} {{U_{44}}}^{\\dagger} + {{U_{4i}}} {{m_l}} {{U_{4i}}}^{\\dagger}$"
      ],
      "text/plain": [
       "                                          †                                †\n",
       "{{m_{44}}} = {{U_{44}}}⋅{{m_h}}⋅{{U_{44}}}  + {{U_{4i}}}⋅{{m_l}}⋅{{U_{4i}}} "
      ]
     },
     "metadata": {},
     "output_type": "display_data"
    }
   ],
   "source": [
    "for eq in [eq11, eq12, eq21, eq22]:\n",
    "    display(eq)"
   ]
  },
  {
   "cell_type": "code",
   "execution_count": 161,
   "metadata": {},
   "outputs": [
    {
     "data": {
      "image/png": "[encoded data removed]",
      "text/latex": [
       "$\\displaystyle \\left\\{ {{U_{3\\times3}}}^{\\dagger} {{U_{3\\times3}}} : \\mathbb{I}, \\  {{U_{3\\times3}}}^{\\dagger} {{U_{i4}}} : - {{U_{4i}}}^{\\dagger} {{U_{44}}}, \\  {{U_{44}}}^{\\dagger} {{U_{44}}} : \\mathbb{I}, \\  {{U_{44}}}^{\\dagger} {{U_{4i}}} : - {{U_{i4}}}^{\\dagger} {{U_{3\\times3}}}, \\  {{U_{4i}}}^{\\dagger} {{U_{4i}}} : 0, \\  {{U_{i4}}}^{\\dagger} {{U_{i4}}} : 0\\right\\}$"
      ],
      "text/plain": [
       "⎧                †                                      †                     \n",
       "⎨{{U_{3\\times3}}} ⋅{{U_{3\\times3}}}: 𝕀, {{U_{3\\times3}}} ⋅{{U_{i4}}}: -{{U_{4i\n",
       "⎩                                                                             \n",
       "\n",
       "   †                       †                          †                       \n",
       "}}} ⋅{{U_{44}}}, {{U_{44}}} ⋅{{U_{44}}}: 𝕀, {{U_{44}}} ⋅{{U_{4i}}}: -{{U_{i4}}\n",
       "                                                                              \n",
       "\n",
       " †                             †                          †              ⎫\n",
       "} ⋅{{U_{3\\times3}}}, {{U_{4i}}} ⋅{{U_{4i}}}: 𝟘, {{U_{i4}}} ⋅{{U_{i4}}}: 𝟘⎬\n",
       "                                                                         ⎭"
      ]
     },
     "execution_count": 161,
     "metadata": {},
     "output_type": "execute_result"
    }
   ],
   "source": [
    "subs_block_unitarity"
   ]
  },
  {
   "cell_type": "code",
   "execution_count": 162,
   "metadata": {},
   "outputs": [],
   "source": [
    "eq11 = Eq(M.blocks[0,0], block_collapse(UMdiagUD.blocks[0,0].subs(Ui4*mh*Dagger(Ui4), ZeroMatrix(3, 3))))\n",
    "eq12 = Eq(M.blocks[0,1], UMdiagUD.blocks[0,1])\n",
    "eq21 = Eq(M.blocks[1,0], UMdiagUD.blocks[1,0])\n",
    "eq22 = Eq(M.blocks[1,1], UMdiagUD.blocks[1,1])"
   ]
  },
  {
   "cell_type": "code",
   "execution_count": 163,
   "metadata": {},
   "outputs": [
    {
     "data": {
      "image/png": "[encoded data removed]",
      "text/latex": [
       "$\\displaystyle \\left[\\begin{matrix}\\overline{{{U_{i4}}}_{0, 0}} {{U_{i4}}}_{0, 0} {{m_h}}_{0, 0} & \\overline{{{U_{i4}}}_{1, 0}} {{U_{i4}}}_{0, 0} {{m_h}}_{0, 0} & \\overline{{{U_{i4}}}_{2, 0}} {{U_{i4}}}_{0, 0} {{m_h}}_{0, 0}\\\\\\overline{{{U_{i4}}}_{0, 0}} {{U_{i4}}}_{1, 0} {{m_h}}_{0, 0} & \\overline{{{U_{i4}}}_{1, 0}} {{U_{i4}}}_{1, 0} {{m_h}}_{0, 0} & \\overline{{{U_{i4}}}_{2, 0}} {{U_{i4}}}_{1, 0} {{m_h}}_{0, 0}\\\\\\overline{{{U_{i4}}}_{0, 0}} {{U_{i4}}}_{2, 0} {{m_h}}_{0, 0} & \\overline{{{U_{i4}}}_{1, 0}} {{U_{i4}}}_{2, 0} {{m_h}}_{0, 0} & \\overline{{{U_{i4}}}_{2, 0}} {{U_{i4}}}_{2, 0} {{m_h}}_{0, 0}\\end{matrix}\\right]$"
      ],
      "text/plain": [
       "⎡_____________                           _____________                        \n",
       "⎢{{U_{i4}}}_00⋅{{U_{i4}}}_00⋅{{m_h}}_00  {{U_{i4}}}_10⋅{{U_{i4}}}_00⋅{{m_h}}_0\n",
       "⎢                                                                             \n",
       "⎢_____________                           _____________                        \n",
       "⎢{{U_{i4}}}_00⋅{{U_{i4}}}_10⋅{{m_h}}_00  {{U_{i4}}}_10⋅{{U_{i4}}}_10⋅{{m_h}}_0\n",
       "⎢                                                                             \n",
       "⎢_____________                           _____________                        \n",
       "⎣{{U_{i4}}}_00⋅{{U_{i4}}}_20⋅{{m_h}}_00  {{U_{i4}}}_10⋅{{U_{i4}}}_20⋅{{m_h}}_0\n",
       "\n",
       "   _____________                         ⎤\n",
       "0  {{U_{i4}}}_20⋅{{U_{i4}}}_00⋅{{m_h}}_00⎥\n",
       "                                         ⎥\n",
       "   _____________                         ⎥\n",
       "0  {{U_{i4}}}_20⋅{{U_{i4}}}_10⋅{{m_h}}_00⎥\n",
       "                                         ⎥\n",
       "   _____________                         ⎥\n",
       "0  {{U_{i4}}}_20⋅{{U_{i4}}}_20⋅{{m_h}}_00⎦"
      ]
     },
     "execution_count": 163,
     "metadata": {},
     "output_type": "execute_result"
    }
   ],
   "source": [
    "(Ui4*mh*Dagger(Ui4)).as_explicit()"
   ]
  },
  {
   "cell_type": "code",
   "execution_count": 164,
   "metadata": {},
   "outputs": [
    {
     "data": {
      "image/png": "[encoded data removed]",
      "text/latex": [
       "$\\displaystyle \\left[\\begin{matrix}\\overline{{{U_{i4}}}_{0, 0}} {{U_{i4}}}_{0, 0} & \\overline{{{U_{i4}}}_{1, 0}} {{U_{i4}}}_{0, 0} & \\overline{{{U_{i4}}}_{2, 0}} {{U_{i4}}}_{0, 0}\\\\\\overline{{{U_{i4}}}_{0, 0}} {{U_{i4}}}_{1, 0} & \\overline{{{U_{i4}}}_{1, 0}} {{U_{i4}}}_{1, 0} & \\overline{{{U_{i4}}}_{2, 0}} {{U_{i4}}}_{1, 0}\\\\\\overline{{{U_{i4}}}_{0, 0}} {{U_{i4}}}_{2, 0} & \\overline{{{U_{i4}}}_{1, 0}} {{U_{i4}}}_{2, 0} & \\overline{{{U_{i4}}}_{2, 0}} {{U_{i4}}}_{2, 0}\\end{matrix}\\right]$"
      ],
      "text/plain": [
       "⎡_____________                _____________                _____________      \n",
       "⎢{{U_{i4}}}_00⋅{{U_{i4}}}_00  {{U_{i4}}}_10⋅{{U_{i4}}}_00  {{U_{i4}}}_20⋅{{U_{\n",
       "⎢                                                                             \n",
       "⎢_____________                _____________                _____________      \n",
       "⎢{{U_{i4}}}_00⋅{{U_{i4}}}_10  {{U_{i4}}}_10⋅{{U_{i4}}}_10  {{U_{i4}}}_20⋅{{U_{\n",
       "⎢                                                                             \n",
       "⎢_____________                _____________                _____________      \n",
       "⎣{{U_{i4}}}_00⋅{{U_{i4}}}_20  {{U_{i4}}}_10⋅{{U_{i4}}}_20  {{U_{i4}}}_20⋅{{U_{\n",
       "\n",
       "        ⎤\n",
       "i4}}}_00⎥\n",
       "        ⎥\n",
       "        ⎥\n",
       "i4}}}_10⎥\n",
       "        ⎥\n",
       "        ⎥\n",
       "i4}}}_20⎦"
      ]
     },
     "execution_count": 164,
     "metadata": {},
     "output_type": "execute_result"
    }
   ],
   "source": [
    "(Ui4*Dagger(Ui4)).as_explicit()\n"
   ]
  },
  {
   "cell_type": "code",
   "execution_count": 165,
   "metadata": {},
   "outputs": [
    {
     "data": {
      "image/png": "[encoded data removed]",
      "text/latex": [
       "$\\displaystyle \\left[\\begin{matrix}\\overline{{{U_{i4}}}_{0, 0}} {{U_{i4}}}_{0, 0} + \\overline{{{U_{i4}}}_{1, 0}} {{U_{i4}}}_{1, 0} + \\overline{{{U_{i4}}}_{2, 0}} {{U_{i4}}}_{2, 0}\\end{matrix}\\right]$"
      ],
      "text/plain": [
       "⎡_____________                 _____________                 _____________    \n",
       "⎣{{U_{i4}}}_00⋅{{U_{i4}}}_00 + {{U_{i4}}}_10⋅{{U_{i4}}}_10 + {{U_{i4}}}_20⋅{{U\n",
       "\n",
       "          ⎤\n",
       "_{i4}}}_20⎦"
      ]
     },
     "execution_count": 165,
     "metadata": {},
     "output_type": "execute_result"
    }
   ],
   "source": [
    "(Dagger(Ui4)*Ui4).as_explicit()"
   ]
  },
  {
   "cell_type": "code",
   "execution_count": 129,
   "metadata": {},
   "outputs": [
    {
     "data": {
      "image/png": "[encoded data removed]",
      "text/latex": [
       "$\\displaystyle m_{3\\times3} = U_{3\\times3} m_{l} U_{3\\times3}^{\\dagger}$"
      ],
      "text/plain": [
       "                                           †\n",
       "m_{3\\times3} = U_{3\\times3}⋅mₗ⋅U_{3\\times3} "
      ]
     },
     "metadata": {},
     "output_type": "display_data"
    },
    {
     "data": {
      "image/png": "[encoded data removed]",
      "text/latex": [
       "$\\displaystyle m_{i4} = U_{3\\times3} m_{l} U_{4i}^{\\dagger} + U_{i4} m_{h} U_{44}^{\\dagger}$"
      ],
      "text/plain": [
       "                               †                   †\n",
       "m_{i4} = U_{3\\times3}⋅mₗ⋅U_{4i}  + U_{i4}⋅mₕ⋅U_{44} "
      ]
     },
     "metadata": {},
     "output_type": "display_data"
    },
    {
     "data": {
      "image/png": "[encoded data removed]",
      "text/latex": [
       "$\\displaystyle m_{4i} = U_{44} m_{h} U_{i4}^{\\dagger} + U_{4i} m_{l} U_{3\\times3}^{\\dagger}$"
      ],
      "text/plain": [
       "                         †                         †\n",
       "m_{4i} = U_{44}⋅mₕ⋅U_{i4}  + U_{4i}⋅mₗ⋅U_{3\\times3} "
      ]
     },
     "metadata": {},
     "output_type": "display_data"
    },
    {
     "data": {
      "image/png": "[encoded data removed]",
      "text/latex": [
       "$\\displaystyle m_{44} = U_{44} m_{h} U_{44}^{\\dagger} + U_{4i} m_{l} U_{4i}^{\\dagger}$"
      ],
      "text/plain": [
       "                         †                   †\n",
       "m_{44} = U_{44}⋅mₕ⋅U_{44}  + U_{4i}⋅mₗ⋅U_{4i} "
      ]
     },
     "metadata": {},
     "output_type": "display_data"
    }
   ],
   "source": [
    "for eq in [eq11, eq12, eq21, eq22]:\n",
    "    display(eq)"
   ]
  },
  {
   "cell_type": "markdown",
   "metadata": {},
   "source": [
    "Then we obtain the following relations"
   ]
  },
  {
   "cell_type": "code",
   "execution_count": 130,
   "metadata": {},
   "outputs": [
    {
     "data": {
      "image/png": "[encoded data removed]",
      "text/latex": [
       "$\\displaystyle m_{l} = U_{3\\times3}^{\\dagger} m_{3\\times3} U_{3\\times3}$"
      ],
      "text/plain": [
       "                 †                          \n",
       "mₗ = U_{3\\times3} ⋅m_{3\\times3}⋅U_{3\\times3}"
      ]
     },
     "execution_count": 130,
     "metadata": {},
     "output_type": "execute_result"
    }
   ],
   "source": [
    "eq_ml = Eq(ml, Dagger(U33)*m33*U33)\n",
    "eq_ml"
   ]
  },
  {
   "cell_type": "code",
   "execution_count": null,
   "metadata": {},
   "outputs": [],
   "source": []
  }
 ],
 "metadata": {
  "kernelspec": {
   "display_name": "py37",
   "language": "python",
   "name": "python3"
  },
  "language_info": {
   "codemirror_mode": {
    "name": "ipython",
    "version": 3
   },
   "file_extension": ".py",
   "mimetype": "text/x-python",
   "name": "python",
   "nbconvert_exporter": "python",
   "pygments_lexer": "ipython3",
   "version": "3.7.12"
  }
 },
 "nbformat": 4,
 "nbformat_minor": 2
}
