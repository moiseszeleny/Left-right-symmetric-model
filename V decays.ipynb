{
 "cells": [
  {
   "cell_type": "code",
   "execution_count": 1,
   "metadata": {
    "Collapsed": "false",
    "slideshow": {
     "slide_type": "subslide"
    }
   },
   "outputs": [],
   "source": [
    "from sympy import init_printing, symbols, sqrt, Add, eye, factor, simplify\n",
    "init_printing()"
   ]
  },
  {
   "cell_type": "code",
   "execution_count": 2,
   "metadata": {
    "Collapsed": "false",
    "slideshow": {
     "slide_type": "subslide"
    }
   },
   "outputs": [],
   "source": [
    "from kinematics import V3D, FV, SpinorU, SpinorV\n",
    "from sympy import sin, cos, I, pi, acos, atan\n",
    "from sympy import Dummy, Abs, Interval, solveset, solve\n",
    "from sympy.physics.matrices import mgamma\n",
    "from sympy.physics.quantum.dagger import Dagger"
   ]
  },
  {
   "cell_type": "markdown",
   "metadata": {},
   "source": [
    "## W decay into leptons"
   ]
  },
  {
   "cell_type": "markdown",
   "metadata": {},
   "source": [
    "### kinematics"
   ]
  },
  {
   "cell_type": "code",
   "execution_count": 3,
   "metadata": {},
   "outputs": [],
   "source": [
    "mW = symbols('m_W', positive=True)\n",
    "E = symbols(r'E', positive=True)\n",
    "th = V3D.th\n",
    "phi = V3D.phi"
   ]
  },
  {
   "cell_type": "code",
   "execution_count": 4,
   "metadata": {},
   "outputs": [],
   "source": [
    "px, py, pz = E*sin(th), 0, E*cos(th)\n",
    "p3 = V3D(px, py, pz)\n",
    "p4 = V3D(-px, py, -pz)\n"
   ]
  },
  {
   "cell_type": "code",
   "execution_count": 5,
   "metadata": {},
   "outputs": [
    {
     "data": {
      "image/png": "[encoded data removed]",
      "text/latex": [
       "$\\displaystyle \\left( \\operatorname{V3D}\\left(E \\sin{\\left(\\theta \\right)}, 0, E \\cos{\\left(\\theta \\right)}\\right), \\  \\operatorname{V3D}\\left(- E \\sin{\\left(\\theta \\right)}, 0, - E \\cos{\\left(\\theta \\right)}\\right)\\right)$"
      ],
      "text/plain": [
       "((E \\sin{\\left(\\theta \\right)},0,E \\cos{\\left(\\theta \\right)}), (- E \\sin{\\lef\n",
       "t(\\theta \\right)},0,- E \\cos{\\left(\\theta \\right)}))"
      ]
     },
     "execution_count": 5,
     "metadata": {},
     "output_type": "execute_result"
    }
   ],
   "source": [
    "p3.polarform(phi=0).simplify(), p4.polarform(phi=pi, th=pi - th).simplify()\n"
   ]
  },
  {
   "cell_type": "code",
   "execution_count": 6,
   "metadata": {},
   "outputs": [
    {
     "data": {
      "image/png": "[encoded data removed]",
      "text/latex": [
       "$\\displaystyle E$"
      ],
      "text/plain": [
       "E"
      ]
     },
     "execution_count": 6,
     "metadata": {},
     "output_type": "execute_result"
    }
   ],
   "source": [
    "r = abs(p3).simplify()\n",
    "r"
   ]
  },
  {
   "cell_type": "code",
   "execution_count": 7,
   "metadata": {},
   "outputs": [
    {
     "data": {
      "image/png": "[encoded data removed]",
      "text/latex": [
       "$\\displaystyle 0$"
      ],
      "text/plain": [
       "0"
      ]
     },
     "execution_count": 7,
     "metadata": {},
     "output_type": "execute_result"
    }
   ],
   "source": [
    "atan(p3.py/p3.px)"
   ]
  },
  {
   "cell_type": "code",
   "execution_count": 8,
   "metadata": {},
   "outputs": [
    {
     "data": {
      "image/png": "[encoded data removed]",
      "text/latex": [
       "$\\displaystyle \\theta \\leq \\pi$"
      ],
      "text/plain": [
       "\\theta ≤ π"
      ]
     },
     "execution_count": 8,
     "metadata": {},
     "output_type": "execute_result"
    }
   ],
   "source": [
    "th_domain = Interval(0, pi)\n",
    "th_domain.as_relational(th)"
   ]
  },
  {
   "cell_type": "code",
   "execution_count": 9,
   "metadata": {},
   "outputs": [
    {
     "data": {
      "image/png": "[encoded data removed]",
      "text/latex": [
       "$\\displaystyle \\left[0, \\pi\\right]$"
      ],
      "text/plain": [
       "[0, π]"
      ]
     },
     "execution_count": 9,
     "metadata": {},
     "output_type": "execute_result"
    }
   ],
   "source": [
    "th_domain.closure"
   ]
  },
  {
   "cell_type": "code",
   "execution_count": 10,
   "metadata": {},
   "outputs": [
    {
     "data": {
      "image/png": "[encoded data removed]",
      "text/latex": [
       "$\\displaystyle \\operatorname{acos}{\\left(\\cos{\\left(\\theta \\right)} \\right)}$"
      ],
      "text/plain": [
       "acos(cos(\\theta))"
      ]
     },
     "execution_count": 10,
     "metadata": {},
     "output_type": "execute_result"
    }
   ],
   "source": [
    "th1 = acos(p3.pz/r).simplify()\n",
    "th1"
   ]
  },
  {
   "cell_type": "code",
   "execution_count": 11,
   "metadata": {},
   "outputs": [
    {
     "data": {
      "image/png": "[encoded data removed]",
      "text/latex": [
       "$\\displaystyle \\left[0, \\pi\\right]$"
      ],
      "text/plain": [
       "[0, π]"
      ]
     },
     "execution_count": 11,
     "metadata": {},
     "output_type": "execute_result"
    }
   ],
   "source": [
    "new_th_domain = solveset(acos(p3.pz/r) - acos(p3.pz/r).simplify(), th, domain=th_domain)\n",
    "new_th_domain"
   ]
  },
  {
   "cell_type": "code",
   "execution_count": 12,
   "metadata": {},
   "outputs": [
    {
     "data": {
      "image/png": "[encoded data removed]",
      "text/latex": [
       "$\\displaystyle \\theta \\leq \\pi$"
      ],
      "text/plain": [
       "\\theta ≤ π"
      ]
     },
     "execution_count": 12,
     "metadata": {},
     "output_type": "execute_result"
    }
   ],
   "source": [
    "new_th_domain.as_relational(th)"
   ]
  },
  {
   "cell_type": "code",
   "execution_count": 13,
   "metadata": {},
   "outputs": [],
   "source": [
    "pmu1 = FV(mW, 0, 0, 0)\n",
    "pmu3 = FV(E, p3.px, p3.py, p3.pz)\n",
    "pmu4 = FV(E, p4.px, p4.py, p4.pz)"
   ]
  },
  {
   "cell_type": "code",
   "execution_count": 14,
   "metadata": {},
   "outputs": [
    {
     "data": {
      "image/png": "[encoded data removed]",
      "text/latex": [
       "$\\displaystyle \\left( \\operatorname{FV}\\left(E, E \\sin{\\left(\\theta \\right)}, 0, E \\cos{\\left(\\theta \\right)}\\right), \\  \\operatorname{FV}\\left(E, - E \\sin{\\left(\\theta \\right)}, 0, - E \\cos{\\left(\\theta \\right)}\\right)\\right)$"
      ],
      "text/plain": [
       "((E,E \\sin{\\left(\\theta \\right)},0,E \\cos{\\left(\\theta \\right)}), (E,- E \\sin{\n",
       "\\left(\\theta \\right)},0,- E \\cos{\\left(\\theta \\right)}))"
      ]
     },
     "execution_count": 14,
     "metadata": {},
     "output_type": "execute_result"
    }
   ],
   "source": [
    "pmu3, pmu4"
   ]
  },
  {
   "cell_type": "code",
   "execution_count": 15,
   "metadata": {},
   "outputs": [
    {
     "data": {
      "image/png": "[encoded data removed]",
      "text/latex": [
       "$\\displaystyle \\left[\\begin{matrix}4 & 0 & 0 & 0\\\\0 & 4 & 0 & 0\\\\0 & 0 & 4 & 0\\\\0 & 0 & 0 & 4\\end{matrix}\\right]$"
      ],
      "text/plain": [
       "⎡4  0  0  0⎤\n",
       "⎢          ⎥\n",
       "⎢0  4  0  0⎥\n",
       "⎢          ⎥\n",
       "⎢0  0  4  0⎥\n",
       "⎢          ⎥\n",
       "⎣0  0  0  4⎦"
      ]
     },
     "execution_count": 15,
     "metadata": {},
     "output_type": "execute_result"
    }
   ],
   "source": [
    "Add(*[mgamma(mu)*mgamma(mu, lower=True) for mu in range(4)])"
   ]
  },
  {
   "cell_type": "markdown",
   "metadata": {},
   "source": [
    "### Massive vector polarizations along the z axis"
   ]
  },
  {
   "cell_type": "code",
   "execution_count": 16,
   "metadata": {},
   "outputs": [],
   "source": [
    "eps_minus = FV(0, 1/sqrt(2), -I/sqrt(2), 0)\n",
    "eps_L = FV(0, 0, 0, 1) # W boson at rest\n",
    "eps_plus = FV(0, -1/sqrt(2), -I/sqrt(2), 0)"
   ]
  },
  {
   "cell_type": "code",
   "execution_count": 17,
   "metadata": {},
   "outputs": [],
   "source": [
    "def polarization(type):\n",
    "    if type == 1:\n",
    "        out = eps_plus\n",
    "    elif type == -1:\n",
    "        out = eps_minus\n",
    "    elif type == 0:\n",
    "        out = eps_L\n",
    "    else:\n",
    "        raise ValueError(\"type must be 1, -1 or 0\")\n",
    "    return out"
   ]
  },
  {
   "cell_type": "code",
   "execution_count": 18,
   "metadata": {},
   "outputs": [],
   "source": [
    "ml, mnu = symbols(r'm_\\ell, m_\\nu', positive=True)\n",
    "u3 = lambda s3:SpinorU(pmu3, ml, s3)\n",
    "v4 = lambda s4:SpinorV(pmu4, mnu, s4)\n",
    "I4x4 = eye(4)"
   ]
  },
  {
   "cell_type": "code",
   "execution_count": 19,
   "metadata": {},
   "outputs": [],
   "source": [
    "\n",
    "positive_l_plus = Dummy(positive=True)\n",
    "positive_l_minus = Dummy(positive=True)\n",
    "\n",
    "positive_nu_plus = Dummy(positive=True)\n",
    "positive_nu_minus = Dummy(positive=True)"
   ]
  },
  {
   "cell_type": "code",
   "execution_count": 20,
   "metadata": {},
   "outputs": [
    {
     "data": {
      "image/png": "[encoded data removed]",
      "text/latex": [
       "$\\displaystyle \\operatorname{FV}\\left(E, E \\sin{\\left(\\theta \\right)}, 0, E \\cos{\\left(\\theta \\right)}\\right)$"
      ],
      "text/plain": [
       "(E,E \\sin{\\left(\\theta \\right)},0,E \\cos{\\left(\\theta \\right)})"
      ]
     },
     "execution_count": 20,
     "metadata": {},
     "output_type": "execute_result"
    }
   ],
   "source": [
    "pmu3"
   ]
  },
  {
   "cell_type": "code",
   "execution_count": 21,
   "metadata": {},
   "outputs": [
    {
     "data": {
      "image/png": "[encoded data removed]",
      "text/latex": [
       "$\\displaystyle 2 \\sqrt{E^{2} - m_{\\ell}^{2}} \\cos{\\left(\\theta \\right)}$"
      ],
      "text/plain": [
       "     ______________            \n",
       "    ╱  2         2             \n",
       "2⋅╲╱  E  - m_\\ell  ⋅cos(\\theta)"
      ]
     },
     "execution_count": 21,
     "metadata": {},
     "output_type": "execute_result"
    }
   ],
   "source": [
    "(u3(1).adj()*mgamma(3)*u3(1).matrixform())[0].subs(\n",
    "        {\n",
    "            E + ml:positive_l_plus,\n",
    "            E - ml: positive_l_minus\n",
    "        }\n",
    "        ).subs(\n",
    "            {\n",
    "                positive_l_plus: E + ml,\n",
    "                positive_l_minus: E - ml\n",
    "            }\n",
    "            ).simplify().subs(acos(cos(th)), th)"
   ]
  },
  {
   "cell_type": "code",
   "execution_count": 22,
   "metadata": {},
   "outputs": [],
   "source": [
    "helicities = [1, -1]"
   ]
  },
  {
   "cell_type": "code",
   "execution_count": 23,
   "metadata": {},
   "outputs": [
    {
     "data": {
      "image/png": "[encoded data removed]",
      "text/latex": [
       "$\\displaystyle \\left[\\begin{matrix}\\left(1 - \\sin{\\left(\\theta \\right)}\\right) \\left(E + m_{\\ell}\\right) & \\left(E + m_{\\ell}\\right) \\cos{\\left(\\theta \\right)} & - E \\cos{\\left(\\theta \\right)} & E \\left(1 - \\sin{\\left(\\theta \\right)}\\right)\\\\\\left(E + m_{\\ell}\\right) \\cos{\\left(\\theta \\right)} & \\left(E + m_{\\ell}\\right) \\left(\\sin{\\left(\\theta \\right)} + 1\\right) & - E \\left(\\sin{\\left(\\theta \\right)} + 1\\right) & E \\cos{\\left(\\theta \\right)}\\\\E \\cos{\\left(\\theta \\right)} & E \\left(\\sin{\\left(\\theta \\right)} + 1\\right) & - E \\sin{\\left(\\theta \\right)} - E + m_{\\ell} \\sin{\\left(\\theta \\right)} + m_{\\ell} & \\left(E - m_{\\ell}\\right) \\cos{\\left(\\theta \\right)}\\\\E \\left(\\sin{\\left(\\theta \\right)} - 1\\right) & - E \\cos{\\left(\\theta \\right)} & \\left(E - m_{\\ell}\\right) \\cos{\\left(\\theta \\right)} & E \\sin{\\left(\\theta \\right)} - E - m_{\\ell} \\sin{\\left(\\theta \\right)} + m_{\\ell}\\end{matrix}\\right]$"
      ],
      "text/plain": [
       "⎡(1 - sin(\\theta))⋅(E + m_\\ell)     (E + m_\\ell)⋅cos(\\theta)                  \n",
       "⎢                                                                             \n",
       "⎢   (E + m_\\ell)⋅cos(\\theta)     (E + m_\\ell)⋅(sin(\\theta) + 1)               \n",
       "⎢                                                                             \n",
       "⎢        E⋅cos(\\theta)                E⋅(sin(\\theta) + 1)        -E⋅sin(\\theta\n",
       "⎢                                                                             \n",
       "⎣     E⋅(sin(\\theta) - 1)                -E⋅cos(\\theta)                      (\n",
       "\n",
       "    -E⋅cos(\\theta)                                 E⋅(1 - sin(\\theta))        \n",
       "                                                                              \n",
       " -E⋅(sin(\\theta) + 1)                                 E⋅cos(\\theta)           \n",
       "                                                                              \n",
       ") - E + m_\\ell⋅sin(\\theta) + m_\\ell             (E - m_\\ell)⋅cos(\\theta)      \n",
       "                                                                              \n",
       "E - m_\\ell)⋅cos(\\theta)              E⋅sin(\\theta) - E - m_\\ell⋅sin(\\theta) + \n",
       "\n",
       "      ⎤\n",
       "      ⎥\n",
       "      ⎥\n",
       "      ⎥\n",
       "      ⎥\n",
       "      ⎥\n",
       "m_\\ell⎦"
      ]
     },
     "execution_count": 23,
     "metadata": {},
     "output_type": "execute_result"
    }
   ],
   "source": [
    "Add(*[(u3(s3).matrixform()*u3(s4).adj()) for s3 in helicities for s4 in helicities]\n",
    "    ).subs(\n",
    "        {\n",
    "            E + ml:positive_l_plus,\n",
    "            E - ml: positive_l_minus\n",
    "        }\n",
    "        ).subs(\n",
    "            {\n",
    "                positive_l_plus: E + ml,\n",
    "                positive_l_minus: E - ml\n",
    "            }\n",
    "            ).subs(acos(cos(th)), th).simplify().subs(\n",
    "    sqrt(E**2 - ml**2), E\n",
    ")"
   ]
  },
  {
   "cell_type": "code",
   "execution_count": 24,
   "metadata": {},
   "outputs": [
    {
     "data": {
      "text/plain": [
       "True"
      ]
     },
     "execution_count": 24,
     "metadata": {},
     "output_type": "execute_result"
    }
   ],
   "source": [
    "g = (\n",
    "    (u3(1).matrixform()*u3(1).adj()).subs(acos(cos(th)), th) + \n",
    "    (u3(-1).matrixform()*u3(-1).adj()).subs(acos(cos(th)), th)\n",
    ").subs(\n",
    "        {\n",
    "            E + ml:positive_l_plus,\n",
    "            E - ml: positive_l_minus\n",
    "        }\n",
    "        ).subs(\n",
    "            {\n",
    "                positive_l_plus: E + ml,\n",
    "                positive_l_minus: E - ml\n",
    "            }\n",
    "        )\n",
    "simplify(g).subs(\n",
    "    sqrt(E**2 - ml**2), E\n",
    ") == pmu3.slash() + ml*I4x4"
   ]
  },
  {
   "cell_type": "code",
   "execution_count": 25,
   "metadata": {},
   "outputs": [
    {
     "data": {
      "image/png": "[encoded data removed]",
      "text/latex": [
       "$\\displaystyle \\left[\\begin{matrix}E - m_{\\nu} & 0 & E \\cos{\\left(\\theta \\right)} & E \\sin{\\left(\\theta \\right)}\\\\0 & E - m_{\\nu} & E \\sin{\\left(\\theta \\right)} & - E \\cos{\\left(\\theta \\right)}\\\\- E \\cos{\\left(\\theta \\right)} & - E \\sin{\\left(\\theta \\right)} & - E - m_{\\nu} & 0\\\\- E \\sin{\\left(\\theta \\right)} & E \\cos{\\left(\\theta \\right)} & 0 & - E - m_{\\nu}\\end{matrix}\\right]$"
      ],
      "text/plain": [
       "⎡  E - m_\\nu           0         E⋅cos(\\theta)  E⋅sin(\\theta) ⎤\n",
       "⎢                                                             ⎥\n",
       "⎢      0           E - m_\\nu     E⋅sin(\\theta)  -E⋅cos(\\theta)⎥\n",
       "⎢                                                             ⎥\n",
       "⎢-E⋅cos(\\theta)  -E⋅sin(\\theta)   -E - m_\\nu          0       ⎥\n",
       "⎢                                                             ⎥\n",
       "⎣-E⋅sin(\\theta)  E⋅cos(\\theta)         0          -E - m_\\nu  ⎦"
      ]
     },
     "execution_count": 25,
     "metadata": {},
     "output_type": "execute_result"
    }
   ],
   "source": [
    "g = (\n",
    "    (v4(1).matrixform()*v4(1).adj()).subs(acos(-cos(th)), th + pi) + \n",
    "    (v4(-1).matrixform()*v4(-1).adj()).subs(acos(-cos(th)), th + pi)\n",
    ").subs(\n",
    "        {\n",
    "            E + mnu:positive_nu_plus,\n",
    "            E - mnu: positive_nu_minus\n",
    "        }\n",
    "        ).subs(\n",
    "            {\n",
    "                positive_nu_plus: E + mnu,\n",
    "                positive_nu_minus: E - mnu\n",
    "            }\n",
    "        )\n",
    "simplify(g).subs(\n",
    "    sqrt(E**2 - mnu**2), E\n",
    ") #== pmu4.slash() - mnu*I4x4"
   ]
  },
  {
   "cell_type": "code",
   "execution_count": 26,
   "metadata": {},
   "outputs": [
    {
     "data": {
      "image/png": "[encoded data removed]",
      "text/latex": [
       "$\\displaystyle \\left[\\begin{matrix}E - m_{\\nu} & 0 & E \\cos{\\left(\\theta \\right)} & E \\sin{\\left(\\theta \\right)}\\\\0 & E - m_{\\nu} & E \\sin{\\left(\\theta \\right)} & - E \\cos{\\left(\\theta \\right)}\\\\- E \\cos{\\left(\\theta \\right)} & - E \\sin{\\left(\\theta \\right)} & - E - m_{\\nu} & 0\\\\- E \\sin{\\left(\\theta \\right)} & E \\cos{\\left(\\theta \\right)} & 0 & - E - m_{\\nu}\\end{matrix}\\right]$"
      ],
      "text/plain": [
       "⎡  E - m_\\nu           0         E⋅cos(\\theta)  E⋅sin(\\theta) ⎤\n",
       "⎢                                                             ⎥\n",
       "⎢      0           E - m_\\nu     E⋅sin(\\theta)  -E⋅cos(\\theta)⎥\n",
       "⎢                                                             ⎥\n",
       "⎢-E⋅cos(\\theta)  -E⋅sin(\\theta)   -E - m_\\nu          0       ⎥\n",
       "⎢                                                             ⎥\n",
       "⎣-E⋅sin(\\theta)  E⋅cos(\\theta)         0          -E - m_\\nu  ⎦"
      ]
     },
     "execution_count": 26,
     "metadata": {},
     "output_type": "execute_result"
    }
   ],
   "source": [
    "pmu4.slash() - mnu*I4x4"
   ]
  },
  {
   "cell_type": "code",
   "execution_count": 27,
   "metadata": {},
   "outputs": [
    {
     "data": {
      "image/png": "[encoded data removed]",
      "text/latex": [
       "$\\displaystyle - \\sqrt{E - m_{\\ell}} \\sqrt{E + m_{\\nu}} + \\sqrt{E + m_{\\ell}} \\sqrt{E - m_{\\nu}}$"
      ],
      "text/plain": [
       "    ____________   ___________     ____________   ___________\n",
       "- ╲╱ E - m_\\ell ⋅╲╱ E + m_\\nu  + ╲╱ E + m_\\ell ⋅╲╱ E - m_\\nu "
      ]
     },
     "execution_count": 27,
     "metadata": {},
     "output_type": "execute_result"
    }
   ],
   "source": [
    "Jmu = lambda nu, s3, s4: (\n",
    "    (u3(s3).adj()*mgamma(nu, lower=True)*v4(s4).matrixform())\n",
    "    )[0].subs(acos(cos(th)), th).subs(acos(-cos(th)), th + pi).subs(\n",
    "        {\n",
    "            E + ml:positive_l_plus,\n",
    "            E - ml: positive_l_minus\n",
    "        }\n",
    "        ).subs(\n",
    "            {\n",
    "                positive_l_plus: E + ml,\n",
    "                positive_l_minus: E - ml\n",
    "            }\n",
    "        )\n",
    "Jmu(0,1,1).simplify() #I4x4 - mgamma(5)"
   ]
  },
  {
   "cell_type": "code",
   "execution_count": 28,
   "metadata": {},
   "outputs": [
    {
     "data": {
      "image/png": "[encoded data removed]",
      "text/latex": [
       "$\\displaystyle 0$"
      ],
      "text/plain": [
       "0"
      ]
     },
     "metadata": {},
     "output_type": "display_data"
    },
    {
     "data": {
      "image/png": "[encoded data removed]",
      "text/latex": [
       "$\\displaystyle 2 E \\cos{\\left(\\theta \\right)}$"
      ],
      "text/plain": [
       "2⋅E⋅cos(\\theta)"
      ]
     },
     "metadata": {},
     "output_type": "display_data"
    },
    {
     "data": {
      "image/png": "[encoded data removed]",
      "text/latex": [
       "$\\displaystyle 2 i E$"
      ],
      "text/plain": [
       "2⋅ⅈ⋅E"
      ]
     },
     "metadata": {},
     "output_type": "display_data"
    },
    {
     "data": {
      "image/png": "[encoded data removed]",
      "text/latex": [
       "$\\displaystyle - 2 E \\sin{\\left(\\theta \\right)}$"
      ],
      "text/plain": [
       "-2⋅E⋅sin(\\theta)"
      ]
     },
     "metadata": {},
     "output_type": "display_data"
    }
   ],
   "source": [
    "for mu in range(4):\n",
    "    display(Jmu(mu,-1,1).subs(ml,0).subs(mnu,0).simplify())"
   ]
  },
  {
   "cell_type": "code",
   "execution_count": 29,
   "metadata": {},
   "outputs": [
    {
     "data": {
      "image/png": "[encoded data removed]",
      "text/latex": [
       "$\\displaystyle 4 E \\cos{\\left(\\theta \\right)}$"
      ],
      "text/plain": [
       "4⋅E⋅cos(\\theta)"
      ]
     },
     "execution_count": 29,
     "metadata": {},
     "output_type": "execute_result"
    }
   ],
   "source": [
    "(\n",
    "    Jmu(1, 1, 1) + \n",
    "    Jmu(1, 1, -1) + \n",
    "    Jmu(1, -1, 1) + \n",
    "    Jmu(1, -1, -1)\n",
    "    ).subs(acos(-cos(th)), th).simplify().subs(ml,0).subs(mnu,0).simplify()"
   ]
  },
  {
   "cell_type": "code",
   "execution_count": 30,
   "metadata": {},
   "outputs": [],
   "source": [
    "gW = symbols('g_W', positive=True)\n",
    "def M_polarization(pol_type, J):\n",
    "    eps = polarization(pol_type).matrixform()\n",
    "    factor = gW/sqrt(2)\n",
    "    J0 = eps[0]*Jmu(0,-1,1)#.subs(ml,0).subs(mnu,0)\n",
    "    J1 = eps[1]*Jmu(1,-1,1)#.subs(ml,0).subs(mnu,0)\n",
    "    J2 = eps[2]*Jmu(2,-1,1)#.subs(ml,0).subs(mnu,0)\n",
    "    J3 = eps[3]*Jmu(3,-1,1)#.subs(ml,0).subs(mnu,0)\n",
    "    return factor*(J0 + J1 + J2 + J3)"
   ]
  },
  {
   "cell_type": "code",
   "execution_count": 31,
   "metadata": {},
   "outputs": [],
   "source": [
    "high_energy_limit = {\n",
    "                    ml:0, mnu:0\n",
    "                }"
   ]
  },
  {
   "cell_type": "code",
   "execution_count": 32,
   "metadata": {},
   "outputs": [],
   "source": [
    "M_plus = M_polarization(1,Jmu).subs(E, mW/2).simplify()\n",
    "M_L = M_polarization(0,Jmu).subs(E, mW/2).simplify()\n",
    "M_minus = M_polarization(-1,Jmu).subs(E, mW/2).simplify()"
   ]
  },
  {
   "cell_type": "code",
   "execution_count": 33,
   "metadata": {},
   "outputs": [],
   "source": [
    "from sympy.simplify.fu import TR8"
   ]
  },
  {
   "cell_type": "code",
   "execution_count": 34,
   "metadata": {},
   "outputs": [
    {
     "data": {
      "image/png": "[encoded data removed]",
      "text/latex": [
       "$\\displaystyle \\frac{\\cos{\\left(\\theta \\right)}}{2} + \\frac{1}{2}$"
      ],
      "text/plain": [
       "cos(\\theta)   1\n",
       "─────────── + ─\n",
       "     2        2"
      ]
     },
     "execution_count": 34,
     "metadata": {},
     "output_type": "execute_result"
    }
   ],
   "source": [
    "TR8(cos(th/2)**2)"
   ]
  },
  {
   "cell_type": "code",
   "execution_count": 35,
   "metadata": {},
   "outputs": [
    {
     "data": {
      "image/png": "[encoded data removed]",
      "text/latex": [
       "$\\displaystyle \\frac{1}{2} - \\frac{\\cos{\\left(\\theta \\right)}}{2}$"
      ],
      "text/plain": [
       "1   cos(\\theta)\n",
       "─ - ───────────\n",
       "2        2     "
      ]
     },
     "execution_count": 35,
     "metadata": {},
     "output_type": "execute_result"
    }
   ],
   "source": [
    "TR8(sin(th/2)**2)"
   ]
  },
  {
   "cell_type": "code",
   "execution_count": 36,
   "metadata": {},
   "outputs": [
    {
     "data": {
      "image/png": "[encoded data removed]",
      "text/latex": [
       "$\\displaystyle \\frac{g_{W}^{2} \\left(\\sqrt{m_{W} - 2 m_{\\ell}} \\sqrt{m_{W} - 2 m_{\\nu}} + \\sqrt{m_{W} + 2 m_{\\ell}} \\sqrt{m_{W} + 2 m_{\\nu}}\\right)^{2} \\left(\\cos{\\left(\\theta \\right)} + 1\\right)^{2}}{16}$"
      ],
      "text/plain": [
       "                                                                              \n",
       "   2 ⎛  ________________   _______________     ________________   ____________\n",
       "g_W ⋅⎝╲╱ m_W - 2⋅m_\\ell ⋅╲╱ m_W - 2⋅m_\\nu  + ╲╱ m_W + 2⋅m_\\ell ⋅╲╱ m_W + 2⋅m_\\\n",
       "──────────────────────────────────────────────────────────────────────────────\n",
       "                                                  16                          \n",
       "\n",
       "    2                   \n",
       "___⎞                   2\n",
       "nu ⎠ ⋅(cos(\\theta) + 1) \n",
       "────────────────────────\n",
       "                        "
      ]
     },
     "execution_count": 36,
     "metadata": {},
     "output_type": "execute_result"
    }
   ],
   "source": [
    "M_minus_square = TR8(M_minus).factor()**2\n",
    "M_minus_square"
   ]
  },
  {
   "cell_type": "code",
   "execution_count": 37,
   "metadata": {},
   "outputs": [
    {
     "data": {
      "image/png": "[encoded data removed]",
      "text/latex": [
       "$\\displaystyle \\frac{g_{W}^{2} \\left(\\sqrt{m_{W} - 2 m_{\\ell}} \\sqrt{m_{W} - 2 m_{\\nu}} + \\sqrt{m_{W} + 2 m_{\\ell}} \\sqrt{m_{W} + 2 m_{\\nu}}\\right)^{2} \\sin^{2}{\\left(\\theta \\right)}}{8}$"
      ],
      "text/plain": [
       "                                                                              \n",
       "   2 ⎛  ________________   _______________     ________________   ____________\n",
       "g_W ⋅⎝╲╱ m_W - 2⋅m_\\ell ⋅╲╱ m_W - 2⋅m_\\nu  + ╲╱ m_W + 2⋅m_\\ell ⋅╲╱ m_W + 2⋅m_\\\n",
       "──────────────────────────────────────────────────────────────────────────────\n",
       "                                               8                              \n",
       "\n",
       "    2             \n",
       "___⎞     2        \n",
       "nu ⎠ ⋅sin (\\theta)\n",
       "──────────────────\n",
       "                  "
      ]
     },
     "execution_count": 37,
     "metadata": {},
     "output_type": "execute_result"
    }
   ],
   "source": [
    "M_L_square = M_L.factor()**2\n",
    "M_L_square\n"
   ]
  },
  {
   "cell_type": "code",
   "execution_count": 38,
   "metadata": {},
   "outputs": [
    {
     "data": {
      "image/png": "[encoded data removed]",
      "text/latex": [
       "$\\displaystyle \\frac{g_{W}^{2} \\left(\\sqrt{m_{W} - 2 m_{\\ell}} \\sqrt{m_{W} - 2 m_{\\nu}} + \\sqrt{m_{W} + 2 m_{\\ell}} \\sqrt{m_{W} + 2 m_{\\nu}}\\right)^{2} \\left(\\cos{\\left(\\theta \\right)} - 1\\right)^{2}}{16}$"
      ],
      "text/plain": [
       "                                                                              \n",
       "   2 ⎛  ________________   _______________     ________________   ____________\n",
       "g_W ⋅⎝╲╱ m_W - 2⋅m_\\ell ⋅╲╱ m_W - 2⋅m_\\nu  + ╲╱ m_W + 2⋅m_\\ell ⋅╲╱ m_W + 2⋅m_\\\n",
       "──────────────────────────────────────────────────────────────────────────────\n",
       "                                                  16                          \n",
       "\n",
       "    2                   \n",
       "___⎞                   2\n",
       "nu ⎠ ⋅(cos(\\theta) - 1) \n",
       "────────────────────────\n",
       "                        "
      ]
     },
     "execution_count": 38,
     "metadata": {},
     "output_type": "execute_result"
    }
   ],
   "source": [
    "M_plus_square = TR8(M_plus).factor()**2\n",
    "M_plus_square"
   ]
  },
  {
   "cell_type": "code",
   "execution_count": 39,
   "metadata": {},
   "outputs": [],
   "source": [
    "from sympy import integrate"
   ]
  },
  {
   "cell_type": "code",
   "execution_count": 40,
   "metadata": {},
   "outputs": [],
   "source": [
    "Ga_minus = integrate(\n",
    "    M_minus_square.subs(E, mW/2)*sin(th), (th, 0, pi), (phi, 0, 2*pi))\n",
    "Ga_L = integrate(\n",
    "    M_L_square.subs(E, mW/2)*sin(th), (th, 0, pi), (phi, 0, 2*pi))\n",
    "Ga_plus = integrate(\n",
    "    M_plus_square.subs(E, mW/2)*sin(th), (th, 0, pi), (phi, 0, 2*pi))"
   ]
  },
  {
   "cell_type": "code",
   "execution_count": 41,
   "metadata": {},
   "outputs": [
    {
     "data": {
      "image/png": "[encoded data removed]",
      "text/latex": [
       "$\\displaystyle \\left( \\frac{\\pi g_{W}^{2} \\left(\\sqrt{m_{W} - 2 m_{\\ell}} \\sqrt{m_{W} - 2 m_{\\nu}} + \\sqrt{m_{W} + 2 m_{\\ell}} \\sqrt{m_{W} + 2 m_{\\nu}}\\right)^{2}}{3}, \\  \\frac{\\pi g_{W}^{2} \\left(\\sqrt{m_{W} - 2 m_{\\ell}} \\sqrt{m_{W} - 2 m_{\\nu}} + \\sqrt{m_{W} + 2 m_{\\ell}} \\sqrt{m_{W} + 2 m_{\\nu}}\\right)^{2}}{3}, \\  \\frac{\\pi g_{W}^{2} \\left(\\sqrt{m_{W} - 2 m_{\\ell}} \\sqrt{m_{W} - 2 m_{\\nu}} + \\sqrt{m_{W} + 2 m_{\\ell}} \\sqrt{m_{W} + 2 m_{\\nu}}\\right)^{2}}{3}\\right)$"
      ],
      "text/plain": [
       "⎛                                                                             \n",
       "⎜     2 ⎛  ________________   _______________     ________________   _________\n",
       "⎜π⋅g_W ⋅⎝╲╱ m_W - 2⋅m_\\ell ⋅╲╱ m_W - 2⋅m_\\nu  + ╲╱ m_W + 2⋅m_\\ell ⋅╲╱ m_W + 2⋅\n",
       "⎜─────────────────────────────────────────────────────────────────────────────\n",
       "⎝                                          3                                  \n",
       "\n",
       "       2                                                                      \n",
       "______⎞        2 ⎛  ________________   _______________     ________________   \n",
       "m_\\nu ⎠   π⋅g_W ⋅⎝╲╱ m_W - 2⋅m_\\ell ⋅╲╱ m_W - 2⋅m_\\nu  + ╲╱ m_W + 2⋅m_\\ell ⋅╲╱\n",
       "────────, ────────────────────────────────────────────────────────────────────\n",
       "                                                    3                         \n",
       "\n",
       "                2                                                             \n",
       "_______________⎞        2 ⎛  ________________   _______________     __________\n",
       " m_W + 2⋅m_\\nu ⎠   π⋅g_W ⋅⎝╲╱ m_W - 2⋅m_\\ell ⋅╲╱ m_W - 2⋅m_\\nu  + ╲╱ m_W + 2⋅m\n",
       "─────────────────, ───────────────────────────────────────────────────────────\n",
       "                                                             3                \n",
       "\n",
       "                         2⎞\n",
       "______   _______________⎞ ⎟\n",
       "_\\ell ⋅╲╱ m_W + 2⋅m_\\nu ⎠ ⎟\n",
       "──────────────────────────⎟\n",
       "                          ⎠"
      ]
     },
     "execution_count": 41,
     "metadata": {},
     "output_type": "execute_result"
    }
   ],
   "source": [
    "Ga_minus, Ga_L, Ga_plus"
   ]
  },
  {
   "cell_type": "code",
   "execution_count": 42,
   "metadata": {},
   "outputs": [
    {
     "data": {
      "image/png": "[encoded data removed]",
      "text/latex": [
       "$\\displaystyle \\left( \\frac{g_{W}^{2} \\left(\\sqrt{m_{W} - 2 m_{\\ell}} \\sqrt{m_{W} - 2 m_{\\nu}} + \\sqrt{m_{W} + 2 m_{\\ell}} \\sqrt{m_{W} + 2 m_{\\nu}}\\right)^{2} \\left(\\cos{\\left(\\theta \\right)} + 1\\right)^{2}}{16}, \\  \\frac{g_{W}^{2} \\left(\\sqrt{m_{W} - 2 m_{\\ell}} \\sqrt{m_{W} - 2 m_{\\nu}} + \\sqrt{m_{W} + 2 m_{\\ell}} \\sqrt{m_{W} + 2 m_{\\nu}}\\right)^{2} \\sin^{2}{\\left(\\theta \\right)}}{8}, \\  \\frac{g_{W}^{2} \\left(\\sqrt{m_{W} - 2 m_{\\ell}} \\sqrt{m_{W} - 2 m_{\\nu}} + \\sqrt{m_{W} + 2 m_{\\ell}} \\sqrt{m_{W} + 2 m_{\\nu}}\\right)^{2} \\left(\\cos{\\left(\\theta \\right)} - 1\\right)^{2}}{16}\\right)$"
      ],
      "text/plain": [
       "⎛                                                                             \n",
       "⎜   2 ⎛  ________________   _______________     ________________   ___________\n",
       "⎜g_W ⋅⎝╲╱ m_W - 2⋅m_\\ell ⋅╲╱ m_W - 2⋅m_\\nu  + ╲╱ m_W + 2⋅m_\\ell ⋅╲╱ m_W + 2⋅m_\n",
       "⎜─────────────────────────────────────────────────────────────────────────────\n",
       "⎝                                                  16                         \n",
       "\n",
       "     2                                                                        \n",
       "____⎞                   2     2 ⎛  ________________   _______________     ____\n",
       "\\nu ⎠ ⋅(cos(\\theta) + 1)   g_W ⋅⎝╲╱ m_W - 2⋅m_\\ell ⋅╲╱ m_W - 2⋅m_\\nu  + ╲╱ m_W\n",
       "─────────────────────────, ───────────────────────────────────────────────────\n",
       "                                                                          8   \n",
       "\n",
       "                               2                                              \n",
       "____________   _______________⎞     2             2 ⎛  ________________   ____\n",
       " + 2⋅m_\\ell ⋅╲╱ m_W + 2⋅m_\\nu ⎠ ⋅sin (\\theta)  g_W ⋅⎝╲╱ m_W - 2⋅m_\\ell ⋅╲╱ m_W\n",
       "─────────────────────────────────────────────, ───────────────────────────────\n",
       "                                                                              \n",
       "\n",
       "                                                   2                   ⎞\n",
       "___________     ________________   _______________⎞                   2⎟\n",
       " - 2⋅m_\\nu  + ╲╱ m_W + 2⋅m_\\ell ⋅╲╱ m_W + 2⋅m_\\nu ⎠ ⋅(cos(\\theta) - 1) ⎟\n",
       "───────────────────────────────────────────────────────────────────────⎟\n",
       "                   16                                                  ⎠"
      ]
     },
     "execution_count": 42,
     "metadata": {},
     "output_type": "execute_result"
    }
   ],
   "source": [
    "M_minus_square, M_L_square, M_plus_square"
   ]
  },
  {
   "cell_type": "code",
   "execution_count": 43,
   "metadata": {},
   "outputs": [
    {
     "data": {
      "image/png": "[encoded data removed]",
      "text/latex": [
       "$\\displaystyle \\frac{g_{W}^{2} \\left(\\sqrt{m_{W} - 2 m_{\\ell}} \\sqrt{m_{W} - 2 m_{\\nu}} + \\sqrt{m_{W} + 2 m_{\\ell}} \\sqrt{m_{W} + 2 m_{\\nu}}\\right)^{2}}{12}$"
      ],
      "text/plain": [
       "                                                                              \n",
       "   2 ⎛  ________________   _______________     ________________   ____________\n",
       "g_W ⋅⎝╲╱ m_W - 2⋅m_\\ell ⋅╲╱ m_W - 2⋅m_\\nu  + ╲╱ m_W + 2⋅m_\\ell ⋅╲╱ m_W + 2⋅m_\\\n",
       "──────────────────────────────────────────────────────────────────────────────\n",
       "                                         12                                   \n",
       "\n",
       "    2\n",
       "___⎞ \n",
       "nu ⎠ \n",
       "─────\n",
       "     "
      ]
     },
     "execution_count": 43,
     "metadata": {},
     "output_type": "execute_result"
    }
   ],
   "source": [
    "M_ave = ((M_L_square + M_plus_square + M_minus_square)/3).simplify()\n",
    "M_ave"
   ]
  },
  {
   "cell_type": "code",
   "execution_count": 44,
   "metadata": {},
   "outputs": [
    {
     "data": {
      "image/png": "[encoded data removed]",
      "text/latex": [
       "$\\displaystyle \\frac{g_{W}^{2} m_{W}^{2}}{3}$"
      ],
      "text/plain": [
       "   2    2\n",
       "g_W ⋅m_W \n",
       "─────────\n",
       "    3    "
      ]
     },
     "execution_count": 44,
     "metadata": {},
     "output_type": "execute_result"
    }
   ],
   "source": [
    "M_ave.subs(high_energy_limit)"
   ]
  },
  {
   "cell_type": "code",
   "execution_count": 45,
   "metadata": {},
   "outputs": [],
   "source": [
    "mW_val = 80.377 # GeV\n",
    "me_val = 0.000511 # GeV\n",
    "mmu_val = 0.105 #GeV\n",
    "mtau_val = 1.777 # GeV"
   ]
  },
  {
   "cell_type": "code",
   "execution_count": 46,
   "metadata": {},
   "outputs": [
    {
     "data": {
      "image/png": "[encoded data removed]",
      "text/latex": [
       "$\\displaystyle 2153.48737624629 g_{W}^{2}$"
      ],
      "text/plain": [
       "                    2\n",
       "2153.48737624629⋅g_W "
      ]
     },
     "execution_count": 46,
     "metadata": {},
     "output_type": "execute_result"
    }
   ],
   "source": [
    "M_ave.subs(mnu, 0).subs(\n",
    "    {mW:mW_val, ml:me_val}\n",
    ")"
   ]
  },
  {
   "cell_type": "code",
   "execution_count": 47,
   "metadata": {},
   "outputs": [
    {
     "data": {
      "image/png": "[encoded data removed]",
      "text/latex": [
       "$\\displaystyle 2153.48370132706 g_{W}^{2}$"
      ],
      "text/plain": [
       "                    2\n",
       "2153.48370132706⋅g_W "
      ]
     },
     "execution_count": 47,
     "metadata": {},
     "output_type": "execute_result"
    }
   ],
   "source": [
    "M_ave.subs(mnu, 0).subs(\n",
    "    {mW:mW_val, ml:mmu_val}\n",
    ")"
   ]
  },
  {
   "cell_type": "code",
   "execution_count": 48,
   "metadata": {},
   "outputs": [
    {
     "data": {
      "image/png": "[encoded data removed]",
      "text/latex": [
       "$\\displaystyle 2152.43428502075 g_{W}^{2}$"
      ],
      "text/plain": [
       "                    2\n",
       "2152.43428502075⋅g_W "
      ]
     },
     "execution_count": 48,
     "metadata": {},
     "output_type": "execute_result"
    }
   ],
   "source": [
    "M_ave.subs(mnu, 0).subs(\n",
    "    {mW:mW_val, ml:mtau_val}\n",
    ")"
   ]
  },
  {
   "cell_type": "code",
   "execution_count": 49,
   "metadata": {},
   "outputs": [
    {
     "data": {
      "image/png": "[encoded data removed]",
      "text/latex": [
       "$\\displaystyle 4 \\pi$"
      ],
      "text/plain": [
       "4⋅π"
      ]
     },
     "execution_count": 49,
     "metadata": {},
     "output_type": "execute_result"
    }
   ],
   "source": [
    "integrate(\n",
    "    sin(th), (th, 0, pi), (phi, 0, 2*pi)\n",
    ")"
   ]
  },
  {
   "cell_type": "code",
   "execution_count": 50,
   "metadata": {},
   "outputs": [],
   "source": [
    "width_Wlnu = integrate(\n",
    "    (M_ave*mW/2)/(32*pi**2*mW**2)*sin(th), (th, 0, pi), (phi, 0, 2*pi)\n",
    ")"
   ]
  },
  {
   "cell_type": "code",
   "execution_count": 51,
   "metadata": {},
   "outputs": [
    {
     "data": {
      "image/png": "[encoded data removed]",
      "text/latex": [
       "$\\displaystyle \\frac{g_{W}^{2} m_{W}}{48 \\pi}$"
      ],
      "text/plain": [
       "   2    \n",
       "g_W ⋅m_W\n",
       "────────\n",
       "  48⋅π  "
      ]
     },
     "execution_count": 51,
     "metadata": {},
     "output_type": "execute_result"
    }
   ],
   "source": [
    "width_Wlnu.subs(high_energy_limit)"
   ]
  },
  {
   "cell_type": "code",
   "execution_count": null,
   "metadata": {},
   "outputs": [],
   "source": []
  }
 ],
 "metadata": {
  "celltoolbar": "Slideshow",
  "kernelspec": {
   "display_name": "Python 3",
   "language": "python",
   "name": "python3"
  },
  "language_info": {
   "codemirror_mode": {
    "name": "ipython",
    "version": 3
   },
   "file_extension": ".py",
   "mimetype": "text/x-python",
   "name": "python",
   "nbconvert_exporter": "python",
   "pygments_lexer": "ipython3",
   "version": "3.7.12"
  },
  "latex_envs": {
   "LaTeX_envs_menu_present": true,
   "autoclose": false,
   "autocomplete": true,
   "bibliofile": "biblio.bib",
   "cite_by": "apalike",
   "current_citInitial": 1,
   "eqLabelWithNumbers": true,
   "eqNumInitial": 1,
   "hotkeys": {
    "equation": "Ctrl-E",
    "itemize": "Ctrl-I"
   },
   "labels_anchors": false,
   "latex_user_defs": false,
   "report_style_numbering": false,
   "user_envs_cfg": false
  },
  "toc": {
   "base_numbering": 1,
   "nav_menu": {},
   "number_sections": true,
   "sideBar": true,
   "skip_h1_title": false,
   "title_cell": "Table of Contents",
   "title_sidebar": "Contents",
   "toc_cell": false,
   "toc_position": {},
   "toc_section_display": true,
   "toc_window_display": false
  }
 },
 "nbformat": 4,
 "nbformat_minor": 4
}
