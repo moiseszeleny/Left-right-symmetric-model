{
 "cells": [
  {
   "cell_type": "markdown",
   "metadata": {
    "Collapsed": "false",
    "slideshow": {
     "slide_type": "slide"
    }
   },
   "source": [
    "# Programando física de partículas con python\n",
    "\n",
    "**Moises Zeleny Mora**\n",
    "\n",
    "**FCFM BUAP**\n",
    "\n",
    "**26/02/2019**"
   ]
  },
  {
   "cell_type": "markdown",
   "metadata": {
    "Collapsed": "false",
    "slideshow": {
     "slide_type": "slide"
    }
   },
   "source": [
    "## Contenido\n",
    "\n",
    "+ ¿Que es python?\n",
    "+ ¿Porque python?\n",
    "+ Herramientas de python.\n",
    "  - Anaconda\n",
    "  - Jupyter Notebook.\n",
    "  - sympy.\n",
    "+ Programación Orientada a Objetos.\n",
    "+ Aplicaciones.\n",
    "  - Cuadrimomentos y los espinores de Dirac.\n",
    "  - Proceso $e^+ e^- \\rightarrow \\gamma \\rightarrow \\mu^+ \\mu^-$.\n",
    "  - El potencial de Higgs."
   ]
  },
  {
   "cell_type": "markdown",
   "metadata": {
    "Collapsed": "false",
    "slideshow": {
     "slide_type": "slide"
    }
   },
   "source": [
    "## ¿Porqué python?\n",
    "\n",
    " - Es un lenguaje fácil de aprender\n",
    " - Tiene muchos modulos disponibles para calcúlos científicos\n",
    " - Es libre\n",
    " - Existén muchos tutoriales en la internet.\n",
    " - Permite diferentes tipos de programación."
   ]
  },
  {
   "cell_type": "markdown",
   "metadata": {
    "Collapsed": "false",
    "slideshow": {
     "slide_type": "slide"
    }
   },
   "source": [
    "## Herramientas de python"
   ]
  },
  {
   "cell_type": "markdown",
   "metadata": {
    "Collapsed": "false",
    "slideshow": {
     "slide_type": "subslide"
    }
   },
   "source": [
    "### Anaconda\n"
   ]
  },
  {
   "cell_type": "code",
   "execution_count": 1,
   "metadata": {
    "Collapsed": "false",
    "slideshow": {
     "slide_type": "fragment"
    }
   },
   "outputs": [
    {
     "data": {
      "text/html": [
       "\n",
       "        <iframe\n",
       "            width=\"600\"\n",
       "            height=\"600\"\n",
       "            src=\"https://anaconda.org/\"\n",
       "            frameborder=\"0\"\n",
       "            allowfullscreen\n",
       "            \n",
       "        ></iframe>\n",
       "        "
      ],
      "text/plain": [
       "<IPython.lib.display.IFrame at 0x14562207348>"
      ]
     },
     "execution_count": 1,
     "metadata": {},
     "output_type": "execute_result"
    }
   ],
   "source": [
    "from IPython.display import IFrame\n",
    "IFrame('https://anaconda.org/', width=600, height=600)"
   ]
  },
  {
   "cell_type": "markdown",
   "metadata": {
    "Collapsed": "false",
    "slideshow": {
     "slide_type": "slide"
    }
   },
   "source": [
    "### Jupyter Notebook"
   ]
  },
  {
   "cell_type": "code",
   "execution_count": 2,
   "metadata": {
    "Collapsed": "false",
    "slideshow": {
     "slide_type": "subslide"
    }
   },
   "outputs": [
    {
     "data": {
      "text/html": [
       "\n",
       "        <iframe\n",
       "            width=\"600\"\n",
       "            height=\"600\"\n",
       "            src=\"https://jupyter.org/\"\n",
       "            frameborder=\"0\"\n",
       "            allowfullscreen\n",
       "            \n",
       "        ></iframe>\n",
       "        "
      ],
      "text/plain": [
       "<IPython.lib.display.IFrame at 0x145622ff2c8>"
      ]
     },
     "execution_count": 2,
     "metadata": {},
     "output_type": "execute_result"
    }
   ],
   "source": [
    "IFrame('https://jupyter.org/', width=600, height=600)"
   ]
  },
  {
   "cell_type": "code",
   "execution_count": 3,
   "metadata": {
    "Collapsed": "false",
    "slideshow": {
     "slide_type": "subslide"
    }
   },
   "outputs": [
    {
     "data": {
      "text/html": [
       "\n",
       "        <iframe\n",
       "            width=\"600\"\n",
       "            height=\"600\"\n",
       "            src=\"https://jupyter-notebook.readthedocs.io/en/stable/examples/Notebook/Typesetting%20Equations.html\"\n",
       "            frameborder=\"0\"\n",
       "            allowfullscreen\n",
       "            \n",
       "        ></iframe>\n",
       "        "
      ],
      "text/plain": [
       "<IPython.lib.display.IFrame at 0x14562300ec8>"
      ]
     },
     "execution_count": 3,
     "metadata": {},
     "output_type": "execute_result"
    }
   ],
   "source": [
    "url = 'https://jupyter-notebook.readthedocs.io/en/stable/examples/Notebook/Typesetting%20Equations.html'\n",
    "IFrame(url, width=600, height=600)  "
   ]
  },
  {
   "cell_type": "markdown",
   "metadata": {
    "Collapsed": "false",
    "slideshow": {
     "slide_type": "slide"
    }
   },
   "source": [
    "## Sympy"
   ]
  },
  {
   "cell_type": "code",
   "execution_count": 4,
   "metadata": {
    "Collapsed": "false",
    "slideshow": {
     "slide_type": "subslide"
    }
   },
   "outputs": [
    {
     "data": {
      "text/html": [
       "\n",
       "        <iframe\n",
       "            width=\"600\"\n",
       "            height=\"600\"\n",
       "            src=\"https://www.sympy.org/es/\"\n",
       "            frameborder=\"0\"\n",
       "            allowfullscreen\n",
       "            \n",
       "        ></iframe>\n",
       "        "
      ],
      "text/plain": [
       "<IPython.lib.display.IFrame at 0x14562303608>"
      ]
     },
     "execution_count": 4,
     "metadata": {},
     "output_type": "execute_result"
    }
   ],
   "source": [
    "IFrame('https://www.sympy.org/es/', width=600, height=600)"
   ]
  },
  {
   "cell_type": "code",
   "execution_count": 5,
   "metadata": {
    "Collapsed": "false",
    "slideshow": {
     "slide_type": "subslide"
    }
   },
   "outputs": [],
   "source": [
    "from sympy import init_printing, symbols, integrate, Basic, latex, sqrt, Add, eye\n",
    "init_printing()"
   ]
  },
  {
   "cell_type": "code",
   "execution_count": 6,
   "metadata": {
    "Collapsed": "false",
    "slideshow": {
     "slide_type": "fragment"
    }
   },
   "outputs": [
    {
     "data": {
      "image/png": "[encoded data removed]",
      "text/latex": [
       "$\\displaystyle \\overline{\\theta}^{+}$"
      ],
      "text/plain": [
       "\\overline{\\theta}__{+}"
      ]
     },
     "execution_count": 6,
     "metadata": {},
     "output_type": "execute_result"
    }
   ],
   "source": [
    "th = symbols(r'\\overline{\\theta}^{+}')\n",
    "x, y = symbols('x, y')\n",
    "r = (x+y)**3\n",
    "th"
   ]
  },
  {
   "cell_type": "code",
   "execution_count": 7,
   "metadata": {
    "Collapsed": "false",
    "slideshow": {
     "slide_type": "fragment"
    }
   },
   "outputs": [],
   "source": [
    "r.expand()"
   ]
  },
  {
   "cell_type": "code",
   "execution_count": null,
   "metadata": {
    "Collapsed": "false"
   },
   "outputs": [
    {
     "data": {
      "image/png": "[encoded data removed]",
      "text/latex": [
       "$\\displaystyle \\frac{x^{4}}{4} + x^{3} y + \\frac{3 x^{2} y^{2}}{2} + x y^{3}$"
      ],
      "text/plain": [
       " 4             2  2       \n",
       "x     3     3⋅x ⋅y       3\n",
       "── + x ⋅y + ─────── + x⋅y \n",
       "4              2          "
      ]
     },
     "execution_count": 8,
     "metadata": {},
     "output_type": "execute_result"
    }
   ],
   "source": [
    "integrate(r,x) "
   ]
  },
  {
   "cell_type": "markdown",
   "metadata": {
    "Collapsed": "false",
    "slideshow": {
     "slide_type": "slide"
    }
   },
   "source": [
    "## Programación Orientada a Objetos\n",
    "\n",
    "Cada una de las estructuras de python son objetos que tienen atributos (carácteristicas) y metodos (funciones). Por ejemplo,\n"
   ]
  },
  {
   "cell_type": "code",
   "execution_count": null,
   "metadata": {
    "Collapsed": "false",
    "slideshow": {
     "slide_type": "fragment"
    }
   },
   "outputs": [
    {
     "data": {
      "image/png": "[encoded data removed]",
      "text/latex": [
       "$\\displaystyle \\left[ 3, \\  2, \\  1\\right]$"
      ],
      "text/plain": [
       "[3, 2, 1]"
      ]
     },
     "execution_count": 9,
     "metadata": {},
     "output_type": "execute_result"
    }
   ],
   "source": [
    "lista = [3,2,1]\n",
    "lista"
   ]
  },
  {
   "cell_type": "code",
   "execution_count": null,
   "metadata": {
    "Collapsed": "false",
    "slideshow": {
     "slide_type": "fragment"
    }
   },
   "outputs": [
    {
     "data": {
      "image/png": "[encoded data removed]",
      "text/latex": [
       "$\\displaystyle \\left[ 1, \\  2, \\  3\\right]$"
      ],
      "text/plain": [
       "[1, 2, 3]"
      ]
     },
     "execution_count": 10,
     "metadata": {},
     "output_type": "execute_result"
    }
   ],
   "source": [
    "lista.sort()  \n",
    "lista"
   ]
  },
  {
   "cell_type": "markdown",
   "metadata": {
    "Collapsed": "false",
    "slideshow": {
     "slide_type": "subslide"
    }
   },
   "source": [
    "### ¿Pero como se contruyén estos objetos?\n",
    "\n",
    "### Ejemplo\n",
    "Propiedades de un vector en dos dimensiones:\n",
    "\n",
    "Sean $\\vec{A} = (a_1,a_2)$ y $\\vec{B} = (b_1,b_2)$ dos vectores, estos cumplen las siguientes propiedades:\n",
    " 1. $\\vec{A} \\pm \\vec{B} = (a_1 \\pm b1,a_2 \\pm b_2)$  \n",
    " 2. $\\vec{A} . \\vec{B} = a_1 b_1 + a_2 b_2$\n",
    " 3. $|\\vec{A}| = \\sqrt{\\vec{A} . \\vec{A}}$\n",
    " 4. $\\vec{A} = \\vec{B}$ si y solo si $a_i = b_i$ con $i=1,2$"
   ]
  },
  {
   "cell_type": "code",
   "execution_count": null,
   "metadata": {
    "Collapsed": "false",
    "slideshow": {
     "slide_type": "subslide"
    }
   },
   "outputs": [],
   "source": [
    "class Vec2D(Basic):\n",
    "    def __init__(self,x,y):\n",
    "        self.x = x \n",
    "        self.y = y\n",
    "    def __str__(self):\n",
    "        return '({a},{b})'.format(a=self.x,b=self.y)\n",
    "    \n",
    "    def __repr__(self):\n",
    "        return self.__str__()\n",
    "    def __add__(self,other):\n",
    "        x1,x2 = self.x,self.y\n",
    "        y1,y2 = other.x,other.y\n",
    "        return Vec2D(x1+y1,x2+y2)\n",
    "    def __mul__(self,other):\n",
    "        x1,x2 = self.x,self.y\n",
    "        y1,y2 = other.x,other.y\n",
    "        return x1*y1+x2*y2"
   ]
  },
  {
   "cell_type": "code",
   "execution_count": null,
   "metadata": {
    "Collapsed": "false",
    "slideshow": {
     "slide_type": "fragment"
    }
   },
   "outputs": [
    {
     "data": {
      "image/png": "[encoded data removed]",
      "text/latex": [
       "$\\displaystyle a_{1} b_{1} + a_{2} b_{2}$"
      ],
      "text/plain": [
       "a₁⋅b₁ + a₂⋅b₂"
      ]
     },
     "execution_count": 12,
     "metadata": {},
     "output_type": "execute_result"
    }
   ],
   "source": [
    "a1,a2,b1,b2 = symbols(r'a_1,a_2,b_1,b_2')\n",
    "A = Vec2D(a1,a2)\n",
    "B = Vec2D(b1,b2)\n",
    "C = A*B\n",
    "C"
   ]
  },
  {
   "cell_type": "code",
   "execution_count": null,
   "metadata": {
    "Collapsed": "false"
   },
   "outputs": [
    {
     "data": {
      "image/png": "[encoded data removed]",
      "text/latex": [
       "$\\displaystyle \\operatorname{Vec2D}\\left(a_{1} + b_{1}, a_{2} + b_{2}\\right)$"
      ],
      "text/plain": [
       "(a_1 + b_1,a_2 + b_2)"
      ]
     },
     "execution_count": 13,
     "metadata": {},
     "output_type": "execute_result"
    }
   ],
   "source": [
    "A + B"
   ]
  },
  {
   "cell_type": "code",
   "execution_count": null,
   "metadata": {
    "Collapsed": "false",
    "slideshow": {
     "slide_type": "subslide"
    }
   },
   "outputs": [],
   "source": [
    "class Vec2D(Basic):\n",
    "    def __init__(self,x,y):\n",
    "        self.x = x\n",
    "        self.y = y\n",
    "    \n",
    "    def __str__(self):\n",
    "        return '({a},{b})'.format(a=latex(self.x), b=latex(self.y))\n",
    "    \n",
    "    def __repr__(self):\n",
    "        return self.__str__()\n",
    "    \n",
    "    def __add__(self,other):\n",
    "        x1, y1 = self.x, self.y\n",
    "        x2, y2 = other.x, other.y\n",
    "        return Vec2D(x1 + x2, y1 + y2)\n",
    "    \n",
    "    def __sub__(self,other):\n",
    "        x1, y1 = self.x, self.y\n",
    "        x2, y2 = other.x, other.y\n",
    "        return Vec2D(x1 - x2, y1 - y2)\n",
    "    \n",
    "    def __mul__(self,other):\n",
    "        x1, y1 = self.x, self.y\n",
    "        x2, y2 = other.x, other.y\n",
    "        return x1*x2+y1*y2\n",
    "    \n",
    "    def __eq__(self,other):\n",
    "        x1, y1 = self.x, self.y\n",
    "        x2, y2 = other.x, other.y\n",
    "        return x1 == x2 and y1 == y2\n",
    "    \n",
    "    def __abs__(self):\n",
    "        return sqrt(self*self)"
   ]
  },
  {
   "cell_type": "code",
   "execution_count": null,
   "metadata": {
    "Collapsed": "false",
    "slideshow": {
     "slide_type": "subslide"
    }
   },
   "outputs": [],
   "source": [
    "a1, a2, b1, b2 = symbols(r'a_1, a_2, b_1, b_2') \n",
    "A = Vec2D(a1,a2)\n",
    "B = Vec2D(b1,b2)"
   ]
  },
  {
   "cell_type": "code",
   "execution_count": null,
   "metadata": {},
   "outputs": [
    {
     "data": {
      "image/png": "[encoded data removed]",
      "text/latex": [
       "$\\displaystyle \\operatorname{Vec2D}\\left(a_{1}, a_{2}\\right)$"
      ],
      "text/plain": [
       "(a_{1},a_{2})"
      ]
     },
     "execution_count": 16,
     "metadata": {},
     "output_type": "execute_result"
    }
   ],
   "source": [
    "A"
   ]
  },
  {
   "cell_type": "code",
   "execution_count": null,
   "metadata": {
    "Collapsed": "false",
    "slideshow": {
     "slide_type": "fragment"
    }
   },
   "outputs": [
    {
     "data": {
      "image/png": "[encoded data removed]",
      "text/latex": [
       "$\\displaystyle \\operatorname{Vec2D}\\left(a_{1} + b_{1}, a_{2} + b_{2}\\right)$"
      ],
      "text/plain": [
       "(a_{1} + b_{1},a_{2} + b_{2})"
      ]
     },
     "execution_count": 17,
     "metadata": {},
     "output_type": "execute_result"
    }
   ],
   "source": [
    "A+B"
   ]
  },
  {
   "cell_type": "code",
   "execution_count": null,
   "metadata": {
    "Collapsed": "false",
    "slideshow": {
     "slide_type": "fragment"
    }
   },
   "outputs": [
    {
     "data": {
      "image/png": "[encoded data removed]",
      "text/latex": [
       "$\\displaystyle \\operatorname{Vec2D}\\left(a_{1} - b_{1}, a_{2} - b_{2}\\right)$"
      ],
      "text/plain": [
       "(a_{1} - b_{1},a_{2} - b_{2})"
      ]
     },
     "execution_count": 18,
     "metadata": {},
     "output_type": "execute_result"
    }
   ],
   "source": [
    "A-B"
   ]
  },
  {
   "cell_type": "code",
   "execution_count": null,
   "metadata": {
    "Collapsed": "false",
    "slideshow": {
     "slide_type": "fragment"
    }
   },
   "outputs": [
    {
     "data": {
      "text/plain": [
       "False"
      ]
     },
     "execution_count": 19,
     "metadata": {},
     "output_type": "execute_result"
    }
   ],
   "source": [
    " A==B"
   ]
  },
  {
   "cell_type": "code",
   "execution_count": null,
   "metadata": {
    "Collapsed": "false",
    "slideshow": {
     "slide_type": "fragment"
    }
   },
   "outputs": [
    {
     "data": {
      "image/png": "[encoded data removed]",
      "text/latex": [
       "$\\displaystyle \\sqrt{a_{1}^{2} + a_{2}^{2}}$"
      ],
      "text/plain": [
       "   ___________\n",
       "  ╱   2     2 \n",
       "╲╱  a₁  + a₂  "
      ]
     },
     "execution_count": 20,
     "metadata": {},
     "output_type": "execute_result"
    }
   ],
   "source": [
    "abs(A)"
   ]
  },
  {
   "cell_type": "markdown",
   "metadata": {
    "Collapsed": "false",
    "slideshow": {
     "slide_type": "slide"
    }
   },
   "source": [
    "## Aplicaciones"
   ]
  },
  {
   "cell_type": "markdown",
   "metadata": {
    "Collapsed": "false",
    "slideshow": {
     "slide_type": "slide"
    }
   },
   "source": [
    "### Cuadrimomentos.\n",
    "\n",
    "Un cuadrimomento cumple las siguientes propiedades:\n",
    "\n",
    "Sean $p = (p^0,p^1,p^2,p^3)$ y $k = (k^0,k^1,k^2,k^3)$ dos cuadrimomentos, estos cumplen las siguientes propiedades:\n",
    " 1. $p \\pm k = (p^0 \\pm k^0, p^1 \\pm k^1, p^2 \\pm k^2, p^3 \\pm k^3)$  \n",
    " 2. $ p_\\mu k^\\mu = p^0 k^0 - \\vec{p}.\\vec{k}$\n",
    " 3. $|p| = \\sqrt{p_\\mu p^\\mu}$\n",
    " 4. $p = k$ si y solo si $p^\\mu = k^\\mu$ con $i=0,1,2,3$\n",
    " 5. se puede construir una matriz con componentes $ L^{\\mu \\nu} = p^\\mu k^\\nu$."
   ]
  },
  {
   "cell_type": "code",
   "execution_count": null,
   "metadata": {
    "Collapsed": "false",
    "slideshow": {
     "slide_type": "subslide"
    }
   },
   "outputs": [],
   "source": [
    "from kinematics import FV, adj, SpinorU, SpinorV"
   ]
  },
  {
   "cell_type": "code",
   "execution_count": null,
   "metadata": {
    "Collapsed": "false",
    "slideshow": {
     "slide_type": "fragment"
    }
   },
   "outputs": [
    {
     "data": {
      "image/png": "[encoded data removed]",
      "text/latex": [
       "$\\displaystyle \\left( \\operatorname{FV}\\left({{p^{0}}}, {{p^{1}}}, {{p^{2}}}, {{p^{3}}}\\right), \\  \\operatorname{FV}\\left({{k^{0}}}, {{k^{1}}}, {{k^{2}}}, {{k^{3}}}\\right)\\right)$"
      ],
      "text/plain": [
       "(({{p^{0}}},{{p^{1}}},{{p^{2}}},{{p^{3}}}), ({{k^{0}}},{{k^{1}}},{{k^{2}}},{{k\n",
       "^{3}}}))"
      ]
     },
     "execution_count": 22,
     "metadata": {},
     "output_type": "execute_result"
    }
   ],
   "source": [
    "p0,p1,p2,p3 = symbols(r'{{p^{0:4}}}',positive=True) \n",
    "k0,k1,k2,k3 = symbols(r'{{k^{0:4}}}',positive=True)\n",
    "p = FV(p0,p1,p2,p3)\n",
    "k = FV(k0,k1,k2,k3)\n",
    "p,k"
   ]
  },
  {
   "cell_type": "code",
   "execution_count": null,
   "metadata": {
    "Collapsed": "false",
    "slideshow": {
     "slide_type": "fragment"
    }
   },
   "outputs": [
    {
     "data": {
      "image/png": "[encoded data removed]",
      "text/latex": [
       "$\\displaystyle \\operatorname{FV}\\left({{k^{0}}} + {{p^{0}}}, {{k^{1}}} + {{p^{1}}}, {{k^{2}}} + {{p^{2}}}, {{k^{3}}} + {{p^{3}}}\\right)$"
      ],
      "text/plain": [
       "({{k^{0}}} + {{p^{0}}},{{k^{1}}} + {{p^{1}}},{{k^{2}}} + {{p^{2}}},{{k^{3}}} + {{p^{3}}})"
      ]
     },
     "execution_count": 23,
     "metadata": {},
     "output_type": "execute_result"
    }
   ],
   "source": [
    "p+k"
   ]
  },
  {
   "cell_type": "code",
   "execution_count": null,
   "metadata": {
    "Collapsed": "false",
    "slideshow": {
     "slide_type": "fragment"
    }
   },
   "outputs": [
    {
     "data": {
      "image/png": "[encoded data removed]",
      "text/latex": [
       "$\\displaystyle {{k^{0}}} {{p^{0}}} - {{k^{1}}} {{p^{1}}} - {{k^{2}}} {{p^{2}}} - {{k^{3}}} {{p^{3}}}$"
      ],
      "text/plain": [
       "{{k__{0}}}⋅{{p__{0}}} - {{k__{1}}}⋅{{p__{1}}} - {{k__{2}}}⋅{{p__{2}}} - {{k__{\n",
       "3}}}⋅{{p__{3}}}"
      ]
     },
     "execution_count": 24,
     "metadata": {},
     "output_type": "execute_result"
    }
   ],
   "source": [
    "p*k"
   ]
  },
  {
   "cell_type": "code",
   "execution_count": null,
   "metadata": {
    "Collapsed": "false",
    "slideshow": {
     "slide_type": "fragment"
    }
   },
   "outputs": [
    {
     "data": {
      "image/png": "[encoded data removed]",
      "text/latex": [
       "$\\displaystyle \\sqrt{\\left({{p^{0}}}\\right)^{2} - \\left({{p^{1}}}\\right)^{2} - \\left({{p^{2}}}\\right)^{2} - \\left({{p^{3}}}\\right)^{2}}$"
      ],
      "text/plain": [
       "   _______________________________________________________\n",
       "  ╱           2             2             2             2 \n",
       "╲╱  {{p__{0}}}  - {{p__{1}}}  - {{p__{2}}}  - {{p__{3}}}  "
      ]
     },
     "execution_count": 25,
     "metadata": {},
     "output_type": "execute_result"
    }
   ],
   "source": [
    "abs(p)"
   ]
  },
  {
   "cell_type": "code",
   "execution_count": null,
   "metadata": {
    "Collapsed": "false",
    "slideshow": {
     "slide_type": "fragment"
    }
   },
   "outputs": [
    {
     "data": {
      "image/png": "[encoded data removed]",
      "text/latex": [
       "$\\displaystyle \\left[\\begin{matrix}{{k^{0}}} {{p^{0}}} & {{k^{1}}} {{p^{0}}} & {{k^{2}}} {{p^{0}}} & {{k^{3}}} {{p^{0}}}\\\\{{k^{0}}} {{p^{1}}} & {{k^{1}}} {{p^{1}}} & {{k^{2}}} {{p^{1}}} & {{k^{3}}} {{p^{1}}}\\\\{{k^{0}}} {{p^{2}}} & {{k^{1}}} {{p^{2}}} & {{k^{2}}} {{p^{2}}} & {{k^{3}}} {{p^{2}}}\\\\{{k^{0}}} {{p^{3}}} & {{k^{1}}} {{p^{3}}} & {{k^{2}}} {{p^{3}}} & {{k^{3}}} {{p^{3}}}\\end{matrix}\\right]$"
      ],
      "text/plain": [
       "⎡{{k__{0}}}⋅{{p__{0}}}  {{k__{1}}}⋅{{p__{0}}}  {{k__{2}}}⋅{{p__{0}}}  {{k__{3}\n",
       "⎢                                                                             \n",
       "⎢{{k__{0}}}⋅{{p__{1}}}  {{k__{1}}}⋅{{p__{1}}}  {{k__{2}}}⋅{{p__{1}}}  {{k__{3}\n",
       "⎢                                                                             \n",
       "⎢{{k__{0}}}⋅{{p__{2}}}  {{k__{1}}}⋅{{p__{2}}}  {{k__{2}}}⋅{{p__{2}}}  {{k__{3}\n",
       "⎢                                                                             \n",
       "⎣{{k__{0}}}⋅{{p__{3}}}  {{k__{1}}}⋅{{p__{3}}}  {{k__{2}}}⋅{{p__{3}}}  {{k__{3}\n",
       "\n",
       "}}⋅{{p__{0}}}⎤\n",
       "             ⎥\n",
       "}}⋅{{p__{1}}}⎥\n",
       "             ⎥\n",
       "}}⋅{{p__{2}}}⎥\n",
       "             ⎥\n",
       "}}⋅{{p__{3}}}⎦"
      ]
     },
     "execution_count": 26,
     "metadata": {},
     "output_type": "execute_result"
    }
   ],
   "source": [
    "p@k"
   ]
  },
  {
   "cell_type": "markdown",
   "metadata": {
    "Collapsed": "false",
    "slideshow": {
     "slide_type": "subslide"
    }
   },
   "source": [
    "### Espinores de Dirac\n",
    "\n",
    "Sabemos que los espinores de Dirac $u(p,s)$ y $v(p,s)$, son de la forma:\n",
    "\n",
    "\\begin{equation*}\n",
    "u(p,s) =  \\begin{pmatrix}\n",
    "\\phi^s \\\\\n",
    "\\frac{\\sigma \\cdot \\vec{p}}{p^0 + m} \\phi^s \n",
    "\\end{pmatrix}; \\qquad\n",
    "v(p,s) =  \\begin{pmatrix}\n",
    "\\frac{\\sigma \\cdot \\vec{p}}{p^0 + m} \\phi^s\\\\\n",
    "\\phi^s  \n",
    "\\end{pmatrix} \\qquad\n",
    "\\end{equation*}\n",
    "\n",
    "donde $s = 1,2$. Una de las propiedades que ellos cumplen es siguiente:\n",
    "$$\\sum_{s} u \\overline{u} = \\gamma_\\mu p^\\mu + m; \\qquad \\sum_{s} v \\overline{v} = \\gamma_\\mu p^\\mu - m$$"
   ]
  },
  {
   "cell_type": "code",
   "execution_count": null,
   "metadata": {
    "Collapsed": "false",
    "slideshow": {
     "slide_type": "subslide"
    }
   },
   "outputs": [
    {
     "data": {
      "image/png": "[encoded data removed]",
      "text/latex": [
       "$\\displaystyle \\left[\\begin{matrix}\\sqrt{m + {{p^{0}}}} & 0 & - \\frac{{{p^{3}}}}{\\sqrt{m + {{p^{0}}}}} & - \\frac{{{p^{1}}} - i {{p^{2}}}}{\\sqrt{m + {{p^{0}}}}}\\end{matrix}\\right]$"
      ],
      "text/plain": [
       "⎡  ________________        -{{p__{3}}}      -({{p__{1}}} - ⅈ⋅{{p__{2}}}) ⎤\n",
       "⎢╲╱ m + {{p__{0}}}   0  ──────────────────  ─────────────────────────────⎥\n",
       "⎢                         ________________          ________________     ⎥\n",
       "⎣                       ╲╱ m + {{p__{0}}}         ╲╱ m + {{p__{0}}}      ⎦"
      ]
     },
     "execution_count": 27,
     "metadata": {},
     "output_type": "execute_result"
    }
   ],
   "source": [
    "m = symbols('m',positive=True)\n",
    "u = lambda s:SpinorU(p,m,s)\n",
    "adj(u(1))"
   ]
  },
  {
   "cell_type": "code",
   "execution_count": null,
   "metadata": {
    "Collapsed": "false",
    "slideshow": {
     "slide_type": "fragment"
    }
   },
   "outputs": [
    {
     "data": {
      "image/png": "[encoded data removed]",
      "text/latex": [
       "$\\displaystyle \\left[\\begin{matrix}m + {{p^{0}}} & 0 & - {{p^{3}}} & - {{p^{1}}} + i {{p^{2}}}\\\\0 & m + {{p^{0}}} & - {{p^{1}}} - i {{p^{2}}} & {{p^{3}}}\\\\{{p^{3}}} & {{p^{1}}} - i {{p^{2}}} & - \\frac{\\left({{p^{3}}}\\right)^{2}}{m + {{p^{0}}}} - \\frac{\\left({{p^{1}}} - i {{p^{2}}}\\right) \\left({{p^{1}}} + i {{p^{2}}}\\right)}{m + {{p^{0}}}} & 0\\\\{{p^{1}}} + i {{p^{2}}} & - {{p^{3}}} & 0 & - \\frac{\\left({{p^{3}}}\\right)^{2}}{m + {{p^{0}}}} - \\frac{\\left({{p^{1}}} - i {{p^{2}}}\\right) \\left({{p^{1}}} + i {{p^{2}}}\\right)}{m + {{p^{0}}}}\\end{matrix}\\right]$"
      ],
      "text/plain": [
       "⎡     m + {{p__{0}}}                    0                                     \n",
       "⎢                                                                             \n",
       "⎢            0                   m + {{p__{0}}}                               \n",
       "⎢                                                                             \n",
       "⎢                                                                   2         \n",
       "⎢                                                         {{p__{3}}}      ({{p\n",
       "⎢       {{p__{3}}}          {{p__{1}}} - ⅈ⋅{{p__{2}}}  - ────────────── - ────\n",
       "⎢                                                        m + {{p__{0}}}       \n",
       "⎢                                                                             \n",
       "⎢                                                                             \n",
       "⎢                                                                             \n",
       "⎢{{p__{1}}} + ⅈ⋅{{p__{2}}}         -{{p__{3}}}                                \n",
       "⎣                                                                             \n",
       "\n",
       "        -{{p__{3}}}                                                          -\n",
       "                                                                              \n",
       " -{{p__{1}}} - ⅈ⋅{{p__{2}}}                                                   \n",
       "                                                                              \n",
       "                                                                              \n",
       "__{1}}} - ⅈ⋅{{p__{2}}})⋅({{p__{1}}} + ⅈ⋅{{p__{2}}})                           \n",
       "───────────────────────────────────────────────────                           \n",
       "                 m + {{p__{0}}}                                               \n",
       "                                                                              \n",
       "                                                                  2           \n",
       "                                                        {{p__{3}}}      ({{p__\n",
       "             0                                       - ────────────── - ──────\n",
       "                                                       m + {{p__{0}}}         \n",
       "\n",
       "{{p__{1}}} + ⅈ⋅{{p__{2}}}                        ⎤\n",
       "                                                 ⎥\n",
       "       {{p__{3}}}                                ⎥\n",
       "                                                 ⎥\n",
       "                                                 ⎥\n",
       "                                                 ⎥\n",
       "           0                                     ⎥\n",
       "                                                 ⎥\n",
       "                                                 ⎥\n",
       "                                                 ⎥\n",
       "{1}}} - ⅈ⋅{{p__{2}}})⋅({{p__{1}}} + ⅈ⋅{{p__{2}}})⎥\n",
       "─────────────────────────────────────────────────⎥\n",
       "               m + {{p__{0}}}                    ⎦"
      ]
     },
     "execution_count": 30,
     "metadata": {},
     "output_type": "execute_result"
    }
   ],
   "source": [
    "r1 = Add(*[u(s)*adj(u(s)) for s in [1,2]])\n",
    "r1 "
   ]
  },
  {
   "cell_type": "code",
   "execution_count": null,
   "metadata": {
    "Collapsed": "false",
    "slideshow": {
     "slide_type": "subslide"
    }
   },
   "outputs": [
    {
     "data": {
      "image/png": "[encoded data removed]",
      "text/latex": [
       "$\\displaystyle \\left[\\begin{matrix}m + {{p^{0}}} & 0 & - {{p^{3}}} & - {{p^{1}}} + i {{p^{2}}}\\\\0 & m + {{p^{0}}} & - {{p^{1}}} - i {{p^{2}}} & {{p^{3}}}\\\\{{p^{3}}} & {{p^{1}}} - i {{p^{2}}} & m - {{p^{0}}} & 0\\\\{{p^{1}}} + i {{p^{2}}} & - {{p^{3}}} & 0 & m - {{p^{0}}}\\end{matrix}\\right]$"
      ],
      "text/plain": [
       "⎡     m + {{p__{0}}}                    0                     -{{p__{3}}}     \n",
       "⎢                                                                             \n",
       "⎢            0                   m + {{p__{0}}}        -{{p__{1}}} - ⅈ⋅{{p__{2\n",
       "⎢                                                                             \n",
       "⎢       {{p__{3}}}          {{p__{1}}} - ⅈ⋅{{p__{2}}}        m - {{p__{0}}}   \n",
       "⎢                                                                             \n",
       "⎣{{p__{1}}} + ⅈ⋅{{p__{2}}}         -{{p__{3}}}                     0          \n",
       "\n",
       "     -{{p__{1}}} + ⅈ⋅{{p__{2}}}⎤\n",
       "                               ⎥\n",
       "}}}          {{p__{3}}}        ⎥\n",
       "                               ⎥\n",
       "                 0             ⎥\n",
       "                               ⎥\n",
       "           m - {{p__{0}}}      ⎦"
      ]
     },
     "execution_count": 33,
     "metadata": {},
     "output_type": "execute_result"
    }
   ],
   "source": [
    "r2 = p.slash() + m*eye(4)\n",
    "r2"
   ]
  },
  {
   "cell_type": "code",
   "execution_count": null,
   "metadata": {
    "Collapsed": "false",
    "slideshow": {
     "slide_type": "fragment"
    }
   },
   "outputs": [
    {
     "data": {
      "image/png": "[encoded data removed]",
      "text/latex": [
       "$\\displaystyle \\left[\\begin{matrix}0 & 0 & 0 & 0\\\\0 & 0 & 0 & 0\\\\0 & 0 & 0 & 0\\\\0 & 0 & 0 & 0\\end{matrix}\\right]$"
      ],
      "text/plain": [
       "⎡0  0  0  0⎤\n",
       "⎢          ⎥\n",
       "⎢0  0  0  0⎥\n",
       "⎢          ⎥\n",
       "⎢0  0  0  0⎥\n",
       "⎢          ⎥\n",
       "⎣0  0  0  0⎦"
      ]
     },
     "execution_count": 34,
     "metadata": {},
     "output_type": "execute_result"
    }
   ],
   "source": [
    "(r1-r2).simplify().subs({p*p:m**2})"
   ]
  },
  {
   "cell_type": "markdown",
   "metadata": {
    "Collapsed": "false",
    "slideshow": {
     "slide_type": "slide"
    }
   },
   "source": [
    "### Proceso $e^+ e^- \\rightarrow \\gamma \\rightarrow \\mu^+ \\mu^-$"
   ]
  },
  {
   "cell_type": "code",
   "execution_count": null,
   "metadata": {
    "Collapsed": "false",
    "slideshow": {
     "slide_type": "subslide"
    }
   },
   "outputs": [
    {
     "data": {
      "text/html": [
       "\n",
       "        <iframe\n",
       "            width=\"600\"\n",
       "            height=\"600\"\n",
       "            src=\"https://arxiv.org/pdf/1602.04182.pdf\"\n",
       "            frameborder=\"0\"\n",
       "            allowfullscreen\n",
       "            \n",
       "        ></iframe>\n",
       "        "
      ],
      "text/plain": [
       "<IPython.lib.display.IFrame at 0x223ebf22688>"
      ]
     },
     "execution_count": 36,
     "metadata": {},
     "output_type": "execute_result"
    }
   ],
   "source": [
    "IFrame('https://arxiv.org/pdf/1602.04182.pdf', width=600, height=600)"
   ]
  },
  {
   "cell_type": "code",
   "execution_count": 45,
   "metadata": {
    "Collapsed": "false",
    "slideshow": {
     "slide_type": "subslide"
    }
   },
   "outputs": [
    {
     "ename": "ImportError",
     "evalue": "cannot import name 'mgamma' from 'sympy' (c:\\Users\\moise\\miniconda3\\envs\\py37\\lib\\site-packages\\sympy\\__init__.py)",
     "output_type": "error",
     "traceback": [
      "\u001b[1;31m---------------------------------------------------------------------------\u001b[0m",
      "\u001b[1;31mImportError\u001b[0m                               Traceback (most recent call last)",
      "\u001b[1;32m~\\AppData\\Local\\Temp\\ipykernel_27368\\1952459484.py\u001b[0m in \u001b[0;36m<module>\u001b[1;34m\u001b[0m\n\u001b[1;32m----> 1\u001b[1;33m \u001b[1;32mfrom\u001b[0m \u001b[0msympy\u001b[0m \u001b[1;32mimport\u001b[0m \u001b[0msin\u001b[0m\u001b[1;33m,\u001b[0m \u001b[0mcos\u001b[0m\u001b[1;33m,\u001b[0m \u001b[0mmgamma\u001b[0m\u001b[1;33m,\u001b[0m \u001b[0mmsigma\u001b[0m\u001b[1;33m\u001b[0m\u001b[1;33m\u001b[0m\u001b[0m\n\u001b[0m\u001b[0;32m      2\u001b[0m \u001b[1;33m\u001b[0m\u001b[0m\n\u001b[0;32m      3\u001b[0m \u001b[0mg\u001b[0m \u001b[1;33m=\u001b[0m \u001b[1;33m[\u001b[0m\u001b[1;33m[\u001b[0m\u001b[1;36m1\u001b[0m\u001b[1;33m,\u001b[0m\u001b[1;36m0\u001b[0m\u001b[1;33m,\u001b[0m\u001b[1;36m0\u001b[0m\u001b[1;33m,\u001b[0m\u001b[1;36m0\u001b[0m\u001b[1;33m]\u001b[0m\u001b[1;33m,\u001b[0m\u001b[1;33m[\u001b[0m\u001b[1;36m0\u001b[0m\u001b[1;33m,\u001b[0m\u001b[1;33m-\u001b[0m\u001b[1;36m1\u001b[0m\u001b[1;33m,\u001b[0m\u001b[1;36m0\u001b[0m\u001b[1;33m,\u001b[0m\u001b[1;36m0\u001b[0m\u001b[1;33m]\u001b[0m\u001b[1;33m,\u001b[0m\u001b[1;33m[\u001b[0m\u001b[1;36m0\u001b[0m\u001b[1;33m,\u001b[0m\u001b[1;36m0\u001b[0m\u001b[1;33m,\u001b[0m\u001b[1;33m-\u001b[0m\u001b[1;36m1\u001b[0m\u001b[1;33m,\u001b[0m\u001b[1;36m0\u001b[0m\u001b[1;33m]\u001b[0m\u001b[1;33m,\u001b[0m\u001b[1;33m[\u001b[0m\u001b[1;36m0\u001b[0m\u001b[1;33m,\u001b[0m\u001b[1;36m0\u001b[0m\u001b[1;33m,\u001b[0m\u001b[1;36m0\u001b[0m\u001b[1;33m,\u001b[0m\u001b[1;33m-\u001b[0m\u001b[1;36m1\u001b[0m\u001b[1;33m]\u001b[0m\u001b[1;33m]\u001b[0m\u001b[1;33m\u001b[0m\u001b[1;33m\u001b[0m\u001b[0m\n\u001b[0;32m      4\u001b[0m \u001b[1;33m\u001b[0m\u001b[0m\n\u001b[0;32m      5\u001b[0m \u001b[0mE\u001b[0m\u001b[1;33m,\u001b[0m \u001b[0mθ\u001b[0m \u001b[1;33m=\u001b[0m \u001b[0msymbols\u001b[0m\u001b[1;33m(\u001b[0m\u001b[1;34mr'E, theta'\u001b[0m\u001b[1;33m,\u001b[0m\u001b[0mpositive\u001b[0m\u001b[1;33m=\u001b[0m\u001b[1;32mTrue\u001b[0m\u001b[1;33m)\u001b[0m\u001b[1;33m\u001b[0m\u001b[1;33m\u001b[0m\u001b[0m\n",
      "\u001b[1;31mImportError\u001b[0m: cannot import name 'mgamma' from 'sympy' (c:\\Users\\moise\\miniconda3\\envs\\py37\\lib\\site-packages\\sympy\\__init__.py)"
     ]
    }
   ],
   "source": [
    "from sympy import sin, cos, mgamma, msigma\n",
    "\n",
    "g = [[1,0,0,0],[0,-1,0,0],[0,0,-1,0],[0,0,0,-1]]\n",
    "\n",
    "E, θ = symbols(r'E, theta',positive=True)\n",
    "pp = symbols(r'p',positive=True)\n",
    "\n",
    "pmu1 = FV(E,0,0,E)\n",
    "pmu2 = FV(E,0,0,-E)\n",
    "pmu3 = FV(E,E*sin(θ),0,E*cos(θ))\n",
    "pmu4 = FV(E,-E*sin(θ),0,-E*cos(θ))\n",
    "\n",
    "display(pmu3)\n",
    "display(pmu4)"
   ]
  },
  {
   "cell_type": "code",
   "execution_count": 46,
   "metadata": {
    "Collapsed": "false",
    "slideshow": {
     "slide_type": "fragment"
    }
   },
   "outputs": [
    {
     "data": {
      "image/png": "[encoded data removed]",
      "text/latex": [
       "$\\displaystyle \\frac{e^{2}}{4 E^{2}}$"
      ],
      "text/plain": [
       "  2 \n",
       " e  \n",
       "────\n",
       "   2\n",
       "4⋅E "
      ]
     },
     "execution_count": 46,
     "metadata": {},
     "output_type": "execute_result"
    }
   ],
   "source": [
    "s = (pmu1+pmu2)*(pmu1+pmu2)\n",
    "e, me, mmu = symbols(r'e, m_e, m_\\mu',positive=True)\n",
    "A = e**2/(s)\n",
    "A"
   ]
  },
  {
   "cell_type": "code",
   "execution_count": 44,
   "metadata": {
    "Collapsed": "false",
    "slideshow": {
     "slide_type": "subslide"
    }
   },
   "outputs": [
    {
     "ename": "NameError",
     "evalue": "name 'mgamma' is not defined",
     "output_type": "error",
     "traceback": [
      "\u001b[1;31m---------------------------------------------------------------------------\u001b[0m",
      "\u001b[1;31mNameError\u001b[0m                                 Traceback (most recent call last)",
      "\u001b[1;32m~\\AppData\\Local\\Temp\\ipykernel_27368\\309239357.py\u001b[0m in \u001b[0;36m<module>\u001b[1;34m\u001b[0m\n\u001b[0;32m      5\u001b[0m M = lambda s1,s2,s3,s4:Add(*[((adj(u3(s3))*g[μ][ν]*mgamma(ν)*v4(s4))*(adj(v2(s2))*mgamma(μ)*u1(s1)))[0] \n\u001b[0;32m      6\u001b[0m                              for μ in range(4) for ν in range(4)])\n\u001b[1;32m----> 7\u001b[1;33m \u001b[0mM\u001b[0m\u001b[1;33m(\u001b[0m\u001b[1;36m1\u001b[0m\u001b[1;33m,\u001b[0m\u001b[1;36m1\u001b[0m\u001b[1;33m,\u001b[0m\u001b[1;36m1\u001b[0m\u001b[1;33m,\u001b[0m\u001b[1;36m1\u001b[0m\u001b[1;33m)\u001b[0m\u001b[1;33m.\u001b[0m\u001b[0mfactor\u001b[0m\u001b[1;33m(\u001b[0m\u001b[1;33m)\u001b[0m\u001b[1;33m\u001b[0m\u001b[1;33m\u001b[0m\u001b[0m\n\u001b[0m",
      "\u001b[1;32m~\\AppData\\Local\\Temp\\ipykernel_27368\\309239357.py\u001b[0m in \u001b[0;36m<lambda>\u001b[1;34m(s1, s2, s3, s4)\u001b[0m\n\u001b[0;32m      4\u001b[0m \u001b[0mu1\u001b[0m \u001b[1;33m=\u001b[0m \u001b[1;32mlambda\u001b[0m \u001b[0ms1\u001b[0m\u001b[1;33m:\u001b[0m\u001b[0mSpinorU\u001b[0m\u001b[1;33m(\u001b[0m\u001b[0mpmu1\u001b[0m\u001b[1;33m,\u001b[0m\u001b[0mme\u001b[0m\u001b[1;33m,\u001b[0m\u001b[0ms1\u001b[0m\u001b[1;33m)\u001b[0m\u001b[1;33m\u001b[0m\u001b[1;33m\u001b[0m\u001b[0m\n\u001b[0;32m      5\u001b[0m M = lambda s1,s2,s3,s4:Add(*[((adj(u3(s3))*g[μ][ν]*mgamma(ν)*v4(s4))*(adj(v2(s2))*mgamma(μ)*u1(s1)))[0] \n\u001b[1;32m----> 6\u001b[1;33m                              for μ in range(4) for ν in range(4)])\n\u001b[0m\u001b[0;32m      7\u001b[0m \u001b[0mM\u001b[0m\u001b[1;33m(\u001b[0m\u001b[1;36m1\u001b[0m\u001b[1;33m,\u001b[0m\u001b[1;36m1\u001b[0m\u001b[1;33m,\u001b[0m\u001b[1;36m1\u001b[0m\u001b[1;33m,\u001b[0m\u001b[1;36m1\u001b[0m\u001b[1;33m)\u001b[0m\u001b[1;33m.\u001b[0m\u001b[0mfactor\u001b[0m\u001b[1;33m(\u001b[0m\u001b[1;33m)\u001b[0m\u001b[1;33m\u001b[0m\u001b[1;33m\u001b[0m\u001b[0m\n",
      "\u001b[1;32m~\\AppData\\Local\\Temp\\ipykernel_27368\\309239357.py\u001b[0m in \u001b[0;36m<listcomp>\u001b[1;34m(.0)\u001b[0m\n\u001b[0;32m      4\u001b[0m \u001b[0mu1\u001b[0m \u001b[1;33m=\u001b[0m \u001b[1;32mlambda\u001b[0m \u001b[0ms1\u001b[0m\u001b[1;33m:\u001b[0m\u001b[0mSpinorU\u001b[0m\u001b[1;33m(\u001b[0m\u001b[0mpmu1\u001b[0m\u001b[1;33m,\u001b[0m\u001b[0mme\u001b[0m\u001b[1;33m,\u001b[0m\u001b[0ms1\u001b[0m\u001b[1;33m)\u001b[0m\u001b[1;33m\u001b[0m\u001b[1;33m\u001b[0m\u001b[0m\n\u001b[0;32m      5\u001b[0m M = lambda s1,s2,s3,s4:Add(*[((adj(u3(s3))*g[μ][ν]*mgamma(ν)*v4(s4))*(adj(v2(s2))*mgamma(μ)*u1(s1)))[0] \n\u001b[1;32m----> 6\u001b[1;33m                              for μ in range(4) for ν in range(4)])\n\u001b[0m\u001b[0;32m      7\u001b[0m \u001b[0mM\u001b[0m\u001b[1;33m(\u001b[0m\u001b[1;36m1\u001b[0m\u001b[1;33m,\u001b[0m\u001b[1;36m1\u001b[0m\u001b[1;33m,\u001b[0m\u001b[1;36m1\u001b[0m\u001b[1;33m,\u001b[0m\u001b[1;36m1\u001b[0m\u001b[1;33m)\u001b[0m\u001b[1;33m.\u001b[0m\u001b[0mfactor\u001b[0m\u001b[1;33m(\u001b[0m\u001b[1;33m)\u001b[0m\u001b[1;33m\u001b[0m\u001b[1;33m\u001b[0m\u001b[0m\n",
      "\u001b[1;31mNameError\u001b[0m: name 'mgamma' is not defined"
     ]
    }
   ],
   "source": [
    "u3 = lambda s3:SpinorU(pmu3,mmu,s3)\n",
    "v4 = lambda s4:SpinorV(pmu4,mmu,s4)\n",
    "v2 = lambda s2:SpinorV(pmu2,me,s2)\n",
    "u1 = lambda s1:SpinorU(pmu1,me,s1)\n",
    "M = lambda s1,s2,s3,s4:Add(*[((adj(u3(s3))*g[μ][ν]*mgamma(ν)*v4(s4))*(adj(v2(s2))*mgamma(μ)*u1(s1)))[0] \n",
    "                             for μ in range(4) for ν in range(4)])\n",
    "M(1,1,1,1).factor()"
   ]
  },
  {
   "cell_type": "code",
   "execution_count": 223,
   "metadata": {
    "Collapsed": "false",
    "slideshow": {
     "slide_type": "fragment"
    }
   },
   "outputs": [
    {
     "data": {
      "image/png": "[encoded data removed]",
      "text/latex": [
       "$$\\frac{e^{4} \\left(\\frac{E^{4} \\left(- E^{2} + \\left(E + m_{e}\\right)^{2}\\right)^{2} \\left(- \\cos{\\left (4 \\theta \\right )} + 1\\right)}{2} + \\frac{E^{4} \\left(E^{2} + \\left(E + m_{e}\\right)^{2}\\right)^{2} \\left(- \\cos{\\left (4 \\theta \\right )} + 1\\right)}{2} + 2 E^{4} \\left(E^{2} + \\left(E + m_{e}\\right)^{2}\\right)^{2} \\sin^{4}{\\left (\\theta \\right )} + \\left(- E^{2} + \\left(E + m_{e}\\right)^{2}\\right)^{2} \\left(2 E^{2} \\sin^{2}{\\left (\\theta \\right )} + 2 E m_\\mu + m_\\mu^{2}\\right)^{2} + 2 \\left(E^{2} + \\left(E + m_{e}\\right)^{2}\\right)^{2} \\left(E^{2} \\cos^{2}{\\left (\\theta \\right )} + \\left(E + m_\\mu\\right)^{2}\\right)^{2}\\right)}{16 E^{4} \\left(E + m_\\mu\\right)^{2} \\left(E + m_{e}\\right)^{2}}$$"
      ],
      "text/plain": [
       "   ⎛                     2                                      2             \n",
       "   ⎜ 4 ⎛   2           2⎞                     4 ⎛ 2           2⎞              \n",
       " 4 ⎜E ⋅⎝- E  + (E + mₑ) ⎠ ⋅(-cos(4⋅θ) + 1)   E ⋅⎝E  + (E + mₑ) ⎠ ⋅(-cos(4⋅θ) +\n",
       "e ⋅⎜────────────────────────────────────── + ─────────────────────────────────\n",
       "   ⎝                  2                                       2               \n",
       "──────────────────────────────────────────────────────────────────────────────\n",
       "                                                                              \n",
       "                                                                              \n",
       "\n",
       "                                                                              \n",
       "                           2                             2                    \n",
       " 1)      4 ⎛ 2           2⎞     4      ⎛   2           2⎞  ⎛   2    2         \n",
       "─── + 2⋅E ⋅⎝E  + (E + mₑ) ⎠ ⋅sin (θ) + ⎝- E  + (E + mₑ) ⎠ ⋅⎝2⋅E ⋅sin (θ) + 2⋅E\n",
       "                                                                              \n",
       "──────────────────────────────────────────────────────────────────────────────\n",
       "                         4            2         2                             \n",
       "                     16⋅E ⋅(E + m_\\mu) ⋅(E + mₑ)                              \n",
       "\n",
       "                                                                    ⎞\n",
       "                2                     2                            2⎟\n",
       "              2⎞      ⎛ 2           2⎞  ⎛ 2    2                 2⎞ ⎟\n",
       "⋅m_\\mu + m_\\mu ⎠  + 2⋅⎝E  + (E + mₑ) ⎠ ⋅⎝E ⋅cos (θ) + (E + m_\\mu) ⎠ ⎟\n",
       "                                                                    ⎠\n",
       "─────────────────────────────────────────────────────────────────────\n",
       "                                                                     \n",
       "                                                                     "
      ]
     },
     "execution_count": 223,
     "metadata": {},
     "output_type": "execute_result"
    }
   ],
   "source": [
    "spins = [1,2]\n",
    "r = Add(*[M(s1,s2,s3,s4)*conjugate(M(s1,s2,s3,s4)) for s1 in spins for s2 in spins for s3 in spins for s4 in spins])\n",
    "t = A**2*(r/4).simplify()#.collect(pp3)\n",
    "t"
   ]
  },
  {
   "cell_type": "code",
   "execution_count": 224,
   "metadata": {
    "Collapsed": "false",
    "slideshow": {
     "slide_type": "fragment"
    }
   },
   "outputs": [
    {
     "data": {
      "image/png": "[encoded data removed]",
      "text/latex": [
       "$$e^{4} \\left(\\cos^{2}{\\left (\\theta \\right )} + 1\\right)$$"
      ],
      "text/plain": [
       " 4 ⎛   2       ⎞\n",
       "e ⋅⎝cos (θ) + 1⎠"
      ]
     },
     "execution_count": 224,
     "metadata": {},
     "output_type": "execute_result"
    }
   ],
   "source": [
    "t = t.subs({me:0,mmu:0}).simplify().subs({sin(θ):sqrt(1-cos(θ)**2)})\n",
    "t"
   ]
  },
  {
   "cell_type": "markdown",
   "metadata": {
    "Collapsed": "false",
    "slideshow": {
     "slide_type": "slide"
    }
   },
   "source": [
    "## Potencial de Higgs\n",
    "\n",
    "El campo de Higgs, representa una parte muy importante del exitó del model oestándar, y está regído por el potencial\n",
    "\n",
    "$$V = m^2 \\Phi^{\\dagger}\\Phi -\\lambda (\\Phi^{\\dagger}\\Phi)^2$$\n",
    "\n",
    "donde \n",
    "\n",
    "$$\\Phi = \n",
    "\\begin{pmatrix}\n",
    "\\phi_1 + i \\phi_2\\\\\n",
    "\\phi_3 + i \\phi_4\n",
    "\\end{pmatrix}\n",
    "$$\n",
    "\n",
    "el cual, adquiere un valor de expectación en el vacío \n",
    "\n",
    "$$\\Phi = \n",
    "\\begin{pmatrix}\n",
    "0\\\\\n",
    "v/\\sqrt{2}\n",
    "\\end{pmatrix}\n",
    "$$"
   ]
  },
  {
   "cell_type": "code",
   "execution_count": 1,
   "metadata": {
    "Collapsed": "false",
    "slideshow": {
     "slide_type": "subslide"
    }
   },
   "outputs": [],
   "source": [
    "from mis_campos import *"
   ]
  },
  {
   "cell_type": "code",
   "execution_count": 226,
   "metadata": {
    "Collapsed": "false",
    "slideshow": {
     "slide_type": "fragment"
    }
   },
   "outputs": [
    {
     "data": {
      "image/png": "[encoded data removed]",
      "text/latex": [
       "$$\\left[\\begin{matrix}\\frac{\\phi_1 + i \\phi_2}{2}\\\\\\frac{\\phi_3 + i \\phi_4}{2}\\end{matrix}\\right]$$"
      ],
      "text/plain": [
       "⎡\\phi₁ + ⅈ⋅\\phi₂⎤\n",
       "⎢───────────────⎥\n",
       "⎢       2       ⎥\n",
       "⎢               ⎥\n",
       "⎢\\phi₃ + ⅈ⋅\\phi₄⎥\n",
       "⎢───────────────⎥\n",
       "⎣       2       ⎦"
      ]
     },
     "execution_count": 226,
     "metadata": {},
     "output_type": "execute_result"
    }
   ],
   "source": [
    "ϕ1, ϕ2, ϕ3, ϕ4 = (Campo_bosonico_neutro('\\phi_{a}'.format(a=i)) for i in [1,2,3,4])\n",
    "v = symbols(r'v', positive=True)\n",
    "Φ = (S(1)/2)*Rep_gauge([ ϕ1 + I*ϕ2,(ϕ3 + I*ϕ4)])\n",
    "Φ"
   ]
  },
  {
   "cell_type": "code",
   "execution_count": 227,
   "metadata": {
    "Collapsed": "false",
    "slideshow": {
     "slide_type": "fragment"
    }
   },
   "outputs": [
    {
     "data": {
      "image/png": "[encoded data removed]",
      "text/latex": [
       "$$- \\lambda \\left(\\frac{\\left(\\phi_1 - i \\phi_2\\right) \\left(\\phi_1 + i \\phi_2\\right)}{4} + \\frac{\\left(\\phi_3 - i \\phi_4\\right) \\left(\\phi_3 + i \\phi_4\\right)}{4}\\right)^{2} + m^{2} \\left(\\frac{\\left(\\phi_1 - i \\phi_2\\right) \\left(\\phi_1 + i \\phi_2\\right)}{4} + \\frac{\\left(\\phi_3 - i \\phi_4\\right) \\left(\\phi_3 + i \\phi_4\\right)}{4}\\right)$$"
      ],
      "text/plain": [
       "                                                                              \n",
       "          ⎛(\\phi₁ - ⅈ⋅\\phi₂)⋅(\\phi₁ + ⅈ⋅\\phi₂)   (\\phi₃ - ⅈ⋅\\phi₄)⋅(\\phi₃ + ⅈ⋅\n",
       "- \\lambda⋅⎜─────────────────────────────────── + ─────────────────────────────\n",
       "          ⎝                 4                                     4           \n",
       "\n",
       "       2                                                                      \n",
       "\\phi₄)⎞     2 ⎛(\\phi₁ - ⅈ⋅\\phi₂)⋅(\\phi₁ + ⅈ⋅\\phi₂)   (\\phi₃ - ⅈ⋅\\phi₄)⋅(\\phi₃ \n",
       "──────⎟  + m ⋅⎜─────────────────────────────────── + ─────────────────────────\n",
       "      ⎠       ⎝                 4                                     4       \n",
       "\n",
       "           \n",
       "+ ⅈ⋅\\phi₄)⎞\n",
       "──────────⎟\n",
       "          ⎠"
      ]
     },
     "execution_count": 227,
     "metadata": {},
     "output_type": "execute_result"
    }
   ],
   "source": [
    "m, λ = symbols(r'm,\\lambda',real=True)\n",
    "A = (daga(Φ)*Φ)[0]\n",
    "V = m**2*A - λ*A**2 \n",
    "V"
   ]
  },
  {
   "cell_type": "markdown",
   "metadata": {
    "Collapsed": "false",
    "slideshow": {
     "slide_type": "subslide"
    }
   },
   "source": [
    "Para hallar las condiciones del mínimo, calculamos \n",
    "$$\\frac{\\partial V}{\\partial \\phi_3}|_{min} ==0$$\n",
    "\n",
    "y en este caso despejaremos la variable $\\lambda$"
   ]
  },
  {
   "cell_type": "code",
   "execution_count": 228,
   "metadata": {
    "Collapsed": "false",
    "slideshow": {
     "slide_type": "fragment"
    }
   },
   "outputs": [
    {
     "data": {
      "image/png": "[encoded data removed]",
      "text/latex": [
       "$$\\left \\{ \\lambda : \\frac{4 m^{2}}{v^{2}}\\right \\}$$"
      ],
      "text/plain": [
       "⎧            2⎫\n",
       "⎪         4⋅m ⎪\n",
       "⎨\\lambda: ────⎬\n",
       "⎪           2 ⎪\n",
       "⎩          v  ⎭"
      ]
     },
     "execution_count": 228,
     "metadata": {},
     "output_type": "execute_result"
    }
   ],
   "source": [
    "vev = {ϕ1:0,ϕ2:0,ϕ4:0,ϕ3:v/sqrt(2)}\n",
    "cond_min = solve(diff(V,ϕ3).subs(vev),λ,dict=True)[0]\n",
    "cond_min  "
   ]
  },
  {
   "cell_type": "markdown",
   "metadata": {
    "Collapsed": "false",
    "slideshow": {
     "slide_type": "fragment"
    }
   },
   "source": [
    "Luego sustituimos la condicion del mínimo en el potencial"
   ]
  },
  {
   "cell_type": "code",
   "execution_count": 229,
   "metadata": {
    "Collapsed": "false",
    "slideshow": {
     "slide_type": "fragment"
    }
   },
   "outputs": [
    {
     "data": {
      "image/png": "[encoded data removed]",
      "text/latex": [
       "$$m^{2} \\left(\\frac{\\left(\\phi_1 - i \\phi_2\\right) \\left(\\phi_1 + i \\phi_2\\right)}{4} + \\frac{\\left(\\phi_3 - i \\phi_4\\right) \\left(\\phi_3 + i \\phi_4\\right)}{4}\\right) - \\frac{4 m^{2} \\left(\\frac{\\left(\\phi_1 - i \\phi_2\\right) \\left(\\phi_1 + i \\phi_2\\right)}{4} + \\frac{\\left(\\phi_3 - i \\phi_4\\right) \\left(\\phi_3 + i \\phi_4\\right)}{4}\\right)^{2}}{v^{2}}$$"
      ],
      "text/plain": [
       "                                                                              \n",
       "                                                                              \n",
       "                                                                              \n",
       " 2 ⎛(\\phi₁ - ⅈ⋅\\phi₂)⋅(\\phi₁ + ⅈ⋅\\phi₂)   (\\phi₃ - ⅈ⋅\\phi₄)⋅(\\phi₃ + ⅈ⋅\\phi₄)⎞\n",
       "m ⋅⎜─────────────────────────────────── + ───────────────────────────────────⎟\n",
       "   ⎝                 4                                     4                 ⎠\n",
       "                                                                              \n",
       "\n",
       "                                                                              \n",
       "      2 ⎛(\\phi₁ - ⅈ⋅\\phi₂)⋅(\\phi₁ + ⅈ⋅\\phi₂)   (\\phi₃ - ⅈ⋅\\phi₄)⋅(\\phi₃ + ⅈ⋅\\p\n",
       "   4⋅m ⋅⎜─────────────────────────────────── + ───────────────────────────────\n",
       "        ⎝                 4                                     4             \n",
       " - ───────────────────────────────────────────────────────────────────────────\n",
       "                                            2                                 \n",
       "                                           v                                  \n",
       "\n",
       "     2\n",
       "hi₄)⎞ \n",
       "────⎟ \n",
       "    ⎠ \n",
       "──────\n",
       "      \n",
       "      "
      ]
     },
     "execution_count": 229,
     "metadata": {},
     "output_type": "execute_result"
    }
   ],
   "source": [
    "Vmin = V.subs(cond_min)\n",
    "Vmin"
   ]
  },
  {
   "cell_type": "markdown",
   "metadata": {
    "Collapsed": "false",
    "slideshow": {
     "slide_type": "subslide"
    }
   },
   "source": [
    "Finalmente, calculamos la matrix de masa usando la definición:\n",
    "$$M_{ij} = \\frac{\\partial^2 V}{\\partial \\phi_i \\partial \\phi_j}|_{min} $$"
   ]
  },
  {
   "cell_type": "code",
   "execution_count": 230,
   "metadata": {
    "Collapsed": "false",
    "slideshow": {
     "slide_type": "slide"
    }
   },
   "outputs": [
    {
     "data": {
      "image/png": "[encoded data removed]",
      "text/latex": [
       "$$\\left[\\begin{matrix}0 & 0 & 0 & 0\\\\0 & 0 & 0 & 0\\\\0 & 0 & m^{2} & 0\\\\0 & 0 & 0 & 0\\end{matrix}\\right]$$"
      ],
      "text/plain": [
       "⎡0  0  0   0⎤\n",
       "⎢           ⎥\n",
       "⎢0  0  0   0⎥\n",
       "⎢           ⎥\n",
       "⎢       2   ⎥\n",
       "⎢0  0  m   0⎥\n",
       "⎢           ⎥\n",
       "⎣0  0  0   0⎦"
      ]
     },
     "execution_count": 230,
     "metadata": {},
     "output_type": "execute_result"
    }
   ],
   "source": [
    "campos = (ϕ1,ϕ2,ϕ3,ϕ4)\n",
    "M2 = Matrix([[-Vmin.diff(x).diff(y).subs(vev) for x in campos] for y in campos])\n",
    "M2"
   ]
  },
  {
   "cell_type": "markdown",
   "metadata": {
    "Collapsed": "false",
    "slideshow": {
     "slide_type": "subslide"
    }
   },
   "source": [
    "### Extensiones escalares\n",
    "\n",
    "El Modelo Estándar tiene problemas que no puede resolver, como lo son, la materia oscura o la masa del neutrino, entre otros. Por tal motivo, se buscan extensiones de este modelo, una forma particular de lograrlo es através de sectores escalares extendidos.\n",
    "\n",
    "Consideremos el potencial del 2HDM-I, \n",
    "![potencial](potencial_escotogenic.png)\n",
    "\n"
   ]
  },
  {
   "cell_type": "code",
   "execution_count": 2,
   "metadata": {
    "Collapsed": "false",
    "slideshow": {
     "slide_type": "subslide"
    }
   },
   "outputs": [
    {
     "data": {
      "image/png": "[encoded data removed]",
      "text/latex": [
       "$$\\left[\\begin{matrix}{\\phi^+}\\\\{\\phi^0_1} + i {\\phi^0_2}\\end{matrix}\\right]$$"
      ],
      "text/plain": [
       "⎡         {\\phi__+}         ⎤\n",
       "⎢                           ⎥\n",
       "⎣{\\phi_1}__0 + ⅈ⋅{\\phi_2}__0⎦"
      ]
     },
     "execution_count": 2,
     "metadata": {},
     "output_type": "execute_result"
    }
   ],
   "source": [
    "ϕ0 = {i:Campo_escalar_neutro(r'{{\\phi^0_{a}}}'.format(a=i)) for i in [1,2]}\n",
    "ϕ = {i:Campo_escalar_cargado(r'{{\\phi^{a}}}'.format(a=i)) for i in ['+','-']}\n",
    "Φ = Rep_gauge([ϕ['+'],ϕ0[1] + I*ϕ0[2]])\n",
    "Φ"
   ]
  },
  {
   "cell_type": "code",
   "execution_count": 3,
   "metadata": {
    "Collapsed": "false",
    "slideshow": {
     "slide_type": "fragment"
    }
   },
   "outputs": [
    {
     "data": {
      "image/png": "[encoded data removed]",
      "text/latex": [
       "$$\\left[\\begin{matrix}{\\eta^+}\\\\i {\\eta^0_I} + {\\eta^0_R}\\end{matrix}\\right]$$"
      ],
      "text/plain": [
       "⎡         {\\eta__+}         ⎤\n",
       "⎢                           ⎥\n",
       "⎣ⅈ⋅{\\eta_I}__0 + {\\eta_R}__0⎦"
      ]
     },
     "execution_count": 3,
     "metadata": {},
     "output_type": "execute_result"
    }
   ],
   "source": [
    "η0 = {i:Campo_escalar_neutro(r'{{\\eta^0_{a}}}'.format(a=i)) for i in ['R','I']}\n",
    "ηm = {i:Campo_escalar_cargado(r'{{\\eta^{a}}}'.format(a=i)) for i in ['+','-']}\n",
    "η = Rep_gauge([ηm['+'],η0['R'] + I*η0['I']])\n",
    "η"
   ]
  },
  {
   "cell_type": "code",
   "execution_count": 4,
   "metadata": {
    "Collapsed": "false",
    "slideshow": {
     "slide_type": "fragment"
    }
   },
   "outputs": [
    {
     "data": {
      "image/png": "[encoded data removed]",
      "text/latex": [
       "$$\\left ( \\left({\\phi^0_1} - i {\\phi^0_2}\\right) \\left({\\phi^0_1} + i {\\phi^0_2}\\right) + {\\phi^-} {\\phi^+}, \\quad \\left(- i {\\eta^0_I} + {\\eta^0_R}\\right) \\left(i {\\eta^0_I} + {\\eta^0_R}\\right) + {\\eta^-} {\\eta^+}, \\quad \\left({\\phi^0_1} - i {\\phi^0_2}\\right) \\left(i {\\eta^0_I} + {\\eta^0_R}\\right) + {\\phi^-} {\\eta^+}, \\quad \\left(- i {\\eta^0_I} + {\\eta^0_R}\\right) \\left({\\phi^0_1} + i {\\phi^0_2}\\right) + {\\eta^-} {\\phi^+}\\right )$$"
      ],
      "text/plain": [
       "(({\\phi_1}__0 - ⅈ⋅{\\phi_2}__0)⋅({\\phi_1}__0 + ⅈ⋅{\\phi_2}__0) + {\\phi__-}⋅{\\phi\n",
       "__+}, (-ⅈ⋅{\\eta_I}__0 + {\\eta_R}__0)⋅(ⅈ⋅{\\eta_I}__0 + {\\eta_R}__0) + {\\eta__-}\n",
       "⋅{\\eta__+}, ({\\phi_1}__0 - ⅈ⋅{\\phi_2}__0)⋅(ⅈ⋅{\\eta_I}__0 + {\\eta_R}__0) + {\\ph\n",
       "i__-}⋅{\\eta__+}, (-ⅈ⋅{\\eta_I}__0 + {\\eta_R}__0)⋅({\\phi_1}__0 + ⅈ⋅{\\phi_2}__0) \n",
       "+ {\\eta__-}⋅{\\phi__+})"
      ]
     },
     "execution_count": 4,
     "metadata": {},
     "output_type": "execute_result"
    }
   ],
   "source": [
    "A = (daga(Φ).subs({Dagger(ϕ['+']):ϕ['-']})*Φ)[0]\n",
    "B = (daga(η).subs({Dagger(ηm['+']):ηm['-']})*η)[0]\n",
    "C = (daga(Φ).subs({Dagger(ϕ['+']):ϕ['-']})*η)[0]\n",
    "D = (daga(η).subs({Dagger(ηm['+']):ηm['-']})*Φ)[0]\n",
    "A,B,C,D"
   ]
  },
  {
   "cell_type": "code",
   "execution_count": 5,
   "metadata": {
    "Collapsed": "false",
    "slideshow": {
     "slide_type": "subslide"
    }
   },
   "outputs": [
    {
     "data": {
      "image/png": "[encoded data removed]",
      "text/latex": [
       "$$V_{s} = \\frac{\\lambda_1 \\left(\\left({\\phi^0_1} - i {\\phi^0_2}\\right) \\left({\\phi^0_1} + i {\\phi^0_2}\\right) + {\\phi^-} {\\phi^+}\\right)^{2}}{2} + \\frac{\\lambda_2 \\left(\\left(- i {\\eta^0_I} + {\\eta^0_R}\\right) \\left(i {\\eta^0_I} + {\\eta^0_R}\\right) + {\\eta^-} {\\eta^+}\\right)^{2}}{2} + \\lambda_3 \\left(\\left({\\phi^0_1} - i {\\phi^0_2}\\right) \\left({\\phi^0_1} + i {\\phi^0_2}\\right) + {\\phi^-} {\\phi^+}\\right) \\left(\\left(- i {\\eta^0_I} + {\\eta^0_R}\\right) \\left(i {\\eta^0_I} + {\\eta^0_R}\\right) + {\\eta^-} {\\eta^+}\\right) + \\lambda_4 \\left(\\left({\\phi^0_1} - i {\\phi^0_2}\\right) \\left(i {\\eta^0_I} + {\\eta^0_R}\\right) + {\\phi^-} {\\eta^+}\\right) \\left(\\left(- i {\\eta^0_I} + {\\eta^0_R}\\right) \\left({\\phi^0_1} + i {\\phi^0_2}\\right) + {\\eta^-} {\\phi^+}\\right) + \\frac{\\lambda_5 \\left(\\left(\\left(- i {\\eta^0_I} + {\\eta^0_R}\\right) \\left({\\phi^0_1} + i {\\phi^0_2}\\right) + {\\eta^-} {\\phi^+}\\right)^{2} + \\left(\\left({\\phi^0_1} - i {\\phi^0_2}\\right) \\left(i {\\eta^0_I} + {\\eta^0_R}\\right) + {\\phi^-} {\\eta^+}\\right)^{2}\\right)}{2} + m_{1}^{2} \\left(\\left({\\phi^0_1} - i {\\phi^0_2}\\right) \\left({\\phi^0_1} + i {\\phi^0_2}\\right) + {\\phi^-} {\\phi^+}\\right) + m_{2}^{2} \\left(\\left(- i {\\eta^0_I} + {\\eta^0_R}\\right) \\left(i {\\eta^0_I} + {\\eta^0_R}\\right) + {\\eta^-} {\\eta^+}\\right)$$"
      ],
      "text/plain": [
       "                                                                              \n",
       "     \\lambda₁⋅(({\\phi_1}__0 - ⅈ⋅{\\phi_2}__0)⋅({\\phi_1}__0 + ⅈ⋅{\\phi_2}__0) + {\n",
       "Vₛ = ─────────────────────────────────────────────────────────────────────────\n",
       "                                                   2                          \n",
       "\n",
       "                   2                                                          \n",
       "\\phi__-}⋅{\\phi__+})    \\lambda₂⋅((-ⅈ⋅{\\eta_I}__0 + {\\eta_R}__0)⋅(ⅈ⋅{\\eta_I}__0\n",
       "──────────────────── + ───────────────────────────────────────────────────────\n",
       "                                                                     2        \n",
       "\n",
       "                                      2                                       \n",
       " + {\\eta_R}__0) + {\\eta__-}⋅{\\eta__+})                                        \n",
       "─────────────────────────────────────── + \\lambda₃⋅(({\\phi_1}__0 - ⅈ⋅{\\phi_2}_\n",
       "                                                                              \n",
       "\n",
       "                                                                              \n",
       "                                                                              \n",
       "_0)⋅({\\phi_1}__0 + ⅈ⋅{\\phi_2}__0) + {\\phi__-}⋅{\\phi__+})⋅((-ⅈ⋅{\\eta_I}__0 + {\\\n",
       "                                                                              \n",
       "\n",
       "                                                                              \n",
       "                                                                              \n",
       "eta_R}__0)⋅(ⅈ⋅{\\eta_I}__0 + {\\eta_R}__0) + {\\eta__-}⋅{\\eta__+}) + \\lambda₄⋅(({\n",
       "                                                                              \n",
       "\n",
       "                                                                              \n",
       "                                                                              \n",
       "\\phi_1}__0 - ⅈ⋅{\\phi_2}__0)⋅(ⅈ⋅{\\eta_I}__0 + {\\eta_R}__0) + {\\phi__-}⋅{\\eta__+\n",
       "                                                                              \n",
       "\n",
       "                                                                              \n",
       "                                                                              \n",
       "})⋅((-ⅈ⋅{\\eta_I}__0 + {\\eta_R}__0)⋅({\\phi_1}__0 + ⅈ⋅{\\phi_2}__0) + {\\eta__-}⋅{\n",
       "                                                                              \n",
       "\n",
       "                     ⎛                                                        \n",
       "            \\lambda₅⋅⎝((-ⅈ⋅{\\eta_I}__0 + {\\eta_R}__0)⋅({\\phi_1}__0 + ⅈ⋅{\\phi_2\n",
       "\\phi__+}) + ──────────────────────────────────────────────────────────────────\n",
       "                                                                              \n",
       "\n",
       "                            2                                                 \n",
       "}__0) + {\\eta__-}⋅{\\phi__+})  + (({\\phi_1}__0 - ⅈ⋅{\\phi_2}__0)⋅(ⅈ⋅{\\eta_I}__0 \n",
       "──────────────────────────────────────────────────────────────────────────────\n",
       "                         2                                                    \n",
       "\n",
       "                                     2⎞                                       \n",
       "+ {\\eta_R}__0) + {\\phi__-}⋅{\\eta__+}) ⎠     2                                 \n",
       "─────────────────────────────────────── + m₁ ⋅(({\\phi_1}__0 - ⅈ⋅{\\phi_2}__0)⋅(\n",
       "                                                                              \n",
       "\n",
       "                                                                              \n",
       "                                                        2                     \n",
       "{\\phi_1}__0 + ⅈ⋅{\\phi_2}__0) + {\\phi__-}⋅{\\phi__+}) + m₂ ⋅((-ⅈ⋅{\\eta_I}__0 + {\n",
       "                                                                              \n",
       "\n",
       "                                                                \n",
       "                                                                \n",
       "\\eta_R}__0)⋅(ⅈ⋅{\\eta_I}__0 + {\\eta_R}__0) + {\\eta__-}⋅{\\eta__+})\n",
       "                                                                "
      ]
     },
     "execution_count": 5,
     "metadata": {},
     "output_type": "execute_result"
    }
   ],
   "source": [
    "m_1 = Symbol(r'm_1')\n",
    "m_2 = Symbol(r'm_2')\n",
    "λ_1 = Symbol(r'\\lambda_1')\n",
    "λ_2 = Symbol(r'\\lambda_2')\n",
    "λ_3 = Symbol(r'\\lambda_3')\n",
    "λ_4 = Symbol(r'\\lambda_4')\n",
    "λ_5 = Symbol(r'\\lambda_5')\n",
    "V_s = symbols(r'V_s')\n",
    "V = m_1**2*A + m_2**2*B + (λ_1/2)*A**2 + (λ_2/2)*B**2 + λ_3*A*B + λ_4*C*D + (λ_5/2)*(C**2 + D**2)\n",
    "Eq(V_s, V)"
   ]
  },
  {
   "cell_type": "markdown",
   "metadata": {
    "Collapsed": "false",
    "slideshow": {
     "slide_type": "subslide"
    }
   },
   "source": [
    "Definiendo el valor de expectación en el vació"
   ]
  },
  {
   "cell_type": "code",
   "execution_count": 6,
   "metadata": {
    "Collapsed": "false",
    "slideshow": {
     "slide_type": "fragment"
    }
   },
   "outputs": [
    {
     "data": {
      "image/png": "[encoded data removed]",
      "text/latex": [
       "$$\\left \\{ {\\eta^+} : 0, \\quad {\\eta^-} : 0, \\quad {\\phi^+} : 0, \\quad {\\phi^-} : 0, \\quad {\\eta^0_I} : 0, \\quad {\\eta^0_R} : 0, \\quad {\\phi^0_1} : \\frac{\\sqrt{2} v}{2}, \\quad {\\phi^0_2} : 0\\right \\}$$"
      ],
      "text/plain": [
       "⎧                                                                             \n",
       "⎨{\\eta__+}: 0, {\\eta__-}: 0, {\\phi__+}: 0, {\\phi__-}: 0, {\\eta_I}__0: 0, {\\eta\n",
       "⎩                                                                             \n",
       "\n",
       "                        √2⋅v                ⎫\n",
       "_R}__0: 0, {\\phi_1}__0: ────, {\\phi_2}__0: 0⎬\n",
       "                         2                  ⎭"
      ]
     },
     "execution_count": 6,
     "metadata": {},
     "output_type": "execute_result"
    }
   ],
   "source": [
    "# vevs\n",
    "v = symbols('v', real=True)\n",
    "vevs = {ϕ['+']:0,ϕ['-']:0,ηm['+']:0,ηm['-']:0,ϕ0[1]:v/sqrt(2),ϕ0[2]:0,η0['R']:0,η0['I']:0}\n",
    "vevs "
   ]
  },
  {
   "cell_type": "markdown",
   "metadata": {
    "Collapsed": "false",
    "slideshow": {
     "slide_type": "subslide"
    }
   },
   "source": [
    "Condición del minímo"
   ]
  },
  {
   "cell_type": "code",
   "execution_count": 9,
   "metadata": {
    "Collapsed": "false",
    "slideshow": {
     "slide_type": "fragment"
    }
   },
   "outputs": [],
   "source": [
    "derivada = diff(V,ϕ0[1]).subs({ϕ['+']:0,ϕ['-']:0,ηm['+']:0,ηm['-']:0,ϕ0[1]:v/sqrt(2),ϕ0[2]:0,η0['R']:0})\n",
    "derivada = Add(*[i.subs({η0['I']:0}) for i  in derivada.args])\n",
    "#derivada\n",
    "\n",
    "cond_min = solve(Eq(diff(V.subs(vevs),v),0),m_1**2,dict=True)[0]"
   ]
  },
  {
   "cell_type": "code",
   "execution_count": 10,
   "metadata": {
    "Collapsed": "false",
    "slideshow": {
     "slide_type": "subslide"
    }
   },
   "outputs": [
    {
     "data": {
      "image/png": "[encoded data removed]",
      "text/latex": [
       "$$\\left [ {\\phi^+}, \\quad {\\phi^-}, \\quad {\\eta^+}, \\quad {\\eta^-}, \\quad {\\phi^0_1}, \\quad {\\phi^0_2}, \\quad {\\eta^0_R}, \\quad {\\eta^0_I}\\right ]$$"
      ],
      "text/plain": [
       "[{\\phi__+}, {\\phi__-}, {\\eta__+}, {\\eta__-}, {\\phi_1}__0, {\\phi_2}__0, {\\eta_R\n",
       "}__0, {\\eta_I}__0]"
      ]
     },
     "execution_count": 10,
     "metadata": {},
     "output_type": "execute_result"
    },
    {
     "data": {
      "image/png": "[encoded data removed]",
      "text/latex": [
       "$$\\left[\\begin{matrix}0 & 0 & 0 & 0 & 0 & 0 & 0 & 0\\\\0 & 0 & 0 & 0 & 0 & 0 & 0 & 0\\\\0 & 0 & 0 & \\frac{\\lambda_3 v^{2}}{2} + m_{2}^{2} & 0 & 0 & 0 & 0\\\\0 & 0 & \\frac{\\lambda_3 v^{2}}{2} + m_{2}^{2} & 0 & 0 & 0 & 0 & 0\\\\0 & 0 & 0 & 0 & 2 \\lambda_1 v^{2} & 0 & 0 & 0\\\\0 & 0 & 0 & 0 & 0 & 0 & 0 & 0\\\\0 & 0 & 0 & 0 & 0 & 0 & 2 m_{2}^{2} + v^{2} \\left(\\lambda_3 + \\lambda_4 + \\lambda_5\\right) & 0\\\\0 & 0 & 0 & 0 & 0 & 0 & 0 & 2 m_{2}^{2} + v^{2} \\left(\\lambda_3 + \\lambda_4 - \\lambda_5\\right)\\end{matrix}\\right]$$"
      ],
      "text/plain": [
       "⎡0  0          0                  0                0        0                 \n",
       "⎢                                                                             \n",
       "⎢0  0          0                  0                0        0                 \n",
       "⎢                                                                             \n",
       "⎢                                   2                                         \n",
       "⎢                         \\lambda₃⋅v      2                                   \n",
       "⎢0  0          0          ─────────── + m₂         0        0                 \n",
       "⎢                              2                                              \n",
       "⎢                                                                             \n",
       "⎢                2                                                            \n",
       "⎢      \\lambda₃⋅v      2                                                      \n",
       "⎢0  0  ─────────── + m₂           0                0        0                 \n",
       "⎢           2                                                                 \n",
       "⎢                                                                             \n",
       "⎢                                                        2                    \n",
       "⎢0  0          0                  0          2⋅\\lambda₁⋅v   0                 \n",
       "⎢                                                                             \n",
       "⎢0  0          0                  0                0        0                 \n",
       "⎢                                                                             \n",
       "⎢                                                                  2    2     \n",
       "⎢0  0          0                  0                0        0  2⋅m₂  + v ⋅(\\la\n",
       "⎢                                                                             \n",
       "⎢                                                                             \n",
       "⎣0  0          0                  0                0        0                 \n",
       "\n",
       "      0                                            0                     ⎤\n",
       "                                                                         ⎥\n",
       "      0                                            0                     ⎥\n",
       "                                                                         ⎥\n",
       "                                                                         ⎥\n",
       "                                                                         ⎥\n",
       "      0                                            0                     ⎥\n",
       "                                                                         ⎥\n",
       "                                                                         ⎥\n",
       "                                                                         ⎥\n",
       "                                                                         ⎥\n",
       "      0                                            0                     ⎥\n",
       "                                                                         ⎥\n",
       "                                                                         ⎥\n",
       "                                                                         ⎥\n",
       "      0                                            0                     ⎥\n",
       "                                                                         ⎥\n",
       "      0                                            0                     ⎥\n",
       "                                                                         ⎥\n",
       "                                                                         ⎥\n",
       "mbda₃ + \\lambda₄ + \\lambda₅)                       0                     ⎥\n",
       "                                                                         ⎥\n",
       "                                  2    2                                 ⎥\n",
       "      0                       2⋅m₂  + v ⋅(\\lambda₃ + \\lambda₄ - \\lambda₅)⎦"
      ]
     },
     "execution_count": 10,
     "metadata": {},
     "output_type": "execute_result"
    }
   ],
   "source": [
    "campos = [ϕ['+'],ϕ['-'],ηm['+'],ηm['-'],ϕ0[1],ϕ0[2],η0['R'],η0['I']]\n",
    "campos\n",
    "\n",
    "derivadas = [[diff(V.expand(),i).diff(j).subs(vevs).subs(cond_min).collect(v**2) for i in campos] for j in campos]\n",
    "M = Matrix(derivadas)\n",
    "M  "
   ]
  },
  {
   "cell_type": "markdown",
   "metadata": {
    "Collapsed": "false",
    "slideshow": {
     "slide_type": "subslide"
    }
   },
   "source": [
    "Ahora tenemos más campos con masa."
   ]
  },
  {
   "cell_type": "code",
   "execution_count": 11,
   "metadata": {
    "Collapsed": "false",
    "slideshow": {
     "slide_type": "fragment"
    }
   },
   "outputs": [
    {
     "data": {
      "image/png": "[encoded data removed]",
      "text/latex": [
       "$$\\left \\{ \\lambda_1 : \\frac{m_{h}^{2}}{v^{2}}\\right \\}$$"
      ],
      "text/plain": [
       "⎧            2⎫\n",
       "⎪          mₕ ⎪\n",
       "⎨\\lambda₁: ───⎬\n",
       "⎪            2⎪\n",
       "⎩           v ⎭"
      ]
     },
     "execution_count": 11,
     "metadata": {},
     "output_type": "execute_result"
    }
   ],
   "source": [
    "mh = symbols('m_h',real=True)\n",
    "lambdas = {λ_1:mh**2/(v**2)}\n",
    "lambdas"
   ]
  },
  {
   "cell_type": "code",
   "execution_count": 12,
   "metadata": {
    "Collapsed": "false",
    "slideshow": {
     "slide_type": "fragment"
    }
   },
   "outputs": [
    {
     "data": {
      "image/png": "[encoded data removed]",
      "text/latex": [
       "$$\\left \\{ \\lambda_1 : \\frac{m_{h}^{2}}{v^{2}}, \\quad \\lambda_3 : \\frac{2 \\left(- m_{2}^{2} + m_\\eta^{2}\\right)}{v^{2}}\\right \\}$$"
      ],
      "text/plain": [
       "⎧            2              ⎛    2         2⎞⎫\n",
       "⎪          mₕ             2⋅⎝- m₂  + m_\\eta ⎠⎪\n",
       "⎨\\lambda₁: ───, \\lambda₃: ───────────────────⎬\n",
       "⎪            2                      2        ⎪\n",
       "⎩           v                      v         ⎭"
      ]
     },
     "execution_count": 12,
     "metadata": {},
     "output_type": "execute_result"
    }
   ],
   "source": [
    "mη = symbols('m_\\eta',real=True)\n",
    "lambdas.update(solve(Eq(M[19],mη**2),λ_3,dict=True)[0])\n",
    "lambdas"
   ]
  },
  {
   "cell_type": "code",
   "execution_count": 13,
   "metadata": {
    "Collapsed": "false",
    "slideshow": {
     "slide_type": "subslide"
    }
   },
   "outputs": [
    {
     "data": {
      "image/png": "[encoded data removed]",
      "text/latex": [
       "$$m_{2}^{2} + v^{2} \\left(\\frac{\\lambda_3}{2} + \\frac{\\lambda_4}{2} + \\frac{\\lambda_5}{2}\\right)$$"
      ],
      "text/plain": [
       "  2    2 ⎛\\lambda₃   \\lambda₄   \\lambda₅⎞\n",
       "m₂  + v ⋅⎜──────── + ──────── + ────────⎟\n",
       "         ⎝   2          2          2    ⎠"
      ]
     },
     "execution_count": 13,
     "metadata": {},
     "output_type": "execute_result"
    },
    {
     "data": {
      "image/png": "[encoded data removed]",
      "text/latex": [
       "$$m_{2}^{2} + v^{2} \\left(\\frac{\\lambda_3}{2} + \\frac{\\lambda_4}{2} - \\frac{\\lambda_5}{2}\\right)$$"
      ],
      "text/plain": [
       "  2    2 ⎛\\lambda₃   \\lambda₄   \\lambda₅⎞\n",
       "m₂  + v ⋅⎜──────── + ──────── - ────────⎟\n",
       "         ⎝   2          2          2    ⎠"
      ]
     },
     "execution_count": 13,
     "metadata": {},
     "output_type": "execute_result"
    },
    {
     "data": {
      "image/png": "[encoded data removed]",
      "text/latex": [
       "$$\\left \\{ {{m_I}}^{2} : m_{2}^{2} + v^{2} \\left(\\frac{\\lambda_3}{2} + \\frac{\\lambda_4}{2} - \\frac{\\lambda_5}{2}\\right), \\quad {{m_R}}^{2} : m_{2}^{2} + v^{2} \\left(\\frac{\\lambda_3}{2} + \\frac{\\lambda_4}{2} + \\frac{\\lambda_5}{2}\\right)\\right \\}$$"
      ],
      "text/plain": [
       "⎧       2    2    2 ⎛\\lambda₃   \\lambda₄   \\lambda₅⎞         2    2    2 ⎛\\lam\n",
       "⎨{{m_I}} : m₂  + v ⋅⎜──────── + ──────── - ────────⎟, {{m_R}} : m₂  + v ⋅⎜────\n",
       "⎩                   ⎝   2          2          2    ⎠                     ⎝   2\n",
       "\n",
       "bda₃   \\lambda₄   \\lambda₅⎞⎫\n",
       "──── + ──────── + ────────⎟⎬\n",
       "          2          2    ⎠⎭"
      ]
     },
     "execution_count": 13,
     "metadata": {},
     "output_type": "execute_result"
    }
   ],
   "source": [
    "mR = symbols('{{m_R}}',real=True)\n",
    "mI = symbols('{{m_I}}',real=True)\n",
    "mRexp = expand(S(1)*M[54]/2).collect(v**2)\n",
    "mIexp = expand(S(1)*M[63]/2).collect(v**2)\n",
    "mRexp\n",
    "mIexp\n",
    "subsmasas = {mR**2:mRexp,mI**2:mIexp}\n",
    "subsmasas"
   ]
  },
  {
   "cell_type": "code",
   "execution_count": 14,
   "metadata": {
    "Collapsed": "false",
    "slideshow": {
     "slide_type": "fragment"
    }
   },
   "outputs": [
    {
     "data": {
      "image/png": "[encoded data removed]",
      "text/latex": [
       "$$\\left \\{ \\lambda_1 : \\frac{m_{h}^{2}}{v^{2}}, \\quad \\lambda_3 : \\frac{2 \\left(- m_{2}^{2} + m_\\eta^{2}\\right)}{v^{2}}, \\quad \\lambda_5 : \\frac{- {{m_I}}^{2} + {{m_R}}^{2}}{v^{2}}\\right \\}$$"
      ],
      "text/plain": [
       "⎧            2              ⎛    2         2⎞                     2          2\n",
       "⎪          mₕ             2⋅⎝- m₂  + m_\\eta ⎠            - {{m_I}}  + {{m_R}} \n",
       "⎨\\lambda₁: ───, \\lambda₃: ───────────────────, \\lambda₅: ─────────────────────\n",
       "⎪            2                      2                               2         \n",
       "⎩           v                      v                               v          \n",
       "\n",
       "⎫\n",
       "⎪\n",
       "⎬\n",
       "⎪\n",
       "⎭"
      ]
     },
     "execution_count": 14,
     "metadata": {},
     "output_type": "execute_result"
    }
   ],
   "source": [
    "lambdas.update(solve(Eq((subsmasas[mI**2]-subsmasas[mR**2]).simplify(),(mI**2-mR**2)),λ_5,dict=True)[0])\n",
    "lambdas"
   ]
  },
  {
   "cell_type": "code",
   "execution_count": 16,
   "metadata": {
    "Collapsed": "false",
    "slideshow": {
     "slide_type": "subslide"
    }
   },
   "outputs": [],
   "source": [
    "h = Campo_escalar_neutro('h')\n",
    "nuevos_campos = [h,ηm['+'],ηm['-'],η0['R'],η0['I']]\n",
    "subs_nuevos_campos = {ϕ['+']:0,ϕ['-']:0,ϕ0[1]:(v+h)/sqrt(2),ϕ0[2]:0}"
   ]
  },
  {
   "cell_type": "code",
   "execution_count": 17,
   "metadata": {
    "Collapsed": "false",
    "slideshow": {
     "slide_type": "fragment"
    }
   },
   "outputs": [
    {
     "data": {
      "image/png": "[encoded data removed]",
      "text/latex": [
       "$$\\frac{\\lambda_2 {\\eta^-}^{2} {\\eta^+}^{2}}{2} + \\lambda_2 {\\eta^0_I}^{2} {\\eta^-} {\\eta^+} + \\lambda_2 {\\eta^0_I}^{2} {\\eta^0_R}^{2} + \\frac{\\lambda_2 {\\eta^0_I}^{4}}{2} + \\lambda_2 {\\eta^0_R}^{2} {\\eta^-} {\\eta^+} + \\frac{\\lambda_2 {\\eta^0_R}^{4}}{2} + \\frac{\\lambda_4 v^{2} {\\eta^0_I}^{2}}{2} + \\frac{\\lambda_4 v^{2} {\\eta^0_R}^{2}}{2} + \\lambda_4 v {\\eta^0_I}^{2} h + \\lambda_4 v {\\eta^0_R}^{2} h + \\frac{\\lambda_4 {\\eta^0_I}^{2} h^{2}}{2} + \\frac{\\lambda_4 {\\eta^0_R}^{2} h^{2}}{2} - \\frac{2 m_{2}^{2} {\\eta^-} {\\eta^+} h}{v} - \\frac{2 m_{2}^{2} {\\eta^0_I}^{2} h}{v} - \\frac{2 m_{2}^{2} {\\eta^0_R}^{2} h}{v} - \\frac{m_{2}^{2} {\\eta^-} {\\eta^+} h^{2}}{v^{2}} - \\frac{m_{2}^{2} {\\eta^0_I}^{2} h^{2}}{v^{2}} - \\frac{m_{2}^{2} {\\eta^0_R}^{2} h^{2}}{v^{2}} + m_\\eta^{2} {\\eta^-} {\\eta^+} + m_\\eta^{2} {\\eta^0_I}^{2} + m_\\eta^{2} {\\eta^0_R}^{2} + \\frac{2 m_\\eta^{2} {\\eta^-} {\\eta^+} h}{v} + \\frac{2 m_\\eta^{2} {\\eta^0_I}^{2} h}{v} + \\frac{2 m_\\eta^{2} {\\eta^0_R}^{2} h}{v} + \\frac{m_\\eta^{2} {\\eta^-} {\\eta^+} h^{2}}{v^{2}} + \\frac{m_\\eta^{2} {\\eta^0_I}^{2} h^{2}}{v^{2}} + \\frac{m_\\eta^{2} {\\eta^0_R}^{2} h^{2}}{v^{2}} - \\frac{m_{h}^{2} v^{2}}{8} + \\frac{m_{h}^{2} h^{2}}{2} + \\frac{m_{h}^{2} h^{3}}{2 v} + \\frac{m_{h}^{2} h^{4}}{8 v^{2}} + \\frac{{{m_I}}^{2} {\\eta^0_I}^{2}}{2} - \\frac{{{m_I}}^{2} {\\eta^0_R}^{2}}{2} - \\frac{{{m_R}}^{2} {\\eta^0_I}^{2}}{2} + \\frac{{{m_R}}^{2} {\\eta^0_R}^{2}}{2} + \\frac{{{m_I}}^{2} {\\eta^0_I}^{2} h}{v} - \\frac{{{m_I}}^{2} {\\eta^0_R}^{2} h}{v} - \\frac{{{m_R}}^{2} {\\eta^0_I}^{2} h}{v} + \\frac{{{m_R}}^{2} {\\eta^0_R}^{2} h}{v} + \\frac{{{m_I}}^{2} {\\eta^0_I}^{2} h^{2}}{2 v^{2}} - \\frac{{{m_I}}^{2} {\\eta^0_R}^{2} h^{2}}{2 v^{2}} - \\frac{{{m_R}}^{2} {\\eta^0_I}^{2} h^{2}}{2 v^{2}} + \\frac{{{m_R}}^{2} {\\eta^0_R}^{2} h^{2}}{2 v^{2}}$$"
      ],
      "text/plain": [
       "                  2          2                                                \n",
       "\\lambda₂⋅{\\eta__-} ⋅{\\eta__+}                        2                        \n",
       "────────────────────────────── + \\lambda₂⋅{\\eta_I}__0 ⋅{\\eta__-}⋅{\\eta__+} + \\\n",
       "              2                                                               \n",
       "                                                                              \n",
       "\n",
       "                                                        4                     \n",
       "                   2            2   \\lambda₂⋅{\\eta_I}__0                      \n",
       "lambda₂⋅{\\eta_I}__0 ⋅{\\eta_R}__0  + ───────────────────── + \\lambda₂⋅{\\eta_R}_\n",
       "                                              2                               \n",
       "                                                                              \n",
       "\n",
       "                                              4             2            2    \n",
       "  2                       \\lambda₂⋅{\\eta_R}__0    \\lambda₄⋅v ⋅{\\eta_I}__0    \\\n",
       "_0 ⋅{\\eta__-}⋅{\\eta__+} + ───────────────────── + ──────────────────────── + ─\n",
       "                                    2                        2                \n",
       "                                                                              \n",
       "\n",
       "         2            2                                                       \n",
       "lambda₄⋅v ⋅{\\eta_R}__0                          2                           2 \n",
       "─────────────────────── + \\lambda₄⋅v⋅{\\eta_I}__0 ⋅h + \\lambda₄⋅v⋅{\\eta_R}__0 ⋅\n",
       "          2                                                                   \n",
       "                                                                              \n",
       "\n",
       "                        2  2                       2  2       2               \n",
       "    \\lambda₄⋅{\\eta_I}__0 ⋅h    \\lambda₄⋅{\\eta_R}__0 ⋅h    2⋅m₂ ⋅{\\eta__-}⋅{\\et\n",
       "h + ──────────────────────── + ──────────────────────── - ────────────────────\n",
       "               2                          2                            v      \n",
       "                                                                              \n",
       "\n",
       "              2            2         2            2       2                   \n",
       "a__+}⋅h   2⋅m₂ ⋅{\\eta_I}__0 ⋅h   2⋅m₂ ⋅{\\eta_R}__0 ⋅h   m₂ ⋅{\\eta__-}⋅{\\eta__+\n",
       "─────── - ──────────────────── - ──────────────────── - ──────────────────────\n",
       "                   v                      v                          2        \n",
       "                                                                    v         \n",
       "\n",
       "   2     2            2  2     2            2  2                              \n",
       "}⋅h    m₂ ⋅{\\eta_I}__0 ⋅h    m₂ ⋅{\\eta_R}__0 ⋅h          2                    \n",
       "──── - ─────────────────── - ─────────────────── + m_\\eta ⋅{\\eta__-}⋅{\\eta__+}\n",
       "                 2                     2                                      \n",
       "                v                     v                                       \n",
       "\n",
       "                                                         2                    \n",
       "         2            2         2            2   2⋅m_\\eta ⋅{\\eta__-}⋅{\\eta__+}\n",
       " + m_\\eta ⋅{\\eta_I}__0  + m_\\eta ⋅{\\eta_R}__0  + ─────────────────────────────\n",
       "                                                                v             \n",
       "                                                                              \n",
       "\n",
       "             2            2             2            2           2            \n",
       "⋅h   2⋅m_\\eta ⋅{\\eta_I}__0 ⋅h   2⋅m_\\eta ⋅{\\eta_R}__0 ⋅h   m_\\eta ⋅{\\eta__-}⋅{\n",
       "── + ──────────────────────── + ──────────────────────── + ───────────────────\n",
       "                v                          v                              2   \n",
       "                                                                         v    \n",
       "\n",
       "          2         2            2  2         2            2  2     2  2     2\n",
       "\\eta__+}⋅h    m_\\eta ⋅{\\eta_I}__0 ⋅h    m_\\eta ⋅{\\eta_R}__0 ⋅h    mₕ ⋅v    mₕ \n",
       "─────────── + ─────────────────────── + ─────────────────────── - ────── + ───\n",
       "                          2                         2               8        2\n",
       "                         v                         v                          \n",
       "\n",
       "  2     2  3     2  4          2            2          2            2         \n",
       "⋅h    mₕ ⋅h    mₕ ⋅h    {{m_I}} ⋅{\\eta_I}__0    {{m_I}} ⋅{\\eta_R}__0    {{m_R}\n",
       "─── + ────── + ────── + ───────────────────── - ───────────────────── - ──────\n",
       "       2⋅v         2              2                       2                   \n",
       "                8⋅v                                                           \n",
       "\n",
       " 2            2          2            2          2            2            2  \n",
       "} ⋅{\\eta_I}__0    {{m_R}} ⋅{\\eta_R}__0    {{m_I}} ⋅{\\eta_I}__0 ⋅h   {{m_I}} ⋅{\n",
       "─────────────── + ───────────────────── + ─────────────────────── - ──────────\n",
       "    2                       2                        v                        \n",
       "                                                                              \n",
       "\n",
       "          2            2            2            2            2            2  \n",
       "\\eta_R}__0 ⋅h   {{m_R}} ⋅{\\eta_I}__0 ⋅h   {{m_R}} ⋅{\\eta_R}__0 ⋅h   {{m_I}} ⋅{\n",
       "───────────── - ─────────────────────── + ─────────────────────── + ──────────\n",
       " v                         v                         v                        \n",
       "                                                                              \n",
       "\n",
       "          2  2          2            2  2          2            2  2          \n",
       "\\eta_I}__0 ⋅h    {{m_I}} ⋅{\\eta_R}__0 ⋅h    {{m_R}} ⋅{\\eta_I}__0 ⋅h    {{m_R}}\n",
       "────────────── - ──────────────────────── - ──────────────────────── + ───────\n",
       "   2                          2                          2                    \n",
       "2⋅v                        2⋅v                        2⋅v                     \n",
       "\n",
       "2            2  2\n",
       " ⋅{\\eta_R}__0 ⋅h \n",
       "─────────────────\n",
       "      2          \n",
       "   2⋅v           "
      ]
     },
     "execution_count": 17,
     "metadata": {},
     "output_type": "execute_result"
    }
   ],
   "source": [
    "Vfis = conmutar_campos(V.subs(cond_min).subs(subs_nuevos_campos).subs(lambdas).expand(),nuevos_campos)\n",
    "Vfis"
   ]
  },
  {
   "cell_type": "markdown",
   "metadata": {
    "Collapsed": "false",
    "slideshow": {
     "slide_type": "subslide"
    }
   },
   "source": [
    "### Los nuevos decaimientos del Higgs"
   ]
  },
  {
   "cell_type": "code",
   "execution_count": 19,
   "metadata": {
    "Collapsed": "false",
    "slideshow": {
     "slide_type": "fragment"
    }
   },
   "outputs": [
    {
     "data": {
      "text/html": [
       "<div>\n",
       "<style scoped>\n",
       "    .dataframe tbody tr th:only-of-type {\n",
       "        vertical-align: middle;\n",
       "    }\n",
       "\n",
       "    .dataframe tbody tr th {\n",
       "        vertical-align: top;\n",
       "    }\n",
       "\n",
       "    .dataframe thead th {\n",
       "        text-align: right;\n",
       "    }\n",
       "</style>\n",
       "<table border=\"1\" class=\"dataframe\">\n",
       "  <thead>\n",
       "    <tr style=\"text-align: right;\">\n",
       "      <th></th>\n",
       "      <th>Acoplamientos</th>\n",
       "      <th>Interacción</th>\n",
       "    </tr>\n",
       "  </thead>\n",
       "  <tbody>\n",
       "    <tr>\n",
       "      <th>0</th>\n",
       "      <td>$\\frac{m_{h}^{2}}{2 v}$</td>\n",
       "      <td>$h^{3}$</td>\n",
       "    </tr>\n",
       "    <tr>\n",
       "      <th>1</th>\n",
       "      <td>$\\frac{\\lambda_4 v^{2} - 2 m_{2}^{2} + 2 m_\\eta^{2} + {{m_I}}^{2} - {{m_R}}^{2}}{v}$</td>\n",
       "      <td>${\\eta^0_I}^{2} h$</td>\n",
       "    </tr>\n",
       "    <tr>\n",
       "      <th>2</th>\n",
       "      <td>$\\frac{\\lambda_4 v^{2} - 2 m_{2}^{2} + 2 m_\\eta^{2} - {{m_I}}^{2} + {{m_R}}^{2}}{v}$</td>\n",
       "      <td>${\\eta^0_R}^{2} h$</td>\n",
       "    </tr>\n",
       "    <tr>\n",
       "      <th>3</th>\n",
       "      <td>$- \\frac{2 \\left(m_{2} - m_\\eta\\right) \\left(m_{2} + m_\\eta\\right)}{v}$</td>\n",
       "      <td>${\\eta^-} {\\eta^+} h$</td>\n",
       "    </tr>\n",
       "  </tbody>\n",
       "</table>\n",
       "</div>"
      ],
      "text/plain": [
       "                                                                          Acoplamientos  \\\n",
       "0                                                               $\\frac{m_{h}^{2}}{2 v}$   \n",
       "1  $\\frac{\\lambda_4 v^{2} - 2 m_{2}^{2} + 2 m_\\eta^{2} + {{m_I}}^{2} - {{m_R}}^{2}}{v}$   \n",
       "2  $\\frac{\\lambda_4 v^{2} - 2 m_{2}^{2} + 2 m_\\eta^{2} - {{m_I}}^{2} + {{m_R}}^{2}}{v}$   \n",
       "3               $- \\frac{2 \\left(m_{2} - m_\\eta\\right) \\left(m_{2} + m_\\eta\\right)}{v}$   \n",
       "\n",
       "             Interacción  \n",
       "0                $h^{3}$  \n",
       "1     ${\\eta^0_I}^{2} h$  \n",
       "2     ${\\eta^0_R}^{2} h$  \n",
       "3  ${\\eta^-} {\\eta^+} h$  "
      ]
     },
     "execution_count": 19,
     "metadata": {},
     "output_type": "execute_result"
    }
   ],
   "source": [
    "L = lista_campos_acoplamientos(factorizar_campos(Vfis))\n",
    "terminos_orden = clasificar_interacciones(L)\n",
    "t3 = terminos_orden[3]\n",
    "#t3\n",
    "\n",
    "lista = latexificar(t3)\n",
    "df = pd.DataFrame(lista,columns=['Acoplamientos','Interacción'])\n",
    "df"
   ]
  },
  {
   "cell_type": "markdown",
   "metadata": {
    "Collapsed": "false"
   },
   "source": [
    "# Conclusiones\n",
    "\n",
    " - Python es un lenguaje muy fácil de usar\n",
    " - Se la interfaz Jupyter es muy visual y se acopla bien a latex\n",
    " - Tomando como base a sympy podemos realizar cálculos simbólicos enfocados a la física, creando nuestros propios objetos"
   ]
  },
  {
   "cell_type": "code",
   "execution_count": 22,
   "metadata": {
    "Collapsed": "false"
   },
   "outputs": [
    {
     "data": {
      "image/png": "[encoded data removed]",
      "text/latex": [
       "$$\\left [ h, \\quad \\mu, \\quad \\overline{\\mu}\\right ]$$"
      ],
      "text/plain": [
       "[h, \\mu, \\overline{\\mu}]"
      ]
     },
     "execution_count": 22,
     "metadata": {},
     "output_type": "execute_result"
    },
    {
     "data": {
      "text/plain": [
       "True"
      ]
     },
     "execution_count": 22,
     "metadata": {},
     "output_type": "execute_result"
    }
   ],
   "source": [
    "e,eb,μ,μb, h,Z,γ= symbols(r'e,\\overline{e},\\mu,\\overline{\\mu} h,Z,γ')\n",
    "interacciones = [[h,Z,Z],[h,γ,γ],[h,e,eb],[h,μ,μb],[Z,e,eb],\n",
    "                 [Z,μ,μb],[γ,e,eb],[γ,μ,μb]]\n",
    "interacciones[3]\n",
    "Vertice3(h,e,eb) == Vertice3(h,eb,e)"
   ]
  },
  {
   "cell_type": "code",
   "execution_count": 23,
   "metadata": {
    "Collapsed": "false"
   },
   "outputs": [
    {
     "data": {
      "image/png": "[encoded data removed]",
      "text/latex": [
       "$$\\left [ hZZ, \\quad hγγ, \\quad he\\overline{e}, \\quad h\\mu\\overline{\\mu}, \\quad Ze\\overline{e}, \\quad Z\\mu\\overline{\\mu}, \\quad γe\\overline{e}, \\quad γ\\mu\\overline{\\mu}\\right ]$$"
      ],
      "text/plain": [
       "[hZZ, hγγ, he\\overline{e}, h\\mu\\overline{\\mu}, Ze\\overline{e}, Z\\mu\\overline{\\\n",
       "mu}, γe\\overline{e}, γ\\mu\\overline{\\mu}]"
      ]
     },
     "execution_count": 23,
     "metadata": {},
     "output_type": "execute_result"
    }
   ],
   "source": [
    "vertices = [Vertice3(*inte) for inte in interacciones]\n",
    "vertices"
   ]
  },
  {
   "cell_type": "code",
   "execution_count": 24,
   "metadata": {
    "Collapsed": "false"
   },
   "outputs": [
    {
     "data": {
      "image/png": "[encoded data removed]",
      "text/latex": [
       "$$\\left [ \\left [ e, \\quad \\overline{e}, \\quad \\left [ h\\right ], \\quad \\mu, \\quad \\overline{\\mu}\\right ], \\quad \\left [ e, \\quad \\overline{e}, \\quad \\left [ Z\\right ], \\quad \\mu, \\quad \\overline{\\mu}\\right ], \\quad \\left [ e, \\quad \\overline{e}, \\quad \\left [ γ\\right ], \\quad \\mu, \\quad \\overline{\\mu}\\right ]\\right ]$$"
      ],
      "text/plain": [
       "[[e, \\overline{e}, [h], \\mu, \\overline{\\mu}], [e, \\overline{e}, [Z], \\mu, \\ove\n",
       "rline{\\mu}], [e, \\overline{e}, [γ], \\mu, \\overline{\\mu}]]"
      ]
     },
     "execution_count": 24,
     "metadata": {},
     "output_type": "execute_result"
    }
   ],
   "source": [
    "lista_diagramas = Diagramas212([e,eb],[μ,μb],interacciones)\n",
    "lista_diagramas"
   ]
  },
  {
   "cell_type": "code",
   "execution_count": 25,
   "metadata": {
    "Collapsed": "false"
   },
   "outputs": [
    {
     "data": {
      "image/png": "[encoded data removed]",
      "text/plain": [
       "<Figure size 432x216 with 1 Axes>"
      ]
     },
     "metadata": {},
     "output_type": "display_data"
    },
    {
     "data": {
      "image/png": "[encoded data removed]",
      "text/plain": [
       "<Figure size 432x216 with 1 Axes>"
      ]
     },
     "metadata": {},
     "output_type": "display_data"
    },
    {
     "data": {
      "image/png": "[encoded data removed]",
      "text/plain": [
       "<Figure size 432x216 with 1 Axes>"
      ]
     },
     "metadata": {},
     "output_type": "display_data"
    }
   ],
   "source": [
    "for i in lista_diagramas:\n",
    "    T212(i)"
   ]
  },
  {
   "cell_type": "code",
   "execution_count": null,
   "metadata": {
    "Collapsed": "false"
   },
   "outputs": [],
   "source": []
  }
 ],
 "metadata": {
  "celltoolbar": "Slideshow",
  "kernelspec": {
   "display_name": "Python 3",
   "language": "python",
   "name": "python3"
  },
  "language_info": {
   "codemirror_mode": {
    "name": "ipython",
    "version": 3
   },
   "file_extension": ".py",
   "mimetype": "text/x-python",
   "name": "python",
   "nbconvert_exporter": "python",
   "pygments_lexer": "ipython3",
   "version": "3.7.13"
  },
  "latex_envs": {
   "LaTeX_envs_menu_present": true,
   "autoclose": false,
   "autocomplete": true,
   "bibliofile": "biblio.bib",
   "cite_by": "apalike",
   "current_citInitial": 1,
   "eqLabelWithNumbers": true,
   "eqNumInitial": 1,
   "hotkeys": {
    "equation": "Ctrl-E",
    "itemize": "Ctrl-I"
   },
   "labels_anchors": false,
   "latex_user_defs": false,
   "report_style_numbering": false,
   "user_envs_cfg": false
  },
  "toc": {
   "base_numbering": 1,
   "nav_menu": {},
   "number_sections": true,
   "sideBar": true,
   "skip_h1_title": false,
   "title_cell": "Table of Contents",
   "title_sidebar": "Contents",
   "toc_cell": false,
   "toc_position": {},
   "toc_section_display": true,
   "toc_window_display": false
  }
 },
 "nbformat": 4,
 "nbformat_minor": 4
}
