{
 "cells": [
  {
   "cell_type": "code",
   "execution_count": 1,
   "metadata": {
    "Collapsed": "false",
    "slideshow": {
     "slide_type": "subslide"
    }
   },
   "outputs": [],
   "source": [
    "from sympy import init_printing, symbols, integrate, Basic, latex, sqrt, Add, eye, factor, simplify\n",
    "init_printing()"
   ]
  },
  {
   "cell_type": "markdown",
   "metadata": {
    "Collapsed": "false",
    "slideshow": {
     "slide_type": "slide"
    }
   },
   "source": [
    "### Cuadrimomentos.\n",
    "\n",
    "Un cuadrimomento cumple las siguientes propiedades:\n",
    "\n",
    "Sean $p = (p^0,p^1,p^2,p^3)$ y $k = (k^0,k^1,k^2,k^3)$ dos cuadrimomentos, estos cumplen las siguientes propiedades:\n",
    " 1. $p \\pm k = (p^0 \\pm k^0, p^1 \\pm k^1, p^2 \\pm k^2, p^3 \\pm k^3)$  \n",
    " 2. $ p_\\mu k^\\mu = p^0 k^0 - \\vec{p}.\\vec{k}$\n",
    " 3. $|p| = \\sqrt{p_\\mu p^\\mu}$\n",
    " 4. $p = k$ si y solo si $p^\\mu = k^\\mu$ con $i=0,1,2,3$\n",
    " 5. se puede construir una matriz con componentes $ L^{\\mu \\nu} = p^\\mu k^\\nu$."
   ]
  },
  {
   "cell_type": "code",
   "execution_count": 2,
   "metadata": {
    "Collapsed": "false",
    "slideshow": {
     "slide_type": "subslide"
    }
   },
   "outputs": [],
   "source": [
    "from kinematics import FV, SpinorU, SpinorV"
   ]
  },
  {
   "cell_type": "code",
   "execution_count": 3,
   "metadata": {
    "Collapsed": "false",
    "slideshow": {
     "slide_type": "fragment"
    }
   },
   "outputs": [
    {
     "data": {
      "image/png": "[encoded data removed]",
      "text/latex": [
       "$\\displaystyle \\left( \\operatorname{FV}\\left({{p^{0}}}, {{p^{1}}}, {{p^{2}}}, {{p^{3}}}\\right), \\  \\operatorname{FV}\\left({{k^{0}}}, {{k^{1}}}, {{k^{2}}}, {{k^{3}}}\\right)\\right)$"
      ],
      "text/plain": [
       "(({{p^{0}}},{{p^{1}}},{{p^{2}}},{{p^{3}}}), ({{k^{0}}},{{k^{1}}},{{k^{2}}},{{k\n",
       "^{3}}}))"
      ]
     },
     "execution_count": 3,
     "metadata": {},
     "output_type": "execute_result"
    }
   ],
   "source": [
    "p0,p1,p2,p3 = symbols(r'{{p^{0:4}}}',positive=True) \n",
    "k0,k1,k2,k3 = symbols(r'{{k^{0:4}}}',positive=True)\n",
    "p = FV(p0,p1,p2,p3)\n",
    "k = FV(k0,k1,k2,k3)\n",
    "p,k"
   ]
  },
  {
   "cell_type": "code",
   "execution_count": 4,
   "metadata": {
    "Collapsed": "false",
    "slideshow": {
     "slide_type": "fragment"
    }
   },
   "outputs": [
    {
     "data": {
      "image/png": "[encoded data removed]",
      "text/latex": [
       "$\\displaystyle \\operatorname{FV}\\left({{k^{0}}} + {{p^{0}}}, {{k^{1}}} + {{p^{1}}}, {{k^{2}}} + {{p^{2}}}, {{k^{3}}} + {{p^{3}}}\\right)$"
      ],
      "text/plain": [
       "({{k^{0}}} + {{p^{0}}},{{k^{1}}} + {{p^{1}}},{{k^{2}}} + {{p^{2}}},{{k^{3}}} + {{p^{3}}})"
      ]
     },
     "execution_count": 4,
     "metadata": {},
     "output_type": "execute_result"
    }
   ],
   "source": [
    "p+k"
   ]
  },
  {
   "cell_type": "code",
   "execution_count": 5,
   "metadata": {
    "Collapsed": "false",
    "slideshow": {
     "slide_type": "fragment"
    }
   },
   "outputs": [
    {
     "data": {
      "image/png": "[encoded data removed]",
      "text/latex": [
       "$\\displaystyle {{k^{0}}} {{p^{0}}} - {{k^{1}}} {{p^{1}}} - {{k^{2}}} {{p^{2}}} - {{k^{3}}} {{p^{3}}}$"
      ],
      "text/plain": [
       "{{k__{0}}}⋅{{p__{0}}} - {{k__{1}}}⋅{{p__{1}}} - {{k__{2}}}⋅{{p__{2}}} - {{k__{\n",
       "3}}}⋅{{p__{3}}}"
      ]
     },
     "execution_count": 5,
     "metadata": {},
     "output_type": "execute_result"
    }
   ],
   "source": [
    "p*k"
   ]
  },
  {
   "cell_type": "code",
   "execution_count": 6,
   "metadata": {
    "Collapsed": "false",
    "slideshow": {
     "slide_type": "fragment"
    }
   },
   "outputs": [
    {
     "data": {
      "image/png": "[encoded data removed]",
      "text/latex": [
       "$\\displaystyle \\sqrt{\\left({{p^{0}}}\\right)^{2} - \\left({{p^{1}}}\\right)^{2} - \\left({{p^{2}}}\\right)^{2} - \\left({{p^{3}}}\\right)^{2}}$"
      ],
      "text/plain": [
       "   _______________________________________________________\n",
       "  ╱           2             2             2             2 \n",
       "╲╱  {{p__{0}}}  - {{p__{1}}}  - {{p__{2}}}  - {{p__{3}}}  "
      ]
     },
     "execution_count": 6,
     "metadata": {},
     "output_type": "execute_result"
    }
   ],
   "source": [
    "abs(p)"
   ]
  },
  {
   "cell_type": "code",
   "execution_count": 7,
   "metadata": {
    "Collapsed": "false",
    "slideshow": {
     "slide_type": "fragment"
    }
   },
   "outputs": [
    {
     "data": {
      "image/png": "[encoded data removed]",
      "text/latex": [
       "$\\displaystyle \\left[\\begin{matrix}{{k^{0}}} {{p^{0}}} & {{k^{1}}} {{p^{0}}} & {{k^{2}}} {{p^{0}}} & {{k^{3}}} {{p^{0}}}\\\\{{k^{0}}} {{p^{1}}} & {{k^{1}}} {{p^{1}}} & {{k^{2}}} {{p^{1}}} & {{k^{3}}} {{p^{1}}}\\\\{{k^{0}}} {{p^{2}}} & {{k^{1}}} {{p^{2}}} & {{k^{2}}} {{p^{2}}} & {{k^{3}}} {{p^{2}}}\\\\{{k^{0}}} {{p^{3}}} & {{k^{1}}} {{p^{3}}} & {{k^{2}}} {{p^{3}}} & {{k^{3}}} {{p^{3}}}\\end{matrix}\\right]$"
      ],
      "text/plain": [
       "⎡{{k__{0}}}⋅{{p__{0}}}  {{k__{1}}}⋅{{p__{0}}}  {{k__{2}}}⋅{{p__{0}}}  {{k__{3}\n",
       "⎢                                                                             \n",
       "⎢{{k__{0}}}⋅{{p__{1}}}  {{k__{1}}}⋅{{p__{1}}}  {{k__{2}}}⋅{{p__{1}}}  {{k__{3}\n",
       "⎢                                                                             \n",
       "⎢{{k__{0}}}⋅{{p__{2}}}  {{k__{1}}}⋅{{p__{2}}}  {{k__{2}}}⋅{{p__{2}}}  {{k__{3}\n",
       "⎢                                                                             \n",
       "⎣{{k__{0}}}⋅{{p__{3}}}  {{k__{1}}}⋅{{p__{3}}}  {{k__{2}}}⋅{{p__{3}}}  {{k__{3}\n",
       "\n",
       "}}⋅{{p__{0}}}⎤\n",
       "             ⎥\n",
       "}}⋅{{p__{1}}}⎥\n",
       "             ⎥\n",
       "}}⋅{{p__{2}}}⎥\n",
       "             ⎥\n",
       "}}⋅{{p__{3}}}⎦"
      ]
     },
     "execution_count": 7,
     "metadata": {},
     "output_type": "execute_result"
    }
   ],
   "source": [
    "p@k"
   ]
  },
  {
   "cell_type": "markdown",
   "metadata": {
    "Collapsed": "false",
    "slideshow": {
     "slide_type": "subslide"
    }
   },
   "source": [
    "### Espinores de Dirac\n",
    "\n",
    "Sabemos que los espinores de Dirac $u(p,s)$ y $v(p,s)$, son de la forma:\n",
    "\n",
    "\\begin{equation*}\n",
    "u(p,s) =  \\begin{pmatrix}\n",
    "\\phi^s \\\\\n",
    "\\frac{\\sigma \\cdot \\vec{p}}{p^0 + m} \\phi^s \n",
    "\\end{pmatrix}; \\qquad\n",
    "v(p,s) =  \\begin{pmatrix}\n",
    "\\frac{\\sigma \\cdot \\vec{p}}{p^0 + m} \\phi^s\\\\\n",
    "\\phi^s  \n",
    "\\end{pmatrix} \\qquad\n",
    "\\end{equation*}\n",
    "\n",
    "donde $s = 1,2$. Una de las propiedades que ellos cumplen es siguiente:\n",
    "$$\\sum_{s} u \\overline{u} = \\gamma_\\mu p^\\mu + m; \\qquad \\sum_{s} v \\overline{v} = \\gamma_\\mu p^\\mu - m$$"
   ]
  },
  {
   "cell_type": "code",
   "execution_count": 8,
   "metadata": {
    "Collapsed": "false",
    "slideshow": {
     "slide_type": "subslide"
    }
   },
   "outputs": [
    {
     "data": {
      "image/png": "[encoded data removed]",
      "text/latex": [
       "$\\displaystyle \\left[\\begin{matrix}\\sqrt{m + {{p^{0}}}} & 0 & \\frac{{{p^{3}}}}{\\sqrt{m + {{p^{0}}}}} & \\frac{{{p^{1}}} - i {{p^{2}}}}{\\sqrt{m + {{p^{0}}}}}\\end{matrix}\\right]$"
      ],
      "text/plain": [
       "⎡  ________________         {{p__{3}}}      {{p__{1}}} - ⅈ⋅{{p__{2}}}⎤\n",
       "⎢╲╱ m + {{p__{0}}}   0  ──────────────────  ─────────────────────────⎥\n",
       "⎢                         ________________        ________________   ⎥\n",
       "⎣                       ╲╱ m + {{p__{0}}}       ╲╱ m + {{p__{0}}}    ⎦"
      ]
     },
     "execution_count": 8,
     "metadata": {},
     "output_type": "execute_result"
    }
   ],
   "source": [
    "m = symbols('m',positive=True)\n",
    "u = lambda s:SpinorU(p,m,s)\n",
    "u(1).adj()"
   ]
  },
  {
   "cell_type": "code",
   "execution_count": 9,
   "metadata": {
    "Collapsed": "false",
    "slideshow": {
     "slide_type": "fragment"
    }
   },
   "outputs": [
    {
     "data": {
      "image/png": "[encoded data removed]",
      "text/latex": [
       "$\\displaystyle \\left[\\begin{matrix}m + {{p^{0}}} & 0 & {{p^{3}}} & {{p^{1}}} - i {{p^{2}}}\\\\0 & m + {{p^{0}}} & {{p^{1}}} + i {{p^{2}}} & - {{p^{3}}}\\\\{{p^{3}}} & {{p^{1}}} - i {{p^{2}}} & \\frac{\\left({{p^{3}}}\\right)^{2}}{m + {{p^{0}}}} + \\frac{\\left({{p^{1}}} - i {{p^{2}}}\\right) \\left({{p^{1}}} + i {{p^{2}}}\\right)}{m + {{p^{0}}}} & 0\\\\{{p^{1}}} + i {{p^{2}}} & - {{p^{3}}} & 0 & \\frac{\\left({{p^{3}}}\\right)^{2}}{m + {{p^{0}}}} + \\frac{\\left({{p^{1}}} - i {{p^{2}}}\\right) \\left({{p^{1}}} + i {{p^{2}}}\\right)}{m + {{p^{0}}}}\\end{matrix}\\right]$"
      ],
      "text/plain": [
       "⎡     m + {{p__{0}}}                    0                                     \n",
       "⎢                                                                             \n",
       "⎢            0                   m + {{p__{0}}}                               \n",
       "⎢                                                                             \n",
       "⎢                                                                 2           \n",
       "⎢                                                       {{p__{3}}}      ({{p__\n",
       "⎢       {{p__{3}}}          {{p__{1}}} - ⅈ⋅{{p__{2}}}  ────────────── + ──────\n",
       "⎢                                                      m + {{p__{0}}}         \n",
       "⎢                                                                             \n",
       "⎢                                                                             \n",
       "⎢                                                                             \n",
       "⎢{{p__{1}}} + ⅈ⋅{{p__{2}}}         -{{p__{3}}}                                \n",
       "⎣                                                                             \n",
       "\n",
       "        {{p__{3}}}                                                        {{p_\n",
       "                                                                              \n",
       "{{p__{1}}} + ⅈ⋅{{p__{2}}}                                                     \n",
       "                                                                              \n",
       "                                                                              \n",
       "{1}}} - ⅈ⋅{{p__{2}}})⋅({{p__{1}}} + ⅈ⋅{{p__{2}}})                             \n",
       "─────────────────────────────────────────────────                             \n",
       "               m + {{p__{0}}}                                                 \n",
       "                                                                              \n",
       "                                                              2               \n",
       "                                                    {{p__{3}}}      ({{p__{1}}\n",
       "            0                                      ────────────── + ──────────\n",
       "                                                   m + {{p__{0}}}             \n",
       "\n",
       "_{1}}} - ⅈ⋅{{p__{2}}}                        ⎤\n",
       "                                             ⎥\n",
       "   -{{p__{3}}}                               ⎥\n",
       "                                             ⎥\n",
       "                                             ⎥\n",
       "                                             ⎥\n",
       "        0                                    ⎥\n",
       "                                             ⎥\n",
       "                                             ⎥\n",
       "                                             ⎥\n",
       "} - ⅈ⋅{{p__{2}}})⋅({{p__{1}}} + ⅈ⋅{{p__{2}}})⎥\n",
       "─────────────────────────────────────────────⎥\n",
       "           m + {{p__{0}}}                    ⎦"
      ]
     },
     "execution_count": 9,
     "metadata": {},
     "output_type": "execute_result"
    }
   ],
   "source": [
    "r1 = Add(*[u(s).matrixform()*u(s).adj() for s in [1,2]])\n",
    "r1 "
   ]
  },
  {
   "cell_type": "code",
   "execution_count": 10,
   "metadata": {
    "Collapsed": "false",
    "slideshow": {
     "slide_type": "subslide"
    }
   },
   "outputs": [
    {
     "data": {
      "image/png": "[encoded data removed]",
      "text/latex": [
       "$\\displaystyle \\left[\\begin{matrix}m + {{p^{0}}} & 0 & - {{p^{3}}} & - {{p^{1}}} + i {{p^{2}}}\\\\0 & m + {{p^{0}}} & - {{p^{1}}} - i {{p^{2}}} & {{p^{3}}}\\\\{{p^{3}}} & {{p^{1}}} - i {{p^{2}}} & m - {{p^{0}}} & 0\\\\{{p^{1}}} + i {{p^{2}}} & - {{p^{3}}} & 0 & m - {{p^{0}}}\\end{matrix}\\right]$"
      ],
      "text/plain": [
       "⎡     m + {{p__{0}}}                    0                     -{{p__{3}}}     \n",
       "⎢                                                                             \n",
       "⎢            0                   m + {{p__{0}}}        -{{p__{1}}} - ⅈ⋅{{p__{2\n",
       "⎢                                                                             \n",
       "⎢       {{p__{3}}}          {{p__{1}}} - ⅈ⋅{{p__{2}}}        m - {{p__{0}}}   \n",
       "⎢                                                                             \n",
       "⎣{{p__{1}}} + ⅈ⋅{{p__{2}}}         -{{p__{3}}}                     0          \n",
       "\n",
       "     -{{p__{1}}} + ⅈ⋅{{p__{2}}}⎤\n",
       "                               ⎥\n",
       "}}}          {{p__{3}}}        ⎥\n",
       "                               ⎥\n",
       "                 0             ⎥\n",
       "                               ⎥\n",
       "           m - {{p__{0}}}      ⎦"
      ]
     },
     "execution_count": 10,
     "metadata": {},
     "output_type": "execute_result"
    }
   ],
   "source": [
    "r2 = p.slash() + m*eye(4)\n",
    "r2"
   ]
  },
  {
   "cell_type": "code",
   "execution_count": 11,
   "metadata": {
    "Collapsed": "false",
    "slideshow": {
     "slide_type": "fragment"
    }
   },
   "outputs": [
    {
     "data": {
      "image/png": "[encoded data removed]",
      "text/latex": [
       "$\\displaystyle \\left[\\begin{matrix}0 & 0 & 2 {{p^{3}}} & 2 {{p^{1}}} - 2 i {{p^{2}}}\\\\0 & 0 & 2 {{p^{1}}} + 2 i {{p^{2}}} & - 2 {{p^{3}}}\\\\0 & 0 & \\frac{- m^{2} + \\left({{p^{0}}}\\right)^{2} + \\left({{p^{1}}}\\right)^{2} + \\left({{p^{2}}}\\right)^{2} + \\left({{p^{3}}}\\right)^{2}}{m + {{p^{0}}}} & 0\\\\0 & 0 & 0 & \\frac{- m^{2} + \\left({{p^{0}}}\\right)^{2} + \\left({{p^{1}}}\\right)^{2} + \\left({{p^{2}}}\\right)^{2} + \\left({{p^{3}}}\\right)^{2}}{m + {{p^{0}}}}\\end{matrix}\\right]$"
      ],
      "text/plain": [
       "⎡0  0                          2⋅{{p__{3}}}                                   \n",
       "⎢                                                                             \n",
       "⎢0  0                 2⋅{{p__{1}}} + 2⋅ⅈ⋅{{p__{2}}}                           \n",
       "⎢                                                                             \n",
       "⎢         2             2             2             2             2           \n",
       "⎢      - m  + {{p__{0}}}  + {{p__{1}}}  + {{p__{2}}}  + {{p__{3}}}            \n",
       "⎢0  0  ────────────────────────────────────────────────────────────           \n",
       "⎢                             m + {{p__{0}}}                                  \n",
       "⎢                                                                             \n",
       "⎢                                                                       2     \n",
       "⎢                                                                    - m  + {{\n",
       "⎢0  0                               0                                ─────────\n",
       "⎣                                                                             \n",
       "\n",
       "      2⋅{{p__{1}}} - 2⋅ⅈ⋅{{p__{2}}}                ⎤\n",
       "                                                   ⎥\n",
       "              -2⋅{{p__{3}}}                        ⎥\n",
       "                                                   ⎥\n",
       "                                                   ⎥\n",
       "                                                   ⎥\n",
       "                    0                              ⎥\n",
       "                                                   ⎥\n",
       "                                                   ⎥\n",
       "        2             2             2             2⎥\n",
       "p__{0}}}  + {{p__{1}}}  + {{p__{2}}}  + {{p__{3}}} ⎥\n",
       "───────────────────────────────────────────────────⎥\n",
       "              m + {{p__{0}}}                       ⎦"
      ]
     },
     "execution_count": 11,
     "metadata": {},
     "output_type": "execute_result"
    }
   ],
   "source": [
    "(r1-r2).simplify().subs({p*p:m**2})"
   ]
  },
  {
   "cell_type": "markdown",
   "metadata": {
    "Collapsed": "false",
    "slideshow": {
     "slide_type": "slide"
    }
   },
   "source": [
    "### Proceso $e^+ e^- \\rightarrow \\gamma \\rightarrow \\mu^+ \\mu^-$"
   ]
  },
  {
   "cell_type": "code",
   "execution_count": 12,
   "metadata": {
    "Collapsed": "false",
    "slideshow": {
     "slide_type": "subslide"
    }
   },
   "outputs": [
    {
     "data": {
      "image/png": "[encoded data removed]",
      "text/latex": [
       "$\\displaystyle \\operatorname{FV}\\left(E, E \\sin{\\left(\\theta \\right)}, 0, E \\cos{\\left(\\theta \\right)}\\right)$"
      ],
      "text/plain": [
       "(E,E \\sin{\\left(\\theta \\right)},0,E \\cos{\\left(\\theta \\right)})"
      ]
     },
     "metadata": {},
     "output_type": "display_data"
    },
    {
     "data": {
      "image/png": "[encoded data removed]",
      "text/latex": [
       "$\\displaystyle \\operatorname{FV}\\left(E, - E \\sin{\\left(\\theta \\right)}, 0, - E \\cos{\\left(\\theta \\right)}\\right)$"
      ],
      "text/plain": [
       "(E,- E \\sin{\\left(\\theta \\right)},0,- E \\cos{\\left(\\theta \\right)})"
      ]
     },
     "metadata": {},
     "output_type": "display_data"
    }
   ],
   "source": [
    "from sympy import sin, cos, conjugate, I\n",
    "from sympy.physics.matrices import mgamma, msigma\n",
    "\n",
    "g = [[1,0,0,0],[0,-1,0,0],[0,0,-1,0],[0,0,0,-1]]\n",
    "\n",
    "E, θ = symbols(r'E, theta',positive=True)\n",
    "pp = symbols(r'p',positive=True)\n",
    "\n",
    "pmu1 = FV(E,0,0,E)\n",
    "pmu2 = FV(E,0,0,-E)\n",
    "pmu3 = FV(E,E*sin(θ),0,E*cos(θ))\n",
    "pmu4 = FV(E,-E*sin(θ),0,-E*cos(θ))\n",
    "\n",
    "display(pmu3)\n",
    "display(pmu4)"
   ]
  },
  {
   "cell_type": "code",
   "execution_count": 13,
   "metadata": {
    "Collapsed": "false",
    "slideshow": {
     "slide_type": "fragment"
    }
   },
   "outputs": [
    {
     "data": {
      "image/png": "[encoded data removed]",
      "text/latex": [
       "$\\displaystyle \\frac{e^{2}}{4 E^{2}}$"
      ],
      "text/plain": [
       "  2 \n",
       " e  \n",
       "────\n",
       "   2\n",
       "4⋅E "
      ]
     },
     "execution_count": 13,
     "metadata": {},
     "output_type": "execute_result"
    }
   ],
   "source": [
    "s = (pmu1+pmu2)*(pmu1+pmu2)\n",
    "e, me, mmu = symbols(r'e, m_e, m_\\mu',positive=True)\n",
    "A = e**2/(s)\n",
    "A"
   ]
  },
  {
   "cell_type": "code",
   "execution_count": 14,
   "metadata": {},
   "outputs": [],
   "source": [
    "u3 = lambda s3:SpinorU(pmu3,mmu,s3)\n",
    "v4 = lambda s4:SpinorV(pmu4,mmu,s4)\n",
    "v2 = lambda s2:SpinorV(pmu2,me,s2)\n",
    "u1 = lambda s1:SpinorU(pmu1,me,s1)"
   ]
  },
  {
   "cell_type": "code",
   "execution_count": 15,
   "metadata": {},
   "outputs": [
    {
     "data": {
      "image/png": "[encoded data removed]",
      "text/latex": [
       "$\\displaystyle \\frac{- 2 E^{4} \\sin^{2}{\\left(\\theta \\right)} + 2 E^{4} \\cos^{2}{\\left(\\theta \\right)} + 4 E^{4} \\cos{\\left(\\theta \\right)} + 2 E^{4} + 4 E^{3} m_{\\mu} \\cos{\\left(\\theta \\right)} + 4 E^{3} m_{\\mu} - 2 E^{3} m_{e} \\sin^{2}{\\left(\\theta \\right)} + 2 E^{3} m_{e} \\cos^{2}{\\left(\\theta \\right)} + 4 E^{3} m_{e} \\cos{\\left(\\theta \\right)} + 2 E^{3} m_{e} + 2 E^{2} m_{\\mu}^{2} + 4 E^{2} m_{\\mu} m_{e} \\cos{\\left(\\theta \\right)} + 4 E^{2} m_{\\mu} m_{e} - E^{2} m_{e}^{2} \\sin^{2}{\\left(\\theta \\right)} + E^{2} m_{e}^{2} \\cos^{2}{\\left(\\theta \\right)} + E^{2} m_{e}^{2} + 2 E m_{\\mu}^{2} m_{e} + 2 E m_{\\mu} m_{e}^{2} + m_{\\mu}^{2} m_{e}^{2}}{\\left(E + m_{\\mu}\\right) \\left(E + m_{e}\\right)}$"
      ],
      "text/plain": [
       "     4    2         4    2         4             4      3                   3 \n",
       "- 2⋅E ⋅sin (θ) + 2⋅E ⋅cos (θ) + 4⋅E ⋅cos(θ) + 2⋅E  + 4⋅E ⋅m_\\mu⋅cos(θ) + 4⋅E ⋅\n",
       "──────────────────────────────────────────────────────────────────────────────\n",
       "                                                                              \n",
       "\n",
       "           3       2         3       2         3                3         2   \n",
       "m_\\mu - 2⋅E ⋅mₑ⋅sin (θ) + 2⋅E ⋅mₑ⋅cos (θ) + 4⋅E ⋅mₑ⋅cos(θ) + 2⋅E ⋅mₑ + 2⋅E ⋅m_\n",
       "──────────────────────────────────────────────────────────────────────────────\n",
       "                                                        (E + m_\\mu)⋅(E + mₑ)  \n",
       "\n",
       "   2      2                      2             2   2    2       2   2    2    \n",
       "\\mu  + 4⋅E ⋅m_\\mu⋅mₑ⋅cos(θ) + 4⋅E ⋅m_\\mu⋅mₑ - E ⋅mₑ ⋅sin (θ) + E ⋅mₑ ⋅cos (θ) \n",
       "──────────────────────────────────────────────────────────────────────────────\n",
       "                                                                              \n",
       "\n",
       "   2   2            2                  2        2   2\n",
       "+ E ⋅mₑ  + 2⋅E⋅m_\\mu ⋅mₑ + 2⋅E⋅m_\\mu⋅mₑ  + m_\\mu ⋅mₑ \n",
       "─────────────────────────────────────────────────────\n",
       "                                                     "
      ]
     },
     "execution_count": 15,
     "metadata": {},
     "output_type": "execute_result"
    }
   ],
   "source": [
    "\n",
    "M = lambda s1,s2,s3,s4:Add(*[(\n",
    "    (u3(s3).adj()*g[μ][ν]*mgamma(ν)*v4(s4).matrixform())*(v2(s2).adj()*mgamma(μ)*u1(s1).matrixform()))[0] \n",
    "                             for μ in range(4) for ν in range(4)])\n",
    "M(1,1,1,1).factor()"
   ]
  },
  {
   "cell_type": "code",
   "execution_count": 16,
   "metadata": {
    "Collapsed": "false",
    "slideshow": {
     "slide_type": "fragment"
    }
   },
   "outputs": [
    {
     "data": {
      "image/png": "[encoded data removed]",
      "text/latex": [
       "$\\displaystyle \\frac{e^{4} \\cdot \\left(2 E^{4} m_{e}^{2} \\left(2 E + m_{e}\\right)^{2} \\sin^{4}{\\left(\\theta \\right)} + \\frac{E^{4} \\cdot \\left(1 - \\cos{\\left(4 \\theta \\right)}\\right) \\left(- E^{2} + \\left(E + m_{e}\\right)^{2}\\right)^{2}}{2} + 4 E^{4} \\left(2 \\left(E + m_{\\mu}\\right) \\left(E + m_{e}\\right) + \\left(E^{2} + \\left(E + m_{e}\\right)^{2}\\right) \\cos{\\left(\\theta \\right)}\\right)^{2} \\sin^{2}{\\left(\\theta \\right)} + 2 m_{e}^{2} \\left(2 E + m_{e}\\right)^{2} \\left(E^{2} \\sin^{2}{\\left(\\theta \\right)} + 2 E m_{\\mu} + m_{\\mu}^{2}\\right)^{2} + \\left(4 E^{2} \\left(E + m_{\\mu}\\right) \\left(E + m_{e}\\right) \\cos{\\left(\\theta \\right)} + \\left(E^{2} + \\left(E + m_{e}\\right)^{2}\\right) \\left(2 E^{2} \\cos^{2}{\\left(\\theta \\right)} + 2 E m_{\\mu} + m_{\\mu}^{2}\\right)\\right)^{2}\\right)}{16 E^{4} \\left(E + m_{\\mu}\\right)^{2} \\left(E + m_{e}\\right)^{2}}$"
      ],
      "text/plain": [
       "   ⎛                                                                   2      \n",
       "   ⎜                                4                ⎛   2           2⎞       \n",
       " 4 ⎜   4   2           2    4      E ⋅(1 - cos(4⋅θ))⋅⎝- E  + (E + mₑ) ⎠       \n",
       "e ⋅⎜2⋅E ⋅mₑ ⋅(2⋅E + mₑ) ⋅sin (θ) + ───────────────────────────────────── + 4⋅E\n",
       "   ⎝                                                 2                        \n",
       "──────────────────────────────────────────────────────────────────────────────\n",
       "                                                                              \n",
       "                                                                              \n",
       "\n",
       "                                                                              \n",
       "                                                    2                         \n",
       "4 ⎛                         ⎛ 2           2⎞       ⎞     2          2         \n",
       " ⋅⎝2⋅(E + m_\\mu)⋅(E + mₑ) + ⎝E  + (E + mₑ) ⎠⋅cos(θ)⎠ ⋅sin (θ) + 2⋅mₑ ⋅(2⋅E + m\n",
       "                                                                              \n",
       "──────────────────────────────────────────────────────────────────────────────\n",
       "                                                        4            2        \n",
       "                                                    16⋅E ⋅(E + m_\\mu) ⋅(E + mₑ\n",
       "\n",
       "                                                                              \n",
       "                                     2                                        \n",
       "  2 ⎛ 2    2                       2⎞    ⎛   2                               ⎛\n",
       "ₑ) ⋅⎝E ⋅sin (θ) + 2⋅E⋅m_\\mu + m_\\mu ⎠  + ⎝4⋅E ⋅(E + m_\\mu)⋅(E + mₑ)⋅cos(θ) + ⎝\n",
       "                                                                              \n",
       "──────────────────────────────────────────────────────────────────────────────\n",
       " 2                                                                            \n",
       ")                                                                             \n",
       "\n",
       "                                                     ⎞\n",
       "                                                    2⎟\n",
       " 2           2⎞ ⎛   2    2                       2⎞⎞ ⎟\n",
       "E  + (E + mₑ) ⎠⋅⎝2⋅E ⋅cos (θ) + 2⋅E⋅m_\\mu + m_\\mu ⎠⎠ ⎟\n",
       "                                                     ⎠\n",
       "──────────────────────────────────────────────────────\n",
       "                                                      \n",
       "                                                      "
      ]
     },
     "execution_count": 16,
     "metadata": {},
     "output_type": "execute_result"
    }
   ],
   "source": [
    "spins = [1,2]\n",
    "r = Add(*[M(s1,s2,s3,s4)*conjugate(M(s1,s2,s3,s4)) for s1 in spins for s2 in spins for s3 in spins for s4 in spins])\n",
    "t = A**2*(r/4).simplify()#.collect(pp3)\n",
    "t"
   ]
  },
  {
   "cell_type": "code",
   "execution_count": 17,
   "metadata": {
    "Collapsed": "false",
    "slideshow": {
     "slide_type": "fragment"
    }
   },
   "outputs": [
    {
     "data": {
      "image/png": "[encoded data removed]",
      "text/latex": [
       "$\\displaystyle e^{4} \\left(\\cos{\\left(\\theta \\right)} + 1\\right)^{2}$"
      ],
      "text/plain": [
       " 4             2\n",
       "e ⋅(cos(θ) + 1) "
      ]
     },
     "execution_count": 17,
     "metadata": {},
     "output_type": "execute_result"
    }
   ],
   "source": [
    "t = t.subs({me:0,mmu:0}).simplify().subs({sin(θ):sqrt(1-cos(θ)**2)})\n",
    "t"
   ]
  },
  {
   "cell_type": "markdown",
   "metadata": {},
   "source": [
    "## W decay into leptons"
   ]
  },
  {
   "cell_type": "markdown",
   "metadata": {},
   "source": [
    "### kinematics"
   ]
  },
  {
   "cell_type": "code",
   "execution_count": 18,
   "metadata": {},
   "outputs": [],
   "source": [
    "mW = symbols('m_W', positive=True)\n",
    "pmu1 = FV(mW, 0, 0, 0)\n",
    "pmu3 = FV(E, E*sin(θ), 0, E*cos(θ))\n",
    "pmu4 = FV(E, -E*sin(θ), 0, -E*cos(θ))"
   ]
  },
  {
   "cell_type": "markdown",
   "metadata": {},
   "source": [
    "### Massive vector polarizations along the z axis"
   ]
  },
  {
   "cell_type": "code",
   "execution_count": 19,
   "metadata": {},
   "outputs": [],
   "source": [
    "m, E, pz = symbols('m, E, p_z', positive=True)\n",
    "eps_minus = FV(0, 1/sqrt(2), -I/sqrt(2), 0)\n",
    "eps_L = FV(0, 0, 0, 1) # W boson at rest\n",
    "eps_plus = FV(0, -1/sqrt(2), -I/sqrt(2), 0)"
   ]
  },
  {
   "cell_type": "code",
   "execution_count": 20,
   "metadata": {},
   "outputs": [],
   "source": [
    "def polarization(type):\n",
    "    if type == 1:\n",
    "        out = eps_plus\n",
    "    elif type == -1:\n",
    "        out = eps_minus\n",
    "    elif type == 0:\n",
    "        out = eps_L\n",
    "    else:\n",
    "        raise ValueError(\"type must be 1, -1 or 0\")\n",
    "    return out"
   ]
  },
  {
   "cell_type": "code",
   "execution_count": 21,
   "metadata": {},
   "outputs": [],
   "source": [
    "ml, mnu = symbols(r'm_\\ell, m_\\nu', positive=True)\n",
    "u3 = lambda s3:SpinorU(pmu3, ml, s3)\n",
    "v4 = lambda s4:SpinorV(pmu4, mnu, s4)\n",
    "I4x4 = eye(4)\n",
    "fV, fA = symbols(r'f_V, f_A', real=True)  # vector and axial couplings\n"
   ]
  },
  {
   "cell_type": "code",
   "execution_count": 22,
   "metadata": {},
   "outputs": [],
   "source": [
    "from sympy import Dummy, Abs\n",
    "from sympy.physics.quantum.dagger import Dagger\n",
    "positive_nu = Dummy(positive=True)\n",
    "positive_l = Dummy(positive=True)"
   ]
  },
  {
   "cell_type": "code",
   "execution_count": 23,
   "metadata": {},
   "outputs": [
    {
     "data": {
      "image/png": "[encoded data removed]",
      "text/latex": [
       "$\\displaystyle \\left[\\begin{matrix}E + m_{\\ell} & 0 & E \\cos{\\left(\\theta \\right)} & E \\sin{\\left(\\theta \\right)}\\\\0 & 0 & 0 & 0\\\\E \\cos{\\left(\\theta \\right)} & 0 & \\frac{E^{2} \\cos^{2}{\\left(\\theta \\right)}}{E + m_{\\ell}} & \\frac{E^{2} \\sin{\\left(\\theta \\right)} \\cos{\\left(\\theta \\right)}}{E + m_{\\ell}}\\\\E \\sin{\\left(\\theta \\right)} & 0 & \\frac{E^{2} \\sin{\\left(\\theta \\right)} \\cos{\\left(\\theta \\right)}}{E + m_{\\ell}} & \\frac{E^{2} \\sin^{2}{\\left(\\theta \\right)}}{E + m_{\\ell}}\\end{matrix}\\right]$"
      ],
      "text/plain": [
       "⎡E + m_\\ell  0      E⋅cos(θ)          E⋅sin(θ)    ⎤\n",
       "⎢                                                 ⎥\n",
       "⎢    0       0         0                 0        ⎥\n",
       "⎢                                                 ⎥\n",
       "⎢                   2    2         2              ⎥\n",
       "⎢                  E ⋅cos (θ)     E ⋅sin(θ)⋅cos(θ)⎥\n",
       "⎢ E⋅cos(θ)   0     ──────────     ────────────────⎥\n",
       "⎢                  E + m_\\ell        E + m_\\ell   ⎥\n",
       "⎢                                                 ⎥\n",
       "⎢                2                    2    2      ⎥\n",
       "⎢               E ⋅sin(θ)⋅cos(θ)     E ⋅sin (θ)   ⎥\n",
       "⎢ E⋅sin(θ)   0  ────────────────     ──────────   ⎥\n",
       "⎣                  E + m_\\ell        E + m_\\ell   ⎦"
      ]
     },
     "execution_count": 23,
     "metadata": {},
     "output_type": "execute_result"
    }
   ],
   "source": [
    "u3(1).matrixform()*u3(1).adj()"
   ]
  },
  {
   "cell_type": "code",
   "execution_count": 24,
   "metadata": {},
   "outputs": [
    {
     "data": {
      "image/png": "[encoded data removed]",
      "text/latex": [
       "$\\displaystyle \\left[\\begin{matrix}E + m_{\\ell} & E + m_{\\ell} & E \\sin{\\left(\\theta \\right)} + E \\cos{\\left(\\theta \\right)} & E \\sin{\\left(\\theta \\right)} - E \\cos{\\left(\\theta \\right)}\\\\E + m_{\\ell} & E + m_{\\ell} & E \\sin{\\left(\\theta \\right)} + E \\cos{\\left(\\theta \\right)} & E \\sin{\\left(\\theta \\right)} - E \\cos{\\left(\\theta \\right)}\\\\E \\sin{\\left(\\theta \\right)} + E \\cos{\\left(\\theta \\right)} & E \\sin{\\left(\\theta \\right)} + E \\cos{\\left(\\theta \\right)} & \\frac{E^{2} \\sin^{2}{\\left(\\theta \\right)}}{E + m_{\\ell}} + \\frac{2 E^{2} \\sin{\\left(\\theta \\right)} \\cos{\\left(\\theta \\right)}}{E + m_{\\ell}} + \\frac{E^{2} \\cos^{2}{\\left(\\theta \\right)}}{E + m_{\\ell}} & \\frac{E^{2} \\sin^{2}{\\left(\\theta \\right)}}{E + m_{\\ell}} - \\frac{E^{2} \\cos^{2}{\\left(\\theta \\right)}}{E + m_{\\ell}}\\\\E \\sin{\\left(\\theta \\right)} - E \\cos{\\left(\\theta \\right)} & E \\sin{\\left(\\theta \\right)} - E \\cos{\\left(\\theta \\right)} & \\frac{E^{2} \\sin^{2}{\\left(\\theta \\right)}}{E + m_{\\ell}} - \\frac{E^{2} \\cos^{2}{\\left(\\theta \\right)}}{E + m_{\\ell}} & \\frac{E^{2} \\sin^{2}{\\left(\\theta \\right)}}{E + m_{\\ell}} - \\frac{2 E^{2} \\sin{\\left(\\theta \\right)} \\cos{\\left(\\theta \\right)}}{E + m_{\\ell}} + \\frac{E^{2} \\cos^{2}{\\left(\\theta \\right)}}{E + m_{\\ell}}\\end{matrix}\\right]$"
      ],
      "text/plain": [
       "⎡    E + m_\\ell           E + m_\\ell                   E⋅sin(θ) + E⋅cos(θ)    \n",
       "⎢                                                                             \n",
       "⎢    E + m_\\ell           E + m_\\ell                   E⋅sin(θ) + E⋅cos(θ)    \n",
       "⎢                                                                             \n",
       "⎢                                           2    2         2                  \n",
       "⎢                                          E ⋅sin (θ)   2⋅E ⋅sin(θ)⋅cos(θ)   E\n",
       "⎢E⋅sin(θ) + E⋅cos(θ)  E⋅sin(θ) + E⋅cos(θ)  ────────── + ────────────────── + ─\n",
       "⎢                                          E + m_\\ell       E + m_\\ell       E\n",
       "⎢                                                                             \n",
       "⎢                                                     2    2       2    2     \n",
       "⎢                                                    E ⋅sin (θ)   E ⋅cos (θ)  \n",
       "⎢E⋅sin(θ) - E⋅cos(θ)  E⋅sin(θ) - E⋅cos(θ)            ────────── - ──────────  \n",
       "⎣                                                    E + m_\\ell   E + m_\\ell  \n",
       "\n",
       "                       E⋅sin(θ) - E⋅cos(θ)             ⎤\n",
       "                                                       ⎥\n",
       "                       E⋅sin(θ) - E⋅cos(θ)             ⎥\n",
       "                                                       ⎥\n",
       "2    2                2    2       2    2              ⎥\n",
       " ⋅cos (θ)            E ⋅sin (θ)   E ⋅cos (θ)           ⎥\n",
       "─────────            ────────── - ──────────           ⎥\n",
       " + m_\\ell            E + m_\\ell   E + m_\\ell           ⎥\n",
       "                                                       ⎥\n",
       "            2    2         2                  2    2   ⎥\n",
       "           E ⋅sin (θ)   2⋅E ⋅sin(θ)⋅cos(θ)   E ⋅cos (θ)⎥\n",
       "           ────────── - ────────────────── + ──────────⎥\n",
       "           E + m_\\ell       E + m_\\ell       E + m_\\ell⎦"
      ]
     },
     "execution_count": 24,
     "metadata": {},
     "output_type": "execute_result"
    }
   ],
   "source": [
    "Add(*[(u3(s3).matrixform()*u3(s4).adj()) for s3 in spins for s4 in spins]).applyfunc(\n",
    "    lambda x:x.collect([cos(θ), sin(θ)], simplify)\n",
    "    )"
   ]
  },
  {
   "cell_type": "code",
   "execution_count": 28,
   "metadata": {},
   "outputs": [],
   "source": [
    "from sympy import Matrix"
   ]
  },
  {
   "cell_type": "code",
   "execution_count": 33,
   "metadata": {},
   "outputs": [
    {
     "data": {
      "image/png": "[encoded data removed]",
      "text/latex": [
       "$\\displaystyle \\frac{E \\sin{\\left(\\theta \\right)}}{E + m_{\\ell}}$"
      ],
      "text/plain": [
       " E⋅sin(θ) \n",
       "──────────\n",
       "E + m_\\ell"
      ]
     },
     "execution_count": 33,
     "metadata": {},
     "output_type": "execute_result"
    }
   ],
   "source": [
    "sp1 = (\n",
    "    pmu3.p1*msigma(1) + \n",
    "    pmu3.p2*msigma(2)+ \n",
    "    pmu3.p3*msigma(3)\n",
    "    )/(pmu3.p0 + ml)\n",
    "(sp1*Matrix(\n",
    "    [\n",
    "        [1],\n",
    "        [0]\n",
    "    ]\n",
    "))#[1]"
   ]
  },
  {
   "cell_type": "code",
   "execution_count": 122,
   "metadata": {},
   "outputs": [
    {
     "data": {
      "image/png": "[encoded data removed]",
      "text/latex": [
       "$\\displaystyle \\left[\\begin{matrix}E + m_{\\ell} & 0 & - E \\cos{\\left(\\theta \\right)} & - E \\sin{\\left(\\theta \\right)}\\\\0 & E + m_{\\ell} & - E \\sin{\\left(\\theta \\right)} & E \\cos{\\left(\\theta \\right)}\\\\E \\cos{\\left(\\theta \\right)} & E \\sin{\\left(\\theta \\right)} & - E + m_{\\ell} & 0\\\\E \\sin{\\left(\\theta \\right)} & - E \\cos{\\left(\\theta \\right)} & 0 & - E + m_{\\ell}\\end{matrix}\\right]$"
      ],
      "text/plain": [
       "⎡E + m_\\ell      0        -E⋅cos(θ)    -E⋅sin(θ) ⎤\n",
       "⎢                                                ⎥\n",
       "⎢    0       E + m_\\ell   -E⋅sin(θ)    E⋅cos(θ)  ⎥\n",
       "⎢                                                ⎥\n",
       "⎢ E⋅cos(θ)    E⋅sin(θ)   -E + m_\\ell       0     ⎥\n",
       "⎢                                                ⎥\n",
       "⎣ E⋅sin(θ)   -E⋅cos(θ)        0       -E + m_\\ell⎦"
      ]
     },
     "execution_count": 122,
     "metadata": {},
     "output_type": "execute_result"
    }
   ],
   "source": [
    "pmu3.slash() + ml*I4x4"
   ]
  },
  {
   "cell_type": "code",
   "execution_count": 83,
   "metadata": {},
   "outputs": [
    {
     "data": {
      "image/png": "[encoded data removed]",
      "text/latex": [
       "$\\displaystyle \\frac{E^{2} \\sin^{2}{\\left(\\theta \\right)}}{\\sqrt{E + m_{\\ell}} \\sqrt{E + m_{\\nu}}} - \\frac{E \\left(- \\frac{E \\cos{\\left(\\theta \\right)}}{\\sqrt{E + m_{\\ell}}} + \\sqrt{E + m_{\\ell}}\\right) \\cos{\\left(\\theta \\right)}}{\\sqrt{E + m_{\\nu}}} + \\sqrt{E + m_{\\nu}} \\left(\\frac{E \\cos{\\left(\\theta \\right)}}{\\sqrt{E + m_{\\ell}}} - \\sqrt{E + m_{\\ell}}\\right)$"
      ],
      "text/plain": [
       "                                 ⎛     E⋅cos(θ)        ____________⎞          \n",
       "                               E⋅⎜- ────────────── + ╲╱ E + m_\\ell ⎟⋅cos(θ)   \n",
       "          2    2                 ⎜    ____________                 ⎟          \n",
       "         E ⋅sin (θ)              ⎝  ╲╱ E + m_\\ell                  ⎠          \n",
       "──────────────────────────── - ──────────────────────────────────────────── + \n",
       "  ____________   ___________                    ___________                   \n",
       "╲╱ E + m_\\ell ⋅╲╱ E + m_\\nu                   ╲╱ E + m_\\nu                    \n",
       "\n",
       "                                               \n",
       "                                               \n",
       "                                               \n",
       "  ___________ ⎛   E⋅cos(θ)        ____________⎞\n",
       "╲╱ E + m_\\nu ⋅⎜────────────── - ╲╱ E + m_\\ell ⎟\n",
       "              ⎜  ____________                 ⎟\n",
       "              ⎝╲╱ E + m_\\ell                  ⎠"
      ]
     },
     "execution_count": 83,
     "metadata": {},
     "output_type": "execute_result"
    }
   ],
   "source": [
    "Jmu = lambda nu, s3, s4: (\n",
    "    (u3(s3).adj()*mgamma(nu)*(I4x4 - mgamma(5))*v4(s4).matrixform())\n",
    "    )[0]\n",
    "Jmu(0,1,1)"
   ]
  },
  {
   "cell_type": "code",
   "execution_count": 55,
   "metadata": {},
   "outputs": [
    {
     "data": {
      "text/plain": [
       "True"
      ]
     },
     "execution_count": 55,
     "metadata": {},
     "output_type": "execute_result"
    }
   ],
   "source": [
    "(\n",
    "    mgamma(0)*mgamma(0) -\n",
    "    mgamma(1)*mgamma(1) - \n",
    "    mgamma(2)*mgamma(2) - \n",
    "    mgamma(3)*mgamma(3)\n",
    ") == 4*I4x4"
   ]
  },
  {
   "cell_type": "code",
   "execution_count": 103,
   "metadata": {},
   "outputs": [
    {
     "data": {
      "image/png": "[encoded data removed]",
      "text/latex": [
       "$\\displaystyle 4 E \\cos^{2}{\\left(\\theta \\right)}$"
      ],
      "text/plain": [
       "       2   \n",
       "4⋅E⋅cos (θ)"
      ]
     },
     "execution_count": 103,
     "metadata": {},
     "output_type": "execute_result"
    }
   ],
   "source": [
    "(Jmu(1, 1, 1) + Jmu(1, 1, 2) + Jmu(1, 2, 1) + Jmu(1, 2, 2)).subs(ml,0).subs(mnu,0).simplify()"
   ]
  },
  {
   "cell_type": "code",
   "execution_count": 85,
   "metadata": {},
   "outputs": [],
   "source": [
    "def spin_sum(J, mu):\n",
    "    return Add(*[J(mu, s3, s4) for s3 in spins for s4 in spins])"
   ]
  },
  {
   "cell_type": "code",
   "execution_count": 87,
   "metadata": {},
   "outputs": [],
   "source": [
    "def Jmu_average(pol_type, J):\n",
    "    eps = polarization(pol_type).matrixform()\n",
    "    J0 = eps[0]*spin_sum(J, 0)\n",
    "    J1 = eps[1]*spin_sum(J, 1)\n",
    "    J2 = eps[2]*spin_sum(J, 2)\n",
    "    J3 = eps[3]*spin_sum(J, 3)\n",
    "    return J0 - J1 - J2 - J3"
   ]
  },
  {
   "cell_type": "code",
   "execution_count": 93,
   "metadata": {},
   "outputs": [],
   "source": [
    "M_plus = Jmu_average(1,Jmu).subs(\n",
    "    E + mnu, positive_nu\n",
    "    ).subs(\n",
    "        E + ml, positive_l\n",
    "        ).subs({\n",
    "            positive_l:E + ml,\n",
    "            positive_nu: E + mnu\n",
    "            }).subs(mnu, 0).subs(ml, 0).simplify()\n",
    "\n",
    "M_minus = Jmu_average(-1, Jmu).subs(\n",
    "    E + mnu, positive_nu\n",
    "    ).subs(\n",
    "        E + ml, positive_l\n",
    "        ).subs({\n",
    "            positive_l:E + ml,\n",
    "            positive_nu: E + mnu\n",
    "            }).subs(mnu, 0).subs(ml, 0).simplify()\n",
    "\n",
    "M_0 = Jmu_average(0, Jmu).subs(\n",
    "    E + mnu, positive_nu\n",
    "    ).subs(\n",
    "        E + ml, positive_l\n",
    "        ).subs({\n",
    "            positive_l:E + ml,\n",
    "            positive_nu: E + mnu\n",
    "            }).subs(mnu, 0).subs(ml, 0)#.simplify()"
   ]
  },
  {
   "cell_type": "code",
   "execution_count": null,
   "metadata": {},
   "outputs": [],
   "source": []
  },
  {
   "cell_type": "code",
   "execution_count": 94,
   "metadata": {},
   "outputs": [],
   "source": [
    "def M_square(M):\n",
    "    return M*conjugate(M)"
   ]
  },
  {
   "cell_type": "code",
   "execution_count": 95,
   "metadata": {},
   "outputs": [
    {
     "data": {
      "image/png": "[encoded data removed]",
      "text/latex": [
       "$\\displaystyle 8 E^{2} \\left(- \\cos^{2}{\\left(\\theta \\right)} + \\cos{\\left(\\theta \\right)}\\right)^{2}$"
      ],
      "text/plain": [
       "                         2\n",
       "   2 ⎛     2            ⎞ \n",
       "8⋅E ⋅⎝- cos (θ) + cos(θ)⎠ "
      ]
     },
     "execution_count": 95,
     "metadata": {},
     "output_type": "execute_result"
    }
   ],
   "source": [
    "M_square(M_plus).simplify()"
   ]
  },
  {
   "cell_type": "code",
   "execution_count": 96,
   "metadata": {},
   "outputs": [
    {
     "data": {
      "image/png": "[encoded data removed]",
      "text/latex": [
       "$\\displaystyle 8 E^{2} \\left(\\cos^{2}{\\left(\\theta \\right)} + \\cos{\\left(\\theta \\right)}\\right)^{2}$"
      ],
      "text/plain": [
       "                       2\n",
       "   2 ⎛   2            ⎞ \n",
       "8⋅E ⋅⎝cos (θ) + cos(θ)⎠ "
      ]
     },
     "execution_count": 96,
     "metadata": {},
     "output_type": "execute_result"
    }
   ],
   "source": [
    "M_square(M_minus).simplify()\n"
   ]
  },
  {
   "cell_type": "code",
   "execution_count": 92,
   "metadata": {},
   "outputs": [
    {
     "data": {
      "image/png": "[encoded data removed]",
      "text/latex": [
       "$\\displaystyle 4 E^{2} \\sin^{2}{\\left(2 \\theta \\right)}$"
      ],
      "text/plain": [
       "   2    2     \n",
       "4⋅E ⋅sin (2⋅θ)"
      ]
     },
     "execution_count": 92,
     "metadata": {},
     "output_type": "execute_result"
    }
   ],
   "source": [
    "M_square(M_0).simplify()"
   ]
  },
  {
   "cell_type": "code",
   "execution_count": null,
   "metadata": {},
   "outputs": [],
   "source": []
  }
 ],
 "metadata": {
  "celltoolbar": "Slideshow",
  "kernelspec": {
   "display_name": "Python 3",
   "language": "python",
   "name": "python3"
  },
  "language_info": {
   "codemirror_mode": {
    "name": "ipython",
    "version": 3
   },
   "file_extension": ".py",
   "mimetype": "text/x-python",
   "name": "python",
   "nbconvert_exporter": "python",
   "pygments_lexer": "ipython3",
   "version": "3.7.12"
  },
  "latex_envs": {
   "LaTeX_envs_menu_present": true,
   "autoclose": false,
   "autocomplete": true,
   "bibliofile": "biblio.bib",
   "cite_by": "apalike",
   "current_citInitial": 1,
   "eqLabelWithNumbers": true,
   "eqNumInitial": 1,
   "hotkeys": {
    "equation": "Ctrl-E",
    "itemize": "Ctrl-I"
   },
   "labels_anchors": false,
   "latex_user_defs": false,
   "report_style_numbering": false,
   "user_envs_cfg": false
  },
  "toc": {
   "base_numbering": 1,
   "nav_menu": {},
   "number_sections": true,
   "sideBar": true,
   "skip_h1_title": false,
   "title_cell": "Table of Contents",
   "title_sidebar": "Contents",
   "toc_cell": false,
   "toc_position": {},
   "toc_section_display": true,
   "toc_window_display": false
  }
 },
 "nbformat": 4,
 "nbformat_minor": 4
}
