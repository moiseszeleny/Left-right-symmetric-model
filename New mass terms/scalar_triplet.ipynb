{
 "cells": [
  {
   "cell_type": "markdown",
   "metadata": {},
   "source": [
    "# Mass term for neutrinos in extensions of the SM"
   ]
  },
  {
   "cell_type": "code",
   "execution_count": 21,
   "metadata": {},
   "outputs": [],
   "source": [
    "from sympy import symbols, init_printing, Matrix, sqrt, I\n",
    "from sympy.physics import msigma\n",
    "init_printing()"
   ]
  },
  {
   "cell_type": "markdown",
   "metadata": {},
   "source": [
    "## Scalar triplet\n",
    "**page 144 Mohapatra**\n",
    "\n",
    "In this case we have a scalar triplet of the form"
   ]
  },
  {
   "cell_type": "code",
   "execution_count": 3,
   "metadata": {},
   "outputs": [
    {
     "data": {
      "image/png": "[encoded data removed]",
      "text/latex": [
       "$\\displaystyle \\left[\\begin{matrix}{\\Delta^0}\\\\{\\Delta^{-}}\\\\{\\Delta^{--}}\\end{matrix}\\right]$"
      ],
      "text/plain": [
       "⎡ {\\Delta__0}  ⎤\n",
       "⎢              ⎥\n",
       "⎢{\\Delta__{-}} ⎥\n",
       "⎢              ⎥\n",
       "⎣{\\Delta__{--}}⎦"
      ]
     },
     "execution_count": 3,
     "metadata": {},
     "output_type": "execute_result"
    }
   ],
   "source": [
    "Delta0, Deltam, Deltamm = symbols(f'{{\\Delta^0}}, {{\\Delta^{{-}}}}, {{\\Delta^{{--}}}}') \n",
    "Delta = Matrix(\n",
    "    [\n",
    "        [Delta0],\n",
    "        [Deltam],\n",
    "        [Deltamm]\n",
    "    ]\n",
    ")\n",
    "Delta"
   ]
  },
  {
   "cell_type": "markdown",
   "metadata": {},
   "source": [
    "Following the relation $Q = I_{3L} + \\frac{Y}{2}$,\n",
    " - $\\Delta^0$: $Q = 0$,  $Y = -2$, then $I_{3L} = 1$\n",
    " - $\\Delta^{-}$: $Q = -1$,  $Y = -2$, then $I_{3L} = 0$\n",
    " - $\\Delta^{--}$: $Q = -2$,  $Y = -2$, then $I_{3L} = -1$"
   ]
  },
  {
   "cell_type": "code",
   "execution_count": 4,
   "metadata": {},
   "outputs": [
    {
     "data": {
      "image/png": "[encoded data removed]",
      "text/latex": [
       "$\\displaystyle \\left[\\begin{matrix}{\\Delta^{--}} & {\\Delta^0} - i {\\Delta^{-}}\\\\{\\Delta^0} + i {\\Delta^{-}} & - {\\Delta^{--}}\\end{matrix}\\right]$"
      ],
      "text/plain": [
       "⎡       {\\Delta__{--}}          {\\Delta__0} - ⅈ⋅{\\Delta__{-}}⎤\n",
       "⎢                                                            ⎥\n",
       "⎣{\\Delta__0} + ⅈ⋅{\\Delta__{-}}         -{\\Delta__{--}}       ⎦"
      ]
     },
     "execution_count": 4,
     "metadata": {},
     "output_type": "execute_result"
    }
   ],
   "source": [
    "tauDelta = msigma(1)*Delta[0] + msigma(2)*Delta[1] + msigma(3)*Delta[2]\n",
    "tauDelta  "
   ]
  },
  {
   "cell_type": "code",
   "execution_count": 25,
   "metadata": {},
   "outputs": [
    {
     "data": {
      "image/png": "[encoded data removed]",
      "text/latex": [
       "$\\displaystyle \\left[\\begin{matrix}\\overline{\\nu_L} & \\overline{e_L}\\end{matrix}\\right]$"
      ],
      "text/plain": [
       "[\\overline{\\nu_L}  \\overline{e_L}]"
      ]
     },
     "execution_count": 25,
     "metadata": {},
     "output_type": "execute_result"
    }
   ],
   "source": [
    "eLadj, vLadj = symbols(r'\\overline{e_L}, \\overline{\\nu_L}')\n",
    "PhiLadj = Matrix(\n",
    "    [\n",
    "        [vLadj,eLadj]\n",
    "    ]\n",
    ")\n",
    "PhiLadj"
   ]
  },
  {
   "cell_type": "code",
   "execution_count": 26,
   "metadata": {},
   "outputs": [
    {
     "data": {
      "image/png": "[encoded data removed]",
      "text/latex": [
       "$\\displaystyle \\left[\\begin{matrix}{{\\nu_R^c}}\\\\{{e_R^c}}\\end{matrix}\\right]$"
      ],
      "text/plain": [
       "⎡{{\\nu_R__c}}⎤\n",
       "⎢            ⎥\n",
       "⎣ {{e_R__c}} ⎦"
      ]
     },
     "execution_count": 26,
     "metadata": {},
     "output_type": "execute_result"
    }
   ],
   "source": [
    "eRc, vRc = symbols(r'{{e_R^c}}, {{\\nu_R^c}}')\n",
    "PhiRc = Matrix(\n",
    "    [\n",
    "        [vRc],\n",
    "        [eRc]\n",
    "    ]\n",
    ")\n",
    "PhiRc"
   ]
  },
  {
   "cell_type": "code",
   "execution_count": 30,
   "metadata": {},
   "outputs": [
    {
     "data": {
      "image/png": "[encoded data removed]",
      "text/latex": [
       "$\\displaystyle i \\left(i {{\\nu_R^c}} \\left(\\overline{\\nu_L} \\left({\\Delta^0} - i {\\Delta^{-}}\\right) - \\overline{e_L} {\\Delta^{--}}\\right) - i {{e_R^c}} \\left(\\overline{\\nu_L} {\\Delta^{--}} + \\overline{e_L} \\left({\\Delta^0} + i {\\Delta^{-}}\\right)\\right)\\right)$"
      ],
      "text/plain": [
       "ⅈ⋅(ⅈ⋅{{\\nu_R__c}}⋅(\\overline{\\nu_L}⋅({\\Delta__0} - ⅈ⋅{\\Delta__{-}}) - \\overlin\n",
       "e{e_L}⋅{\\Delta__{--}}) - ⅈ⋅{{e_R__c}}⋅(\\overline{\\nu_L}⋅{\\Delta__{--}} + \\over\n",
       "line{e_L}⋅({\\Delta__0} + ⅈ⋅{\\Delta__{-}})))"
      ]
     },
     "execution_count": 30,
     "metadata": {},
     "output_type": "execute_result"
    }
   ],
   "source": [
    "mass_term = I*(PhiLadj*tauDelta*msigma(2)*PhiRc)[0]\n",
    "mass_term"
   ]
  },
  {
   "cell_type": "code",
   "execution_count": 31,
   "metadata": {},
   "outputs": [],
   "source": [
    "v3 = symbols('v_3', positive=True)\n",
    "vev_cond = {Delta0:v3/sqrt(2), Deltam:0, Deltamm:0}"
   ]
  },
  {
   "cell_type": "code",
   "execution_count": 32,
   "metadata": {},
   "outputs": [
    {
     "data": {
      "image/png": "[encoded data removed]",
      "text/latex": [
       "$\\displaystyle \\frac{\\sqrt{2} v_{3} \\left(- \\overline{\\nu_L} {{\\nu_R^c}} + \\overline{e_L} {{e_R^c}}\\right)}{2}$"
      ],
      "text/plain": [
       "√2⋅v₃⋅(-\\overline{\\nu_L}⋅{{\\nu_R__c}} + \\overline{e_L}⋅{{e_R__c}})\n",
       "──────────────────────────────────────────────────────────────────\n",
       "                                2                                 "
      ]
     },
     "execution_count": 32,
     "metadata": {},
     "output_type": "execute_result"
    }
   ],
   "source": [
    "mass_term.subs(vev_cond).simplify()"
   ]
  },
  {
   "cell_type": "code",
   "execution_count": null,
   "metadata": {},
   "outputs": [],
   "source": [
    "168\n",
    "46\n",
    "445\n",
    "# PR D22 (1980) 2860"
   ]
  }
 ],
 "metadata": {
  "kernelspec": {
   "display_name": "py37",
   "language": "python",
   "name": "python3"
  },
  "language_info": {
   "codemirror_mode": {
    "name": "ipython",
    "version": 3
   },
   "file_extension": ".py",
   "mimetype": "text/x-python",
   "name": "python",
   "nbconvert_exporter": "python",
   "pygments_lexer": "ipython3",
   "version": "3.7.12"
  }
 },
 "nbformat": 4,
 "nbformat_minor": 2
}
