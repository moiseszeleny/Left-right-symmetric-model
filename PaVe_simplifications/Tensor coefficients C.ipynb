{
 "cells": [
  {
   "cell_type": "code",
   "execution_count": 13,
   "metadata": {},
   "outputs": [],
   "source": [
    "from sympy import symbols, Function, init_printing, Matrix, simplify, eye, solve\n",
    "init_printing()"
   ]
  },
  {
   "cell_type": "code",
   "execution_count": 3,
   "metadata": {},
   "outputs": [
    {
     "data": {
      "image/png": "[encoded data removed]",
      "text/latex": [
       "$\\displaystyle p_{12}$"
      ],
      "text/plain": [
       "p_{12}"
      ]
     },
     "execution_count": 3,
     "metadata": {},
     "output_type": "execute_result"
    }
   ],
   "source": [
    "mX, ma, mb, M0, M1, M2 = symbols('m_X, m_a, m_b, M_0, M_1, M_2', positive=True)\n",
    "# p1_p2 = (mX**2 - ma**2 -mb**2)/2\n",
    "p1_p2 = symbols('p_{12}', real=True)\n",
    "p1_p2"
   ]
  },
  {
   "cell_type": "markdown",
   "metadata": {},
   "source": [
    "## $B^{\\mu \\nu }$ coefficients in terms of master integrals "
   ]
  },
  {
   "cell_type": "code",
   "execution_count": 4,
   "metadata": {},
   "outputs": [
    {
     "data": {
      "image/png": "[encoded data removed]",
      "text/latex": [
       "$\\displaystyle \\left[\\begin{matrix}D & m_{a}^{2}\\\\m_{a}^{2} & m_{a}^{4}\\end{matrix}\\right]$"
      ],
      "text/plain": [
       "⎡       2⎤\n",
       "⎢ D   mₐ ⎥\n",
       "⎢        ⎥\n",
       "⎢  2    4⎥\n",
       "⎣mₐ   mₐ ⎦"
      ]
     },
     "execution_count": 4,
     "metadata": {},
     "output_type": "execute_result"
    }
   ],
   "source": [
    "D = symbols('D', positive=True)\n",
    "G2B = Matrix(\n",
    "    [\n",
    "        [D, ma**2],\n",
    "        [ma**2, ma**4]\n",
    "    ]\n",
    ")\n",
    "G2B"
   ]
  },
  {
   "cell_type": "code",
   "execution_count": 7,
   "metadata": {},
   "outputs": [
    {
     "data": {
      "image/png": "[encoded data removed]",
      "text/latex": [
       "$\\displaystyle m_{a}^{4} \\left(D - 1\\right)$"
      ],
      "text/plain": [
       "  4        \n",
       "mₐ ⋅(D - 1)"
      ]
     },
     "execution_count": 7,
     "metadata": {},
     "output_type": "execute_result"
    }
   ],
   "source": [
    "G2B.det().simplify()"
   ]
  },
  {
   "cell_type": "code",
   "execution_count": 10,
   "metadata": {},
   "outputs": [
    {
     "data": {
      "image/png": "[encoded data removed]",
      "text/latex": [
       "$\\displaystyle \\left[\\begin{matrix}\\frac{1}{D - 1} & - \\frac{1}{m_{a}^{2} \\left(D - 1\\right)}\\\\- \\frac{1}{m_{a}^{2} \\left(D - 1\\right)} & \\frac{D}{m_{a}^{4} \\left(D - 1\\right)}\\end{matrix}\\right]$"
      ],
      "text/plain": [
       "⎡     1           -1     ⎤\n",
       "⎢   ─────     ───────────⎥\n",
       "⎢   D - 1       2        ⎥\n",
       "⎢             mₐ ⋅(D - 1)⎥\n",
       "⎢                        ⎥\n",
       "⎢    -1            D     ⎥\n",
       "⎢───────────  ───────────⎥\n",
       "⎢  2            4        ⎥\n",
       "⎣mₐ ⋅(D - 1)  mₐ ⋅(D - 1)⎦"
      ]
     },
     "execution_count": 10,
     "metadata": {},
     "output_type": "execute_result"
    }
   ],
   "source": [
    "G2Binv = simplify(G2B.inv())\n",
    "G2Binv"
   ]
  },
  {
   "cell_type": "code",
   "execution_count": 11,
   "metadata": {},
   "outputs": [
    {
     "data": {
      "image/png": "[encoded data removed]",
      "text/latex": [
       "$\\displaystyle \\left( {{A_0^{(0)}}}, \\  {{A_0^{(1)}}}, \\  {{A_0^{(2)}}}, \\  B_{00}, \\  B_{11}, \\  {{B_0^{(1)}}}, \\  {{B_0^{(2)}}}\\right)$"
      ],
      "text/plain": [
       "({{A_0__{(0)}}}, {{A_0__{(1)}}}, {{A_0__{(2)}}}, B₀₀, B₁₁, {{B_0__{(1)}}}, {{B\n",
       "_0__{(2)}}})"
      ]
     },
     "execution_count": 11,
     "metadata": {},
     "output_type": "execute_result"
    }
   ],
   "source": [
    "A00, A01, A02, B00, B11, B01, B02 = symbols('{{A_0^{(0)}}}, {{A_0^{(1)}}}, {{A_0^{(2)}}}, B00, B11, {{B_0^{(1)}}}, {{B_0^{(2)}}}')\n",
    "A00, A01, A02, B00, B11, B01, B02"
   ]
  },
  {
   "cell_type": "code",
   "execution_count": 29,
   "metadata": {},
   "outputs": [
    {
     "data": {
      "image/png": "[encoded data removed]",
      "text/latex": [
       "$\\displaystyle \\left[\\begin{matrix}M_{0}^{2} + {{A_0^{(1)}}}\\\\\\frac{q_{a1}^{2} {{B_0^{(1)}}}}{4} - \\frac{q_{a1} {{A_0^{(0)}}}}{4} + \\frac{{{A_0^{(1)}}} \\left(2 m_{a}^{2} + q_{a1}\\right)}{4}\\end{matrix}\\right]$"
      ],
      "text/plain": [
       "⎡                                2                                            \n",
       "⎢                              M₀  + {{A_0__{(1)}}}                           \n",
       "⎢                                                                             \n",
       "⎢      2                                                         ⎛    2       \n",
       "⎢q_{a1} ⋅{{B_0__{(1)}}}   q_{a1}⋅{{A_0__{(0)}}}   {{A_0__{(1)}}}⋅⎝2⋅mₐ  + q_{a\n",
       "⎢────────────────────── - ───────────────────── + ────────────────────────────\n",
       "⎣          4                        4                            4            \n",
       "\n",
       "   ⎤\n",
       "   ⎥\n",
       "   ⎥\n",
       "  ⎞⎥\n",
       "1}⎠⎥\n",
       "───⎥\n",
       "   ⎦"
      ]
     },
     "execution_count": 29,
     "metadata": {},
     "output_type": "execute_result"
    }
   ],
   "source": [
    "# qa1 = ma**2 - M1**2 + M0**2\n",
    "# qb2 = mb**2 - M2**2 + M0**2\n",
    "qa1, qb2 = symbols('q_{a1}, q_{b2}', real=True)\n",
    "\n",
    "B_scalars = Matrix(\n",
    "    [\n",
    "        [A01 + M0**2],\n",
    "        [(qa1**2*B01 + (qa1 + 2*ma**2)*A01 - qa1*A00)/4]\n",
    "    ]\n",
    ")\n",
    "B_scalars"
   ]
  },
  {
   "cell_type": "code",
   "execution_count": 30,
   "metadata": {},
   "outputs": [
    {
     "data": {
      "image/png": "[encoded data removed]",
      "text/latex": [
       "$\\displaystyle \\left[\\begin{matrix}\\frac{4 m_{a}^{2} \\left(M_{0}^{2} + {{A_0^{(1)}}}\\right) - q_{a1}^{2} {{B_0^{(1)}}} + q_{a1} {{A_0^{(0)}}} - {{A_0^{(1)}}} \\left(2 m_{a}^{2} + q_{a1}\\right)}{4 m_{a}^{2} \\left(D - 1\\right)}\\\\\\frac{D \\left(q_{a1}^{2} {{B_0^{(1)}}} - q_{a1} {{A_0^{(0)}}} + {{A_0^{(1)}}} \\left(2 m_{a}^{2} + q_{a1}\\right)\\right) - 4 m_{a}^{2} \\left(M_{0}^{2} + {{A_0^{(1)}}}\\right)}{4 m_{a}^{4} \\left(D - 1\\right)}\\end{matrix}\\right]$"
      ],
      "text/plain": [
       "⎡      2 ⎛  2                 ⎞         2                                     \n",
       "⎢  4⋅mₐ ⋅⎝M₀  + {{A_0__{(1)}}}⎠ - q_{a1} ⋅{{B_0__{(1)}}} + q_{a1}⋅{{A_0__{(0)}\n",
       "⎢  ───────────────────────────────────────────────────────────────────────────\n",
       "⎢                                                       2                     \n",
       "⎢                                                   4⋅mₐ ⋅(D - 1)             \n",
       "⎢                                                                             \n",
       "⎢  ⎛      2                                                         ⎛    2    \n",
       "⎢D⋅⎝q_{a1} ⋅{{B_0__{(1)}}} - q_{a1}⋅{{A_0__{(0)}}} + {{A_0__{(1)}}}⋅⎝2⋅mₐ  + q\n",
       "⎢─────────────────────────────────────────────────────────────────────────────\n",
       "⎢                                                       4                     \n",
       "⎣                                                   4⋅mₐ ⋅(D - 1)             \n",
       "\n",
       "                    ⎛    2         ⎞  ⎤\n",
       "}} - {{A_0__{(1)}}}⋅⎝2⋅mₐ  + q_{a1}⎠  ⎥\n",
       "────────────────────────────────────  ⎥\n",
       "                                      ⎥\n",
       "                                      ⎥\n",
       "                                      ⎥\n",
       "     ⎞⎞       2 ⎛  2                 ⎞⎥\n",
       "_{a1}⎠⎠ - 4⋅mₐ ⋅⎝M₀  + {{A_0__{(1)}}}⎠⎥\n",
       "──────────────────────────────────────⎥\n",
       "                                      ⎥\n",
       "                                      ⎦"
      ]
     },
     "execution_count": 30,
     "metadata": {},
     "output_type": "execute_result"
    }
   ],
   "source": [
    "Bii_scalar = simplify(G2Binv*B_scalars)\n",
    "Bii_scalar"
   ]
  },
  {
   "cell_type": "code",
   "execution_count": 33,
   "metadata": {},
   "outputs": [],
   "source": [
    "B00_scalar = Bii_scalar[0]\n",
    "B11_scalar = Bii_scalar[1]\n"
   ]
  },
  {
   "cell_type": "code",
   "execution_count": 32,
   "metadata": {},
   "outputs": [
    {
     "data": {
      "image/png": "[encoded data removed]",
      "text/latex": [
       "$\\displaystyle \\frac{4 m_{a}^{2} \\left(M_{0}^{2} + {{A_0^{(1)}}}\\right) - q_{a1}^{2} {{B_0^{(1)}}} + q_{a1} {{A_0^{(0)}}} - {{A_0^{(1)}}} \\left(2 m_{a}^{2} + q_{a1}\\right)}{4 m_{a}^{2} \\left(D - 1\\right)}$"
      ],
      "text/plain": [
       "    2 ⎛  2                 ⎞         2                                        \n",
       "4⋅mₐ ⋅⎝M₀  + {{A_0__{(1)}}}⎠ - q_{a1} ⋅{{B_0__{(1)}}} + q_{a1}⋅{{A_0__{(0)}}} \n",
       "──────────────────────────────────────────────────────────────────────────────\n",
       "                                                     2                        \n",
       "                                                 4⋅mₐ ⋅(D - 1)                \n",
       "\n",
       "                 ⎛    2         ⎞\n",
       "- {{A_0__{(1)}}}⋅⎝2⋅mₐ  + q_{a1}⎠\n",
       "─────────────────────────────────\n",
       "                                 \n",
       "                                 "
      ]
     },
     "execution_count": 32,
     "metadata": {},
     "output_type": "execute_result"
    }
   ],
   "source": [
    "B00_scalar.simplify()"
   ]
  },
  {
   "cell_type": "code",
   "execution_count": 34,
   "metadata": {},
   "outputs": [],
   "source": [
    "MIB = [A00, A01, B01]\n",
    "B00_scalar_dict = B00_scalar.expand().collect(MIB, simplify, evaluate=False)\n",
    "B11_scalar_dict = B11_scalar.expand().collect(MIB, simplify, evaluate=False)"
   ]
  },
  {
   "cell_type": "code",
   "execution_count": 35,
   "metadata": {},
   "outputs": [
    {
     "data": {
      "image/png": "[encoded data removed]",
      "text/latex": [
       "$\\displaystyle \\left\\{ 1 : \\frac{M_{0}^{2}}{D - 1}, \\  {{A_0^{(0)}}} : \\frac{q_{a1}}{4 m_{a}^{2} \\left(D - 1\\right)}, \\  {{A_0^{(1)}}} : \\frac{2 m_{a}^{2} - q_{a1}}{4 m_{a}^{2} \\left(D - 1\\right)}, \\  {{B_0^{(1)}}} : - \\frac{q_{a1}^{2}}{4 m_{a}^{2} \\left(D - 1\\right)}\\right\\}$"
      ],
      "text/plain": [
       "⎧      2                                                      2               \n",
       "⎪    M₀                        q_{a1}                     2⋅mₐ  - q_{a1}      \n",
       "⎨1: ─────, {{A_0__{(0)}}}: ─────────────, {{A_0__{(1)}}}: ──────────────, {{B_\n",
       "⎪   D - 1                      2                              2               \n",
       "⎩                          4⋅mₐ ⋅(D - 1)                  4⋅mₐ ⋅(D - 1)       \n",
       "\n",
       "                     2   ⎫\n",
       "              -q_{a1}    ⎪\n",
       "0__{(1)}}}: ─────────────⎬\n",
       "                2        ⎪\n",
       "            4⋅mₐ ⋅(D - 1)⎭"
      ]
     },
     "execution_count": 35,
     "metadata": {},
     "output_type": "execute_result"
    }
   ],
   "source": [
    "B00_scalar_dict"
   ]
  },
  {
   "cell_type": "code",
   "execution_count": 36,
   "metadata": {},
   "outputs": [
    {
     "data": {
      "image/png": "[encoded data removed]",
      "text/latex": [
       "$\\displaystyle \\left\\{ 1 : - \\frac{M_{0}^{2}}{m_{a}^{2} \\left(D - 1\\right)}, \\  {{A_0^{(0)}}} : - \\frac{D q_{a1}}{4 m_{a}^{4} \\left(D - 1\\right)}, \\  {{A_0^{(1)}}} : \\frac{\\frac{D m_{a}^{2}}{2} + \\frac{D q_{a1}}{4} - m_{a}^{2}}{m_{a}^{4} \\left(D - 1\\right)}, \\  {{B_0^{(1)}}} : \\frac{D q_{a1}^{2}}{4 m_{a}^{4} \\left(D - 1\\right)}\\right\\}$"
      ],
      "text/plain": [
       "⎧                                                                   2         \n",
       "⎪                                                               D⋅mₐ    D⋅q_{a\n",
       "⎪         2                                                     ───── + ──────\n",
       "⎨      -M₀                         -D⋅q_{a1}                      2        4  \n",
       "⎪1: ───────────, {{A_0__{(0)}}}: ─────────────, {{A_0__{(1)}}}: ──────────────\n",
       "⎪     2                              4                                 4      \n",
       "⎩   mₐ ⋅(D - 1)                  4⋅mₐ ⋅(D - 1)                       mₐ ⋅(D - \n",
       "\n",
       "                                       ⎫\n",
       "1}     2                               ⎪\n",
       "── - mₐ                             2  ⎪\n",
       "                            D⋅q_{a1}   ⎬\n",
       "────────, {{B_0__{(1)}}}: ─────────────⎪\n",
       "                              4        ⎪\n",
       "1)                        4⋅mₐ ⋅(D - 1)⎭"
      ]
     },
     "execution_count": 36,
     "metadata": {},
     "output_type": "execute_result"
    }
   ],
   "source": [
    "B11_scalar_dict"
   ]
  },
  {
   "cell_type": "markdown",
   "metadata": {},
   "source": [
    "## $C^\\mu$ in terms of master integrals"
   ]
  },
  {
   "cell_type": "code",
   "execution_count": 53,
   "metadata": {},
   "outputs": [
    {
     "data": {
      "image/png": "[encoded data removed]",
      "text/latex": [
       "$\\displaystyle \\left[\\begin{matrix}m_{a}^{2} & p_{12}\\\\p_{12} & m_{b}^{2}\\end{matrix}\\right]$"
      ],
      "text/plain": [
       "⎡   2          ⎤\n",
       "⎢ mₐ     p_{12}⎥\n",
       "⎢              ⎥\n",
       "⎢            2 ⎥\n",
       "⎣p_{12}   m_b  ⎦"
      ]
     },
     "execution_count": 53,
     "metadata": {},
     "output_type": "execute_result"
    }
   ],
   "source": [
    "G2C = Matrix(\n",
    "    [\n",
    "        [ma**2, p1_p2],\n",
    "        [p1_p2, mb**2]\n",
    "    ]\n",
    ")\n",
    "G2C"
   ]
  },
  {
   "cell_type": "code",
   "execution_count": 54,
   "metadata": {},
   "outputs": [
    {
     "data": {
      "image/png": "[encoded data removed]",
      "text/latex": [
       "$\\displaystyle m_{a}^{2} + m_{b}^{2}$"
      ],
      "text/plain": [
       "  2      2\n",
       "mₐ  + m_b "
      ]
     },
     "execution_count": 54,
     "metadata": {},
     "output_type": "execute_result"
    }
   ],
   "source": [
    "G2C.trace()"
   ]
  },
  {
   "cell_type": "code",
   "execution_count": 55,
   "metadata": {},
   "outputs": [
    {
     "data": {
      "image/png": "[encoded data removed]",
      "text/latex": [
       "$\\displaystyle m_{a}^{2} m_{b}^{2} - p_{12}^{2}$"
      ],
      "text/plain": [
       "  2    2         2\n",
       "mₐ ⋅m_b  - p_{12} "
      ]
     },
     "execution_count": 55,
     "metadata": {},
     "output_type": "execute_result"
    }
   ],
   "source": [
    "G2C.det()"
   ]
  },
  {
   "cell_type": "code",
   "execution_count": 56,
   "metadata": {},
   "outputs": [],
   "source": [
    "G2Cinv = G2C.inv()"
   ]
  },
  {
   "cell_type": "code",
   "execution_count": 57,
   "metadata": {},
   "outputs": [
    {
     "data": {
      "image/png": "[encoded data removed]",
      "text/latex": [
       "$\\displaystyle \\left[\\begin{matrix}\\frac{m_{b}^{2}}{m_{a}^{2} m_{b}^{2} - p_{12}^{2}} & - \\frac{p_{12}}{m_{a}^{2} m_{b}^{2} - p_{12}^{2}}\\\\- \\frac{p_{12}}{m_{a}^{2} m_{b}^{2} - p_{12}^{2}} & \\frac{m_{a}^{2}}{m_{a}^{2} m_{b}^{2} - p_{12}^{2}}\\end{matrix}\\right]$"
      ],
      "text/plain": [
       "⎡          2                           ⎤\n",
       "⎢       m_b               -p_{12}      ⎥\n",
       "⎢──────────────────  ──────────────────⎥\n",
       "⎢  2    2         2    2    2         2⎥\n",
       "⎢mₐ ⋅m_b  - p_{12}   mₐ ⋅m_b  - p_{12} ⎥\n",
       "⎢                                      ⎥\n",
       "⎢                             2        ⎥\n",
       "⎢     -p_{12}               mₐ         ⎥\n",
       "⎢──────────────────  ──────────────────⎥\n",
       "⎢  2    2         2    2    2         2⎥\n",
       "⎣mₐ ⋅m_b  - p_{12}   mₐ ⋅m_b  - p_{12} ⎦"
      ]
     },
     "execution_count": 57,
     "metadata": {},
     "output_type": "execute_result"
    }
   ],
   "source": [
    "G2Cinv"
   ]
  },
  {
   "cell_type": "code",
   "execution_count": 58,
   "metadata": {},
   "outputs": [
    {
     "data": {
      "image/png": "[encoded data removed]",
      "text/latex": [
       "$\\displaystyle \\left[\\begin{matrix}1 & 0\\\\0 & 1\\end{matrix}\\right]$"
      ],
      "text/plain": [
       "⎡1  0⎤\n",
       "⎢    ⎥\n",
       "⎣0  1⎦"
      ]
     },
     "execution_count": 58,
     "metadata": {},
     "output_type": "execute_result"
    }
   ],
   "source": [
    "simplify(G2Cinv*G2C)"
   ]
  },
  {
   "cell_type": "code",
   "execution_count": 12,
   "metadata": {},
   "outputs": [
    {
     "data": {
      "image/png": "[encoded data removed]",
      "text/latex": [
       "$\\displaystyle \\left( C_{0}, \\  C_{1}, \\  C_{2}, \\  {{B_0^{(12)}}}\\right)$"
      ],
      "text/plain": [
       "(C₀, C₁, C₂, {{B_0__{(12)}}})"
      ]
     },
     "execution_count": 12,
     "metadata": {},
     "output_type": "execute_result"
    }
   ],
   "source": [
    "C0, C1, C2, B012 = symbols('C0, C1, C2, {{B_0^{(12)}}}')\n",
    "C0, C1, C2, B012"
   ]
  },
  {
   "cell_type": "code",
   "execution_count": 60,
   "metadata": {},
   "outputs": [
    {
     "data": {
      "image/png": "[encoded data removed]",
      "text/latex": [
       "$\\displaystyle \\left[\\begin{matrix}B_{012} - B_{02} + C_{0} \\left(M_{0}^{2} - M_{1}^{2} + m_{a}^{2}\\right)\\\\B_{01} - B_{012} + C_{0} \\left(- M_{0}^{2} + M_{2}^{2} - m_{b}^{2}\\right)\\end{matrix}\\right]$"
      ],
      "text/plain": [
       "⎡                 ⎛  2     2     2⎞  ⎤\n",
       "⎢ B₀₁₂ - B₀₂ + C₀⋅⎝M₀  - M₁  + mₐ ⎠  ⎥\n",
       "⎢                                    ⎥\n",
       "⎢                ⎛    2     2      2⎞⎥\n",
       "⎣B₀₁ - B₀₁₂ + C₀⋅⎝- M₀  + M₂  - m_b ⎠⎦"
      ]
     },
     "execution_count": 60,
     "metadata": {},
     "output_type": "execute_result"
    }
   ],
   "source": [
    "a = ma**2 - M1**2 + M0**2\n",
    "b = mb**2 - M2**2 + M0**2\n",
    "\n",
    "C_scalars = Matrix(\n",
    "    [\n",
    "        [a*C0 + B012 - B02 ],\n",
    "        [-b*C0 - B012 + B01]\n",
    "    ]\n",
    ")\n",
    "C_scalars"
   ]
  },
  {
   "cell_type": "code",
   "execution_count": 61,
   "metadata": {},
   "outputs": [
    {
     "data": {
      "image/png": "[encoded data removed]",
      "text/latex": [
       "$\\displaystyle \\left[\\begin{matrix}C_{1}\\\\C_{2}\\end{matrix}\\right]$"
      ],
      "text/plain": [
       "⎡C₁⎤\n",
       "⎢  ⎥\n",
       "⎣C₂⎦"
      ]
     },
     "execution_count": 61,
     "metadata": {},
     "output_type": "execute_result"
    }
   ],
   "source": [
    "C_coeff = Matrix(\n",
    "    [\n",
    "        [C1],\n",
    "        [C2]\n",
    "    ]\n",
    ")\n",
    "C_coeff"
   ]
  },
  {
   "cell_type": "code",
   "execution_count": 62,
   "metadata": {},
   "outputs": [
    {
     "data": {
      "image/png": "[encoded data removed]",
      "text/latex": [
       "$\\displaystyle \\left[\\begin{matrix}C_{1} m_{a}^{2} + C_{2} p_{12}\\\\C_{1} p_{12} + C_{2} m_{b}^{2}\\end{matrix}\\right]$"
      ],
      "text/plain": [
       "⎡     2             ⎤\n",
       "⎢C₁⋅mₐ  + C₂⋅p_{12} ⎥\n",
       "⎢                   ⎥\n",
       "⎢                  2⎥\n",
       "⎣C₁⋅p_{12} + C₂⋅m_b ⎦"
      ]
     },
     "execution_count": 62,
     "metadata": {},
     "output_type": "execute_result"
    }
   ],
   "source": [
    "G2C*C_coeff"
   ]
  },
  {
   "cell_type": "code",
   "execution_count": 63,
   "metadata": {},
   "outputs": [
    {
     "data": {
      "image/png": "[encoded data removed]",
      "text/latex": [
       "$\\displaystyle \\left[\\begin{matrix}\\frac{m_{b}^{2} \\left(B_{012} - B_{02} + C_{0} \\left(M_{0}^{2} - M_{1}^{2} + m_{a}^{2}\\right)\\right) + p_{12} \\left(- B_{01} + B_{012} + C_{0} \\left(M_{0}^{2} - M_{2}^{2} + m_{b}^{2}\\right)\\right)}{2 \\left(m_{a}^{2} m_{b}^{2} - p_{12}^{2}\\right)}\\\\\\frac{m_{a}^{2} \\left(B_{01} - B_{012} - C_{0} \\left(M_{0}^{2} - M_{2}^{2} + m_{b}^{2}\\right)\\right) - p_{12} \\left(B_{012} - B_{02} + C_{0} \\left(M_{0}^{2} - M_{1}^{2} + m_{a}^{2}\\right)\\right)}{2 \\left(m_{a}^{2} m_{b}^{2} - p_{12}^{2}\\right)}\\end{matrix}\\right]$"
      ],
      "text/plain": [
       "⎡   2 ⎛                ⎛  2     2     2⎞⎞          ⎛                 ⎛  2     \n",
       "⎢m_b ⋅⎝B₀₁₂ - B₀₂ + C₀⋅⎝M₀  - M₁  + mₐ ⎠⎠ + p_{12}⋅⎝-B₀₁ + B₀₁₂ + C₀⋅⎝M₀  - M₂\n",
       "⎢─────────────────────────────────────────────────────────────────────────────\n",
       "⎢                                   ⎛  2    2         2⎞                      \n",
       "⎢                                 2⋅⎝mₐ ⋅m_b  - p_{12} ⎠                      \n",
       "⎢                                                                             \n",
       "⎢   2 ⎛                ⎛  2     2      2⎞⎞          ⎛                ⎛  2     \n",
       "⎢ mₐ ⋅⎝B₀₁ - B₀₁₂ - C₀⋅⎝M₀  - M₂  + m_b ⎠⎠ - p_{12}⋅⎝B₀₁₂ - B₀₂ + C₀⋅⎝M₀  - M₁\n",
       "⎢ ────────────────────────────────────────────────────────────────────────────\n",
       "⎢                                   ⎛  2    2         2⎞                      \n",
       "⎣                                 2⋅⎝mₐ ⋅m_b  - p_{12} ⎠                      \n",
       "\n",
       "2      2⎞⎞⎤\n",
       "  + m_b ⎠⎠⎥\n",
       "──────────⎥\n",
       "          ⎥\n",
       "          ⎥\n",
       "          ⎥\n",
       "2     2⎞⎞ ⎥\n",
       "  + mₐ ⎠⎠ ⎥\n",
       "───────── ⎥\n",
       "          ⎥\n",
       "          ⎦"
      ]
     },
     "execution_count": 63,
     "metadata": {},
     "output_type": "execute_result"
    }
   ],
   "source": [
    "Ci_scalar = simplify(G2Cinv*C_scalars/2)\n",
    "Ci_scalar"
   ]
  },
  {
   "cell_type": "code",
   "execution_count": 64,
   "metadata": {},
   "outputs": [],
   "source": [
    "C1_scalar = Ci_scalar[0]\n",
    "C2_scalar = Ci_scalar[1]"
   ]
  },
  {
   "cell_type": "code",
   "execution_count": 65,
   "metadata": {},
   "outputs": [
    {
     "data": {
      "image/png": "[encoded data removed]",
      "text/latex": [
       "$\\displaystyle \\frac{m_{b}^{2} \\left(B_{012} - B_{02} + C_{0} \\left(M_{0}^{2} - M_{1}^{2} + m_{a}^{2}\\right)\\right) + p_{12} \\left(- B_{01} + B_{012} + C_{0} \\left(M_{0}^{2} - M_{2}^{2} + m_{b}^{2}\\right)\\right)}{2 \\left(m_{a}^{2} m_{b}^{2} - p_{12}^{2}\\right)}$"
      ],
      "text/plain": [
       "   2 ⎛                ⎛  2     2     2⎞⎞          ⎛                 ⎛  2     2\n",
       "m_b ⋅⎝B₀₁₂ - B₀₂ + C₀⋅⎝M₀  - M₁  + mₐ ⎠⎠ + p_{12}⋅⎝-B₀₁ + B₀₁₂ + C₀⋅⎝M₀  - M₂ \n",
       "──────────────────────────────────────────────────────────────────────────────\n",
       "                                   ⎛  2    2         2⎞                       \n",
       "                                 2⋅⎝mₐ ⋅m_b  - p_{12} ⎠                       \n",
       "\n",
       "      2⎞⎞\n",
       " + m_b ⎠⎠\n",
       "─────────\n",
       "         \n",
       "         "
      ]
     },
     "execution_count": 65,
     "metadata": {},
     "output_type": "execute_result"
    }
   ],
   "source": [
    "C1_scalar"
   ]
  },
  {
   "cell_type": "code",
   "execution_count": 71,
   "metadata": {},
   "outputs": [
    {
     "data": {
      "image/png": "[encoded data removed]",
      "text/latex": [
       "$\\displaystyle \\frac{m_{a}^{2} \\left(B_{01} - B_{012} - C_{0} \\left(M_{0}^{2} - M_{2}^{2} + m_{b}^{2}\\right)\\right) - p_{12} \\left(B_{012} - B_{02} + C_{0} \\left(M_{0}^{2} - M_{1}^{2} + m_{a}^{2}\\right)\\right)}{2 \\left(m_{a}^{2} m_{b}^{2} - p_{12}^{2}\\right)}$"
      ],
      "text/plain": [
       "  2 ⎛                ⎛  2     2      2⎞⎞          ⎛                ⎛  2     2 \n",
       "mₐ ⋅⎝B₀₁ - B₀₁₂ - C₀⋅⎝M₀  - M₂  + m_b ⎠⎠ - p_{12}⋅⎝B₀₁₂ - B₀₂ + C₀⋅⎝M₀  - M₁  \n",
       "──────────────────────────────────────────────────────────────────────────────\n",
       "                                  ⎛  2    2         2⎞                        \n",
       "                                2⋅⎝mₐ ⋅m_b  - p_{12} ⎠                        \n",
       "\n",
       "    2⎞⎞\n",
       "+ mₐ ⎠⎠\n",
       "───────\n",
       "       \n",
       "       "
      ]
     },
     "execution_count": 71,
     "metadata": {},
     "output_type": "execute_result"
    }
   ],
   "source": [
    "C2_scalar"
   ]
  },
  {
   "cell_type": "code",
   "execution_count": 76,
   "metadata": {},
   "outputs": [],
   "source": [
    "MI = [C0, B01, B02, B012]\n",
    "C1_scalar_dict = C1_scalar.expand().collect(MI, simplify, evaluate=False)\n",
    "C2_scalar_dict = C2_scalar.expand().collect(MI, simplify, evaluate=False)"
   ]
  },
  {
   "cell_type": "code",
   "execution_count": 77,
   "metadata": {},
   "outputs": [
    {
     "data": {
      "image/png": "[encoded data removed]",
      "text/latex": [
       "$\\displaystyle \\left( - \\frac{p_{12}}{2 m_{a}^{2} m_{b}^{2} - 2 p_{12}^{2}}, \\  - \\frac{m_{b}^{2}}{2 m_{a}^{2} m_{b}^{2} - 2 p_{12}^{2}}, \\  \\frac{m_{b}^{2} + p_{12}}{2 \\left(m_{a}^{2} m_{b}^{2} - p_{12}^{2}\\right)}, \\  \\frac{M_{0}^{2} m_{b}^{2} + M_{0}^{2} p_{12} - M_{1}^{2} m_{b}^{2} - M_{2}^{2} p_{12} + m_{a}^{2} m_{b}^{2} + m_{b}^{2} p_{12}}{2 \\left(m_{a}^{2} m_{b}^{2} - p_{12}^{2}\\right)}\\right)$"
      ],
      "text/plain": [
       "⎛                                    2                  2                  2  \n",
       "⎜       -p_{12}                  -m_b                m_b  + p_{12}       M₀ ⋅m\n",
       "⎜──────────────────────, ──────────────────────, ──────────────────────, ─────\n",
       "⎜    2    2           2      2    2           2    ⎛  2    2         2⎞       \n",
       "⎝2⋅mₐ ⋅m_b  - 2⋅p_{12}   2⋅mₐ ⋅m_b  - 2⋅p_{12}   2⋅⎝mₐ ⋅m_b  - p_{12} ⎠       \n",
       "\n",
       "  2     2            2    2     2            2    2      2       ⎞\n",
       "_b  + M₀ ⋅p_{12} - M₁ ⋅m_b  - M₂ ⋅p_{12} + mₐ ⋅m_b  + m_b ⋅p_{12}⎟\n",
       "─────────────────────────────────────────────────────────────────⎟\n",
       "                     ⎛  2    2         2⎞                        ⎟\n",
       "                   2⋅⎝mₐ ⋅m_b  - p_{12} ⎠                        ⎠"
      ]
     },
     "execution_count": 77,
     "metadata": {},
     "output_type": "execute_result"
    }
   ],
   "source": [
    "C1_scalar_dict[B01], C1_scalar_dict[B02], C1_scalar_dict[B012], C1_scalar_dict[C0].simplify()"
   ]
  },
  {
   "cell_type": "code",
   "execution_count": 78,
   "metadata": {},
   "outputs": [
    {
     "data": {
      "image/png": "[encoded data removed]",
      "text/latex": [
       "$\\displaystyle \\left( \\frac{m_{a}^{2}}{2 \\left(m_{a}^{2} m_{b}^{2} - p_{12}^{2}\\right)}, \\  \\frac{p_{12}}{2 \\left(m_{a}^{2} m_{b}^{2} - p_{12}^{2}\\right)}, \\  \\frac{- m_{a}^{2} - p_{12}}{2 \\left(m_{a}^{2} m_{b}^{2} - p_{12}^{2}\\right)}, \\  \\frac{- M_{0}^{2} m_{a}^{2} - M_{0}^{2} p_{12} + M_{1}^{2} p_{12} + M_{2}^{2} m_{a}^{2} - m_{a}^{2} m_{b}^{2} - m_{a}^{2} p_{12}}{2 \\left(m_{a}^{2} m_{b}^{2} - p_{12}^{2}\\right)}\\right)$"
      ],
      "text/plain": [
       "⎛           2                                            2                   2\n",
       "⎜         mₐ                     p_{12}              - mₐ  - p_{12}      - M₀ \n",
       "⎜──────────────────────, ──────────────────────, ──────────────────────, ─────\n",
       "⎜  ⎛  2    2         2⎞    ⎛  2    2         2⎞    ⎛  2    2         2⎞       \n",
       "⎝2⋅⎝mₐ ⋅m_b  - p_{12} ⎠  2⋅⎝mₐ ⋅m_b  - p_{12} ⎠  2⋅⎝mₐ ⋅m_b  - p_{12} ⎠       \n",
       "\n",
       "   2     2            2            2   2     2    2     2       ⎞\n",
       "⋅mₐ  - M₀ ⋅p_{12} + M₁ ⋅p_{12} + M₂ ⋅mₐ  - mₐ ⋅m_b  - mₐ ⋅p_{12}⎟\n",
       "────────────────────────────────────────────────────────────────⎟\n",
       "                     ⎛  2    2         2⎞                       ⎟\n",
       "                   2⋅⎝mₐ ⋅m_b  - p_{12} ⎠                       ⎠"
      ]
     },
     "execution_count": 78,
     "metadata": {},
     "output_type": "execute_result"
    }
   ],
   "source": [
    "C2_scalar_dict[B01], C2_scalar_dict[B02], C2_scalar_dict[B012], C2_scalar_dict[C0].simplify()"
   ]
  },
  {
   "cell_type": "code",
   "execution_count": 68,
   "metadata": {},
   "outputs": [
    {
     "data": {
      "image/png": "[encoded data removed]",
      "text/latex": [
       "$\\displaystyle - \\frac{- B_{01} + B_{012} + C_{0} \\left(M_{0}^{2} - M_{2}^{2}\\right)}{2 p_{12}}$"
      ],
      "text/plain": [
       " ⎛                 ⎛  2     2⎞⎞ \n",
       "-⎝-B₀₁ + B₀₁₂ + C₀⋅⎝M₀  - M₂ ⎠⎠ \n",
       "────────────────────────────────\n",
       "            2⋅p_{12}            "
      ]
     },
     "execution_count": 68,
     "metadata": {},
     "output_type": "execute_result"
    }
   ],
   "source": [
    "C1_scalar.subs({ma:0,mb:0})"
   ]
  },
  {
   "cell_type": "code",
   "execution_count": 69,
   "metadata": {},
   "outputs": [
    {
     "data": {
      "image/png": "[encoded data removed]",
      "text/latex": [
       "$\\displaystyle \\frac{m_{a}^{2} \\left(B_{01} - B_{012} - C_{0} \\left(M_{0}^{2} - M_{2}^{2} + m_{b}^{2}\\right)\\right) - p_{12} \\left(B_{012} - B_{02} + C_{0} \\left(M_{0}^{2} - M_{1}^{2} + m_{a}^{2}\\right)\\right)}{2 \\left(m_{a}^{2} m_{b}^{2} - p_{12}^{2}\\right)}$"
      ],
      "text/plain": [
       "  2 ⎛                ⎛  2     2      2⎞⎞          ⎛                ⎛  2     2 \n",
       "mₐ ⋅⎝B₀₁ - B₀₁₂ - C₀⋅⎝M₀  - M₂  + m_b ⎠⎠ - p_{12}⋅⎝B₀₁₂ - B₀₂ + C₀⋅⎝M₀  - M₁  \n",
       "──────────────────────────────────────────────────────────────────────────────\n",
       "                                  ⎛  2    2         2⎞                        \n",
       "                                2⋅⎝mₐ ⋅m_b  - p_{12} ⎠                        \n",
       "\n",
       "    2⎞⎞\n",
       "+ mₐ ⎠⎠\n",
       "───────\n",
       "       \n",
       "       "
      ]
     },
     "execution_count": 69,
     "metadata": {},
     "output_type": "execute_result"
    }
   ],
   "source": [
    "C2_scalar"
   ]
  },
  {
   "cell_type": "code",
   "execution_count": 70,
   "metadata": {},
   "outputs": [
    {
     "data": {
      "image/png": "[encoded data removed]",
      "text/latex": [
       "$\\displaystyle \\frac{B_{012} - B_{02} + C_{0} \\left(M_{0}^{2} - M_{1}^{2}\\right)}{2 p_{12}}$"
      ],
      "text/plain": [
       "                ⎛  2     2⎞\n",
       "B₀₁₂ - B₀₂ + C₀⋅⎝M₀  - M₁ ⎠\n",
       "───────────────────────────\n",
       "          2⋅p_{12}         "
      ]
     },
     "execution_count": 70,
     "metadata": {},
     "output_type": "execute_result"
    }
   ],
   "source": [
    "C2_scalar.subs({ma:0,mb:0})"
   ]
  },
  {
   "cell_type": "code",
   "execution_count": null,
   "metadata": {},
   "outputs": [],
   "source": []
  }
 ],
 "metadata": {
  "kernelspec": {
   "display_name": "py37",
   "language": "python",
   "name": "python3"
  },
  "language_info": {
   "codemirror_mode": {
    "name": "ipython",
    "version": 3
   },
   "file_extension": ".py",
   "mimetype": "text/x-python",
   "name": "python",
   "nbconvert_exporter": "python",
   "pygments_lexer": "ipython3",
   "version": "3.7.12"
  }
 },
 "nbformat": 4,
 "nbformat_minor": 2
}
