{
 "cells": [
  {
   "cell_type": "code",
   "execution_count": 18,
   "metadata": {},
   "outputs": [],
   "source": [
    "from sympy import Function\n",
    "from sympy import symbols, init_printing, Expr, Basic\n",
    "init_printing()"
   ]
  },
  {
   "cell_type": "code",
   "execution_count": 2,
   "metadata": {},
   "outputs": [
    {
     "data": {
      "text/plain": [
       "C"
      ]
     },
     "execution_count": 2,
     "metadata": {},
     "output_type": "execute_result"
    }
   ],
   "source": [
    "C = Function('C')\n",
    "C"
   ]
  },
  {
   "cell_type": "code",
   "execution_count": 3,
   "metadata": {},
   "outputs": [
    {
     "data": {
      "image/png": "[encoded data removed]",
      "text/latex": [
       "$\\displaystyle C{\\left(1,2 \\right)} + C{\\left(2,4 \\right)}$"
      ],
      "text/plain": [
       "C(1, 2) + C(2, 4)"
      ]
     },
     "execution_count": 3,
     "metadata": {},
     "output_type": "execute_result"
    }
   ],
   "source": [
    "C(1,2)+C(2,4)"
   ]
  },
  {
   "cell_type": "code",
   "execution_count": 43,
   "metadata": {},
   "outputs": [],
   "source": [
    "class AssociativeFunction():\n",
    "    def __init__(self, name, *args):\n",
    "        self.name = name\n",
    "        self.args = args\n",
    "        self.associative = True\n",
    "        self.commutative = True\n",
    "        self.identity = None\n",
    "        self.inverse = None\n",
    "        self.distributive_over = None\n",
    "        self.distributive_over_inverse = None\n",
    "        self.properties = {}\n",
    "    \n",
    "    def __repr__(self) -> str:\n",
    "        return f\"{self.name}({', '.join(map(str, self.args))})\"\n",
    "    \n",
    "    def __str__(self) -> str:\n",
    "        return f\"AssociativeFunction('{self.name}', {', '.join(map(repr, self.args))})\"\n",
    "    \n",
    "    def __add__(self, other):\n",
    "        if isinstance(other, AssociativeFunction) and other.name == self.name and len(other.args) == len(self.args):\n",
    "            return AssociativeFunction(self.name, *(a + b for a, b in zip(self.args, other.args)))\n",
    "        else:\n",
    "            raise TypeError(\"Unsupported operand type for +: '{}' and '{}'\".format(type(self).__name__,type(other).__name__))\n",
    "        \n",
    "    def norm(self):\n",
    "        n = len(self.args)\n",
    "        return sum(self.args)/n\n",
    "        "
   ]
  },
  {
   "cell_type": "code",
   "execution_count": 44,
   "metadata": {},
   "outputs": [],
   "source": [
    "def C(x, y, z):\n",
    "    return AssociativeFunction('C', x, y, z)"
   ]
  },
  {
   "cell_type": "code",
   "execution_count": 42,
   "metadata": {},
   "outputs": [
    {
     "data": {
      "text/plain": [
       "D(2, 4, 6, 8, 10, 10)"
      ]
     },
     "execution_count": 42,
     "metadata": {},
     "output_type": "execute_result"
    }
   ],
   "source": [
    "AssociativeFunction('D', 1,2,3,4,5,5)+ AssociativeFunction('D', 1,2,3,4,5,5)"
   ]
  },
  {
   "cell_type": "code",
   "execution_count": 45,
   "metadata": {},
   "outputs": [
    {
     "data": {
      "image/png": "[encoded data removed]",
      "text/latex": [
       "$\\displaystyle 1.0$"
      ],
      "text/plain": [
       "1.0"
      ]
     },
     "execution_count": 45,
     "metadata": {},
     "output_type": "execute_result"
    }
   ],
   "source": [
    "AssociativeFunction('D', 1,1,1).norm()"
   ]
  },
  {
   "cell_type": "code",
   "execution_count": 29,
   "metadata": {},
   "outputs": [
    {
     "data": {
      "text/plain": [
       "C(3, 5, 7)"
      ]
     },
     "execution_count": 29,
     "metadata": {},
     "output_type": "execute_result"
    }
   ],
   "source": [
    "C(1, 2, 3) + C(2,3,4)"
   ]
  },
  {
   "cell_type": "code",
   "execution_count": 37,
   "metadata": {},
   "outputs": [],
   "source": [
    "ma, mb, mZ, M0, M1, M2 = symbols('m_a, m_b, m_Z, M_0, M_1, M_2', positive=True)"
   ]
  },
  {
   "cell_type": "code",
   "execution_count": 38,
   "metadata": {},
   "outputs": [
    {
     "data": {
      "text/plain": [
       "C(-m_b, M_1 + m_b, -m_b)"
      ]
     },
     "execution_count": 38,
     "metadata": {},
     "output_type": "execute_result"
    }
   ],
   "source": [
    "\n",
    "X = C(0, M1, 0) + C(-mb, mb, -mb)\n",
    "X"
   ]
  },
  {
   "cell_type": "code",
   "execution_count": 39,
   "metadata": {},
   "outputs": [
    {
     "data": {
      "image/png": "[encoded data removed]",
      "text/latex": [
       "$\\displaystyle \\left( - m_{b}, \\  M_{1} + m_{b}, \\  - m_{b}\\right)$"
      ],
      "text/plain": [
       "(-m_b, M₁ + m_b, -m_b)"
      ]
     },
     "execution_count": 39,
     "metadata": {},
     "output_type": "execute_result"
    }
   ],
   "source": [
    "X.args"
   ]
  },
  {
   "cell_type": "code",
   "execution_count": null,
   "metadata": {},
   "outputs": [],
   "source": []
  }
 ],
 "metadata": {
  "kernelspec": {
   "display_name": "py37",
   "language": "python",
   "name": "python3"
  },
  "language_info": {
   "codemirror_mode": {
    "name": "ipython",
    "version": 3
   },
   "file_extension": ".py",
   "mimetype": "text/x-python",
   "name": "python",
   "nbconvert_exporter": "python",
   "pygments_lexer": "ipython3",
   "version": "3.7.12"
  }
 },
 "nbformat": 4,
 "nbformat_minor": 2
}
