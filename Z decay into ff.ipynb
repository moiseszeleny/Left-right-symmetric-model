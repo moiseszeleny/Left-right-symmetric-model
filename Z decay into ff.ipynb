{
 "cells": [
  {
   "cell_type": "code",
   "execution_count": 8,
   "metadata": {
    "Collapsed": "false",
    "slideshow": {
     "slide_type": "subslide"
    }
   },
   "outputs": [],
   "source": [
    "from sympy import init_printing, symbols, sqrt, eye\n",
    "init_printing()"
   ]
  },
  {
   "cell_type": "code",
   "execution_count": 9,
   "metadata": {
    "Collapsed": "false",
    "slideshow": {
     "slide_type": "subslide"
    }
   },
   "outputs": [],
   "source": [
    "from kinematics import V3D, FV, SpinorU, SpinorV\n",
    "from sympy import sin, cos, I, pi, acos\n",
    "from sympy import Dummy\n",
    "from sympy.physics.matrices import mgamma\n"
   ]
  },
  {
   "cell_type": "markdown",
   "metadata": {},
   "source": [
    "## $Z \\to ff$"
   ]
  },
  {
   "cell_type": "markdown",
   "metadata": {},
   "source": [
    "### kinematics"
   ]
  },
  {
   "cell_type": "code",
   "execution_count": 6,
   "metadata": {},
   "outputs": [],
   "source": [
    "mZ = symbols('m_Z', positive=True)\n",
    "E = symbols(r'E', positive=True)\n",
    "th = V3D.th\n",
    "phi = V3D.phi"
   ]
  },
  {
   "cell_type": "code",
   "execution_count": 7,
   "metadata": {},
   "outputs": [],
   "source": [
    "px, py, pz = E*sin(th), 0, E*cos(th)\n",
    "p3 = V3D(px, py, pz)\n",
    "p4 = V3D(-px, py, -pz)\n"
   ]
  },
  {
   "cell_type": "code",
   "execution_count": 10,
   "metadata": {},
   "outputs": [],
   "source": [
    "pmu1 = FV(mZ, 0, 0, 0)\n",
    "pmu3 = FV(E, p3.px, p3.py, p3.pz)\n",
    "pmu4 = FV(E, p4.px, p4.py, p4.pz)"
   ]
  },
  {
   "cell_type": "code",
   "execution_count": 6,
   "metadata": {},
   "outputs": [
    {
     "data": {
      "image/png": "[encoded data removed]",
      "text/latex": [
       "$\\displaystyle \\left( \\operatorname{FV}\\left(E, E \\sin{\\left(\\theta \\right)}, 0, E \\cos{\\left(\\theta \\right)}\\right), \\  \\operatorname{FV}\\left(E, - E \\sin{\\left(\\theta \\right)}, 0, - E \\cos{\\left(\\theta \\right)}\\right)\\right)$"
      ],
      "text/plain": [
       "((E,E \\sin{\\left(\\theta \\right)},0,E \\cos{\\left(\\theta \\right)}), (E,- E \\sin{\n",
       "\\left(\\theta \\right)},0,- E \\cos{\\left(\\theta \\right)}))"
      ]
     },
     "execution_count": 6,
     "metadata": {},
     "output_type": "execute_result"
    }
   ],
   "source": [
    "pmu3, pmu4"
   ]
  },
  {
   "cell_type": "markdown",
   "metadata": {},
   "source": [
    "### Massive W at rest polarizations along the z axis"
   ]
  },
  {
   "cell_type": "code",
   "execution_count": 11,
   "metadata": {},
   "outputs": [],
   "source": [
    "eps_minus = FV(0, 1/sqrt(2), -I/sqrt(2), 0)\n",
    "eps_L = FV(0, 0, 0, 1) # Z boson at rest\n",
    "eps_plus = FV(0, -1/sqrt(2), -I/sqrt(2), 0)"
   ]
  },
  {
   "cell_type": "code",
   "execution_count": 13,
   "metadata": {},
   "outputs": [],
   "source": [
    "def polarization(type):\n",
    "    if type == 1:\n",
    "        out = eps_plus\n",
    "    elif type == -1:\n",
    "        out = eps_minus\n",
    "    elif type == 0:\n",
    "        out = eps_L\n",
    "    else:\n",
    "        raise ValueError(\"type must be 1, -1 or 0\")\n",
    "    return out"
   ]
  },
  {
   "cell_type": "code",
   "execution_count": 14,
   "metadata": {},
   "outputs": [],
   "source": [
    "mf = symbols(r'm_f', positive=True)\n",
    "u3 = lambda s3:SpinorU(pmu3, mf, s3)\n",
    "v4 = lambda s4:SpinorV(pmu4, mf, s4)\n",
    "I4x4 = eye(4)"
   ]
  },
  {
   "cell_type": "code",
   "execution_count": 16,
   "metadata": {},
   "outputs": [],
   "source": [
    "\n",
    "positive_f_plus = Dummy(positive=True)\n",
    "positive_f_minus = Dummy(positive=True)"
   ]
  },
  {
   "cell_type": "code",
   "execution_count": 20,
   "metadata": {},
   "outputs": [
    {
     "data": {
      "image/png": "[encoded data removed]",
      "text/latex": [
       "$\\displaystyle \\left[\\begin{matrix}1 & 0 & 0 & 0\\\\0 & 1 & 0 & 0\\\\0 & 0 & 1 & 0\\\\0 & 0 & 0 & 1\\end{matrix}\\right]$"
      ],
      "text/plain": [
       "⎡1  0  0  0⎤\n",
       "⎢          ⎥\n",
       "⎢0  1  0  0⎥\n",
       "⎢          ⎥\n",
       "⎢0  0  1  0⎥\n",
       "⎢          ⎥\n",
       "⎣0  0  0  1⎦"
      ]
     },
     "execution_count": 20,
     "metadata": {},
     "output_type": "execute_result"
    }
   ],
   "source": [
    "helicities = [1, -1]\n",
    "cV, cA = symbols('c_V, c_A', real=True)\n",
    "I4x4"
   ]
  },
  {
   "cell_type": "code",
   "execution_count": 23,
   "metadata": {},
   "outputs": [],
   "source": [
    "JVA = cV*I4x4 - cA*mgamma(5)"
   ]
  },
  {
   "cell_type": "code",
   "execution_count": 24,
   "metadata": {},
   "outputs": [
    {
     "data": {
      "image/png": "[encoded data removed]",
      "text/latex": [
       "$\\displaystyle 2 c_{A} m_{f}$"
      ],
      "text/plain": [
       "2⋅c_A⋅m_f"
      ]
     },
     "execution_count": 24,
     "metadata": {},
     "output_type": "execute_result"
    }
   ],
   "source": [
    "Jmu = lambda nu, s3, s4: (\n",
    "    (u3(s3).adj()*mgamma(nu, lower=True)*JVA*v4(s4).matrixform())\n",
    "    )[0].subs(acos(cos(th)), th).subs(acos(-cos(th)), th + pi).subs(\n",
    "        {\n",
    "            E + mf:positive_f_plus,\n",
    "            E - mf: positive_f_minus\n",
    "        }\n",
    "        ).subs(\n",
    "            {\n",
    "                positive_f_plus: E + mf,\n",
    "                positive_f_minus: E - mf\n",
    "            }\n",
    "        )\n",
    "Jmu(0,1,1).simplify() #I4x4 - mgamma(5)"
   ]
  },
  {
   "cell_type": "code",
   "execution_count": 25,
   "metadata": {},
   "outputs": [
    {
     "data": {
      "image/png": "[encoded data removed]",
      "text/latex": [
       "$\\displaystyle 0$"
      ],
      "text/plain": [
       "0"
      ]
     },
     "metadata": {},
     "output_type": "display_data"
    },
    {
     "data": {
      "image/png": "[encoded data removed]",
      "text/latex": [
       "$\\displaystyle 2 E \\left(c_{A} + c_{V}\\right) \\cos{\\left(\\theta \\right)}$"
      ],
      "text/plain": [
       "2⋅E⋅(c_A + c_V)⋅cos(\\theta)"
      ]
     },
     "metadata": {},
     "output_type": "display_data"
    },
    {
     "data": {
      "image/png": "[encoded data removed]",
      "text/latex": [
       "$\\displaystyle 2 i E \\left(c_{A} + c_{V}\\right)$"
      ],
      "text/plain": [
       "2⋅ⅈ⋅E⋅(c_A + c_V)"
      ]
     },
     "metadata": {},
     "output_type": "display_data"
    },
    {
     "data": {
      "image/png": "[encoded data removed]",
      "text/latex": [
       "$\\displaystyle - 2 E \\left(c_{A} + c_{V}\\right) \\sin{\\left(\\theta \\right)}$"
      ],
      "text/plain": [
       "-2⋅E⋅(c_A + c_V)⋅sin(\\theta)"
      ]
     },
     "metadata": {},
     "output_type": "display_data"
    }
   ],
   "source": [
    "for mu in range(4):\n",
    "    display(Jmu(mu,-1,1).subs(mf,0).simplify())"
   ]
  },
  {
   "cell_type": "code",
   "execution_count": 136,
   "metadata": {},
   "outputs": [],
   "source": [
    "gZ = symbols('g_Z', positive=True)\n",
    "def M_polarization(pol_type, J):\n",
    "    eps = polarization(pol_type).matrixform()\n",
    "    factor = gZ/2\n",
    "    J0 = eps[0]*(\n",
    "        J(0,1,1) - \n",
    "        J(0, -1, -1) - \n",
    "        J(0, 1, -1) - \n",
    "        J(0, -1, 1)\n",
    "        )\n",
    "    J1 = eps[1]*(\n",
    "        J(1,1,1) - \n",
    "        J(1, -1, -1) - \n",
    "        J(1, 1, -1) - \n",
    "        J(1, -1, 1)\n",
    "        )\n",
    "    J2 = eps[2]*(\n",
    "        J(2,1,1) - \n",
    "        J(2, -1, -1) - \n",
    "        J(2, 1, -1) - \n",
    "        J(2, -1, 1)\n",
    "        )\n",
    "    J3 = eps[3]*(\n",
    "        J(3,1,1) - \n",
    "        J(3, -1, -1) - \n",
    "        J(3, 1, -1) - \n",
    "        J(3, -1, 1)\n",
    "        )\n",
    "    return factor*(J0 + J1 + J2 + J3)"
   ]
  },
  {
   "cell_type": "code",
   "execution_count": 137,
   "metadata": {},
   "outputs": [],
   "source": [
    "high_energy_limit = {\n",
    "                    mf:0\n",
    "                }"
   ]
  },
  {
   "cell_type": "code",
   "execution_count": 138,
   "metadata": {},
   "outputs": [],
   "source": [
    "M_plus = M_polarization(1,Jmu).subs(E, mZ/2).simplify()\n",
    "M_L = M_polarization(0,Jmu).subs(E, mZ/2).simplify()\n",
    "M_minus = M_polarization(-1,Jmu).subs(E, mZ/2).simplify()"
   ]
  },
  {
   "cell_type": "code",
   "execution_count": 139,
   "metadata": {},
   "outputs": [
    {
     "data": {
      "image/png": "[encoded data removed]",
      "text/latex": [
       "$\\displaystyle \\frac{g_{Z}^{2} \\left(c_{A} \\sqrt{m_{Z}^{2} - 4 m_{f}^{2}} + 2 c_{V} m_{Z} \\cos^{2}{\\left(\\frac{\\theta}{2} \\right)} - c_{V} m_{Z} - 2 c_{V} m_{f} \\sin{\\left(\\theta \\right)}\\right)^{2}}{2}$"
      ],
      "text/plain": [
       "                                                                              \n",
       "     ⎛       _______________                                                  \n",
       "   2 ⎜      ╱    2        2                 2⎛\\theta⎞                         \n",
       "g_Z ⋅⎜c_A⋅╲╱  m_Z  - 4⋅m_f   + 2⋅c_V⋅m_Z⋅cos ⎜──────⎟ - c_V⋅m_Z - 2⋅c_V⋅m_f⋅si\n",
       "     ⎝                                       ⎝  2   ⎠                         \n",
       "──────────────────────────────────────────────────────────────────────────────\n",
       "                                            2                                 \n",
       "\n",
       "          2\n",
       "         ⎞ \n",
       "         ⎟ \n",
       "n(\\theta)⎟ \n",
       "         ⎠ \n",
       "───────────\n",
       "           "
      ]
     },
     "execution_count": 139,
     "metadata": {},
     "output_type": "execute_result"
    }
   ],
   "source": [
    "M_minus_square = M_minus.factor()**2\n",
    "M_minus_square"
   ]
  },
  {
   "cell_type": "code",
   "execution_count": 140,
   "metadata": {},
   "outputs": [
    {
     "data": {
      "image/png": "[encoded data removed]",
      "text/latex": [
       "$\\displaystyle c_{V}^{2} g_{Z}^{2} \\left(m_{Z} \\sin{\\left(\\theta \\right)} - 4 m_{f} \\sin^{2}{\\left(\\frac{\\theta}{2} \\right)} + 2 m_{f}\\right)^{2}$"
      ],
      "text/plain": [
       "                                                        2\n",
       "   2    2 ⎛                           2⎛\\theta⎞        ⎞ \n",
       "c_V ⋅g_Z ⋅⎜m_Z⋅sin(\\theta) - 4⋅m_f⋅sin ⎜──────⎟ + 2⋅m_f⎟ \n",
       "          ⎝                            ⎝  2   ⎠        ⎠ "
      ]
     },
     "execution_count": 140,
     "metadata": {},
     "output_type": "execute_result"
    }
   ],
   "source": [
    "M_L_square = M_L.factor()**2\n",
    "M_L_square\n"
   ]
  },
  {
   "cell_type": "code",
   "execution_count": 141,
   "metadata": {},
   "outputs": [
    {
     "data": {
      "image/png": "[encoded data removed]",
      "text/latex": [
       "$\\displaystyle \\frac{g_{Z}^{2} \\left(c_{A} \\sqrt{m_{Z}^{2} - 4 m_{f}^{2}} + 2 c_{V} m_{Z} \\sin^{2}{\\left(\\frac{\\theta}{2} \\right)} - c_{V} m_{Z} + 2 c_{V} m_{f} \\sin{\\left(\\theta \\right)}\\right)^{2}}{2}$"
      ],
      "text/plain": [
       "                                                                              \n",
       "     ⎛       _______________                                                  \n",
       "   2 ⎜      ╱    2        2                 2⎛\\theta⎞                         \n",
       "g_Z ⋅⎜c_A⋅╲╱  m_Z  - 4⋅m_f   + 2⋅c_V⋅m_Z⋅sin ⎜──────⎟ - c_V⋅m_Z + 2⋅c_V⋅m_f⋅si\n",
       "     ⎝                                       ⎝  2   ⎠                         \n",
       "──────────────────────────────────────────────────────────────────────────────\n",
       "                                            2                                 \n",
       "\n",
       "          2\n",
       "         ⎞ \n",
       "         ⎟ \n",
       "n(\\theta)⎟ \n",
       "         ⎠ \n",
       "───────────\n",
       "           "
      ]
     },
     "execution_count": 141,
     "metadata": {},
     "output_type": "execute_result"
    }
   ],
   "source": [
    "M_plus_square = M_plus.factor()**2\n",
    "M_plus_square"
   ]
  },
  {
   "cell_type": "code",
   "execution_count": 142,
   "metadata": {},
   "outputs": [],
   "source": [
    "from sympy import integrate"
   ]
  },
  {
   "cell_type": "code",
   "execution_count": 143,
   "metadata": {},
   "outputs": [],
   "source": [
    "Ga_minus = integrate(\n",
    "    M_minus_square.subs(E, mZ/2)*sin(th), (th, 0, pi), (phi, 0, 2*pi))\n",
    "Ga_L = integrate(\n",
    "    M_L_square.subs(E, mZ/2)*sin(th), (th, 0, pi), (phi, 0, 2*pi))\n",
    "Ga_plus = integrate(\n",
    "    M_plus_square.subs(E, mZ/2)*sin(th), (th, 0, pi), (phi, 0, 2*pi))"
   ]
  },
  {
   "cell_type": "code",
   "execution_count": 144,
   "metadata": {},
   "outputs": [
    {
     "data": {
      "image/png": "[encoded data removed]",
      "text/latex": [
       "$\\displaystyle \\left( 2 \\pi \\left(- \\frac{g_{Z}^{2} \\left(- c_{A}^{2} m_{Z}^{2} + 4 c_{A}^{2} m_{f}^{2} + 2 c_{A} c_{V} m_{Z} \\sqrt{m_{Z}^{2} - 4 m_{f}^{2}} - 4 c_{V}^{2} m_{Z}^{2} - \\frac{8 c_{V}^{2} m_{f}^{2}}{3}\\right)}{2} + \\frac{g_{Z}^{2} \\left(c_{A}^{2} m_{Z}^{2} - 4 c_{A}^{2} m_{f}^{2} + 2 c_{A} c_{V} m_{Z} \\sqrt{m_{Z}^{2} - 4 m_{f}^{2}} - 2 \\pi c_{A} c_{V} m_{f} \\sqrt{m_{Z}^{2} - 4 m_{f}^{2}} - \\frac{10 c_{V}^{2} m_{Z}^{2}}{3} + \\frac{8 c_{V}^{2} m_{f}^{2}}{3}\\right)}{2}\\right), \\  2 \\pi \\left(- c_{V}^{2} g_{Z}^{2} \\left(- \\frac{2 m_{Z}^{2}}{3} - 8 m_{f}^{2}\\right) + c_{V}^{2} g_{Z}^{2} \\cdot \\left(\\frac{2 m_{Z}^{2}}{3} - \\frac{16 m_{f}^{2}}{3}\\right)\\right), \\  2 \\pi \\left(- \\frac{g_{Z}^{2} \\left(- c_{A}^{2} m_{Z}^{2} + 4 c_{A}^{2} m_{f}^{2} + 2 c_{A} c_{V} m_{Z} \\sqrt{m_{Z}^{2} - 4 m_{f}^{2}} - 2 c_{V}^{2} m_{Z}^{2} - \\frac{8 c_{V}^{2} m_{f}^{2}}{3}\\right)}{2} + \\frac{g_{Z}^{2} \\left(c_{A}^{2} m_{Z}^{2} - 4 c_{A}^{2} m_{f}^{2} + 2 c_{A} c_{V} m_{Z} \\sqrt{m_{Z}^{2} - 4 m_{f}^{2}} + 2 \\pi c_{A} c_{V} m_{f} \\sqrt{m_{Z}^{2} - 4 m_{f}^{2}} - \\frac{4 c_{V}^{2} m_{Z}^{2}}{3} + \\frac{8 c_{V}^{2} m_{f}^{2}}{3}\\right)}{2}\\right)\\right)$"
      ],
      "text/plain": [
       "⎛    ⎛       ⎛                                             _______________    \n",
       "⎜    ⎜     2 ⎜     2    2        2    2                   ╱    2        2     \n",
       "⎜    ⎜  g_Z ⋅⎜- c_A ⋅m_Z  + 4⋅c_A ⋅m_f  + 2⋅c_A⋅c_V⋅m_Z⋅╲╱  m_Z  - 4⋅m_f   - 4\n",
       "⎜    ⎜       ⎝                                                                \n",
       "⎜2⋅π⋅⎜- ──────────────────────────────────────────────────────────────────────\n",
       "⎝    ⎝                                                 2                      \n",
       "\n",
       "                  2    2⎞        ⎛                                           _\n",
       "    2    2   8⋅c_V ⋅m_f ⎟      2 ⎜   2    2        2    2                   ╱ \n",
       "⋅c_V ⋅m_Z  - ───────────⎟   g_Z ⋅⎜c_A ⋅m_Z  - 4⋅c_A ⋅m_f  + 2⋅c_A⋅c_V⋅m_Z⋅╲╱  \n",
       "                  3     ⎠        ⎝                                            \n",
       "───────────────────────── + ──────────────────────────────────────────────────\n",
       "                                                                              \n",
       "\n",
       "______________                      _______________         2    2        2   \n",
       "   2        2                      ╱    2        2    10⋅c_V ⋅m_Z    8⋅c_V ⋅m_\n",
       "m_Z  - 4⋅m_f   - 2⋅π⋅c_A⋅c_V⋅m_f⋅╲╱  m_Z  - 4⋅m_f   - ──────────── + ─────────\n",
       "                                                           3              3   \n",
       "──────────────────────────────────────────────────────────────────────────────\n",
       "               2                                                              \n",
       "\n",
       " 2⎞⎞                                                                          \n",
       "f ⎟⎟                                                                          \n",
       "──⎟⎟      ⎛            ⎛       2         ⎞             ⎛     2         2⎞⎞    \n",
       "  ⎠⎟      ⎜     2    2 ⎜  2⋅m_Z         2⎟      2    2 ⎜2⋅m_Z    16⋅m_f ⎟⎟    \n",
       "───⎟, 2⋅π⋅⎜- c_V ⋅g_Z ⋅⎜- ────── - 8⋅m_f ⎟ + c_V ⋅g_Z ⋅⎜────── - ───────⎟⎟, 2⋅\n",
       "   ⎠      ⎝            ⎝    3            ⎠             ⎝  3         3   ⎠⎠    \n",
       "\n",
       "  ⎛       ⎛                                             _______________       \n",
       "  ⎜     2 ⎜     2    2        2    2                   ╱    2        2        \n",
       "  ⎜  g_Z ⋅⎜- c_A ⋅m_Z  + 4⋅c_A ⋅m_f  + 2⋅c_A⋅c_V⋅m_Z⋅╲╱  m_Z  - 4⋅m_f   - 2⋅c_\n",
       "  ⎜       ⎝                                                                   \n",
       "π⋅⎜- ─────────────────────────────────────────────────────────────────────────\n",
       "  ⎝                                                 2                         \n",
       "\n",
       "               2    2⎞        ⎛                                           ____\n",
       " 2    2   8⋅c_V ⋅m_f ⎟      2 ⎜   2    2        2    2                   ╱    \n",
       "V ⋅m_Z  - ───────────⎟   g_Z ⋅⎜c_A ⋅m_Z  - 4⋅c_A ⋅m_f  + 2⋅c_A⋅c_V⋅m_Z⋅╲╱  m_Z\n",
       "               3     ⎠        ⎝                                               \n",
       "────────────────────── + ─────────────────────────────────────────────────────\n",
       "                                                                              \n",
       "\n",
       "___________                      _______________        2    2        2    2⎞⎞\n",
       "2        2                      ╱    2        2    4⋅c_V ⋅m_Z    8⋅c_V ⋅m_f ⎟⎟\n",
       "  - 4⋅m_f   + 2⋅π⋅c_A⋅c_V⋅m_f⋅╲╱  m_Z  - 4⋅m_f   - ─────────── + ───────────⎟⎟\n",
       "                                                        3             3     ⎠⎟\n",
       "─────────────────────────────────────────────────────────────────────────────⎟\n",
       "           2                                                                 ⎠\n",
       "\n",
       "⎞\n",
       "⎟\n",
       "⎟\n",
       "⎟\n",
       "⎟\n",
       "⎠"
      ]
     },
     "execution_count": 144,
     "metadata": {},
     "output_type": "execute_result"
    }
   ],
   "source": [
    "Ga_minus, Ga_L, Ga_plus"
   ]
  },
  {
   "cell_type": "code",
   "execution_count": 145,
   "metadata": {},
   "outputs": [
    {
     "data": {
      "image/png": "[encoded data removed]",
      "text/latex": [
       "$\\displaystyle \\frac{g_{Z}^{2} \\cdot \\left(2 c_{V}^{2} \\left(m_{Z} \\sin{\\left(\\theta \\right)} - 4 m_{f} \\sin^{2}{\\left(\\frac{\\theta}{2} \\right)} + 2 m_{f}\\right)^{2} + \\left(c_{A} \\sqrt{m_{Z}^{2} - 4 m_{f}^{2}} - 2 c_{V} m_{Z} \\sin^{2}{\\left(\\frac{\\theta}{2} \\right)} + c_{V} m_{Z} - 2 c_{V} m_{f} \\sin{\\left(\\theta \\right)}\\right)^{2} + \\left(c_{A} \\sqrt{m_{Z}^{2} - 4 m_{f}^{2}} - 2 c_{V} m_{Z} \\cos^{2}{\\left(\\frac{\\theta}{2} \\right)} + c_{V} m_{Z} + 2 c_{V} m_{f} \\sin{\\left(\\theta \\right)}\\right)^{2}\\right)}{6}$"
      ],
      "text/plain": [
       "     ⎛                                                                        \n",
       "     ⎜                                                     2   ⎛       _______\n",
       "   2 ⎜     2 ⎛                           2⎛\\theta⎞        ⎞    ⎜      ╱    2  \n",
       "g_Z ⋅⎜2⋅c_V ⋅⎜m_Z⋅sin(\\theta) - 4⋅m_f⋅sin ⎜──────⎟ + 2⋅m_f⎟  + ⎜c_A⋅╲╱  m_Z  -\n",
       "     ⎝       ⎝                            ⎝  2   ⎠        ⎠    ⎝              \n",
       "──────────────────────────────────────────────────────────────────────────────\n",
       "                                                                              \n",
       "\n",
       "                                                                    2         \n",
       "________                                                           ⎞    ⎛     \n",
       "      2                 2⎛\\theta⎞                                  ⎟    ⎜     \n",
       " 4⋅m_f   - 2⋅c_V⋅m_Z⋅sin ⎜──────⎟ + c_V⋅m_Z - 2⋅c_V⋅m_f⋅sin(\\theta)⎟  + ⎜c_A⋅╲\n",
       "                         ⎝  2   ⎠                                  ⎠    ⎝     \n",
       "──────────────────────────────────────────────────────────────────────────────\n",
       "                                       6                                      \n",
       "\n",
       "                                                                             2\n",
       "  _______________                                                           ⎞ \n",
       " ╱    2        2                 2⎛\\theta⎞                                  ⎟ \n",
       "╱  m_Z  - 4⋅m_f   - 2⋅c_V⋅m_Z⋅cos ⎜──────⎟ + c_V⋅m_Z + 2⋅c_V⋅m_f⋅sin(\\theta)⎟ \n",
       "                                  ⎝  2   ⎠                                  ⎠ \n",
       "──────────────────────────────────────────────────────────────────────────────\n",
       "                                                                              \n",
       "\n",
       "⎞\n",
       "⎟\n",
       "⎟\n",
       "⎟\n",
       "⎠\n",
       "─\n",
       " "
      ]
     },
     "execution_count": 145,
     "metadata": {},
     "output_type": "execute_result"
    }
   ],
   "source": [
    "M_ave = ((M_L_square + M_plus_square + M_minus_square)/3).simplify()\n",
    "M_ave"
   ]
  },
  {
   "cell_type": "code",
   "execution_count": 146,
   "metadata": {},
   "outputs": [],
   "source": [
    "cL, cR = symbols('c_L, c_R', positive=True)\n",
    "subs_cVA = {\n",
    "    cV:cL + cR,\n",
    "    cA:cL - cR\n",
    "}"
   ]
  },
  {
   "cell_type": "code",
   "execution_count": 147,
   "metadata": {},
   "outputs": [
    {
     "data": {
      "image/png": "[encoded data removed]",
      "text/latex": [
       "$\\displaystyle \\frac{g_{Z}^{2} m_{Z}^{2} \\left(\\left(c_{L} + c_{R}\\right)^{2} \\sin^{2}{\\left(\\theta \\right)} + 2 \\left(c_{L} - \\left(c_{L} + c_{R}\\right) \\sin^{2}{\\left(\\frac{\\theta}{2} \\right)}\\right)^{2} + 2 \\left(c_{L} - \\left(c_{L} + c_{R}\\right) \\cos^{2}{\\left(\\frac{\\theta}{2} \\right)}\\right)^{2}\\right)}{3}$"
      ],
      "text/plain": [
       "          ⎛                                                              2    \n",
       "   2    2 ⎜           2    2             ⎛                     2⎛\\theta⎞⎞     \n",
       "g_Z ⋅m_Z ⋅⎜(c_L + c_R) ⋅sin (\\theta) + 2⋅⎜c_L - (c_L + c_R)⋅sin ⎜──────⎟⎟  + 2\n",
       "          ⎝                              ⎝                      ⎝  2   ⎠⎠     \n",
       "──────────────────────────────────────────────────────────────────────────────\n",
       "                                                        3                     \n",
       "\n",
       "                                 2⎞\n",
       " ⎛                     2⎛\\theta⎞⎞ ⎟\n",
       "⋅⎜c_L - (c_L + c_R)⋅cos ⎜──────⎟⎟ ⎟\n",
       " ⎝                      ⎝  2   ⎠⎠ ⎠\n",
       "───────────────────────────────────\n",
       "                                   "
      ]
     },
     "execution_count": 147,
     "metadata": {},
     "output_type": "execute_result"
    }
   ],
   "source": [
    "M_ave.subs(mf,0).subs(subs_cVA).simplify()"
   ]
  },
  {
   "cell_type": "code",
   "execution_count": 148,
   "metadata": {},
   "outputs": [],
   "source": [
    "mZ_val = 91.1876 # GeV\n",
    "me_val = 0.000511 # GeV\n",
    "mmu_val = 0.105 #GeV\n",
    "mtau_val = 1.777 # GeV"
   ]
  },
  {
   "cell_type": "code",
   "execution_count": 149,
   "metadata": {},
   "outputs": [
    {
     "data": {
      "image/png": "[encoded data removed]",
      "text/latex": [
       "$\\displaystyle \\frac{g_{Z}^{2} \\cdot \\left(16630.35678752 c_{V}^{2} \\left(- 2.2415328399914 \\cdot 10^{-5} \\sin^{2}{\\left(\\frac{\\theta}{2} \\right)} + \\sin{\\left(\\theta \\right)} + 1.1207664199957 \\cdot 10^{-5}\\right)^{2} + 33260.71357504 \\left(0.499999999968597 c_{A} - c_{V} \\sin^{2}{\\left(\\frac{\\theta}{2} \\right)} - 5.6038320999785 \\cdot 10^{-6} c_{V} \\sin{\\left(\\theta \\right)} + 0.5 c_{V}\\right)^{2} + 33260.71357504 \\left(0.499999999968597 c_{A} + 5.6038320999785 \\cdot 10^{-6} c_{V} \\sin{\\left(\\theta \\right)} - c_{V} \\cos^{2}{\\left(\\frac{\\theta}{2} \\right)} + 0.5 c_{V}\\right)^{2}\\right)}{6}$"
      ],
      "text/plain": [
       "     ⎛                                                                        \n",
       "   2 ⎜                  2 ⎛                        2⎛\\theta⎞                  \n",
       "g_Z ⋅⎜16630.35678752⋅c_V ⋅⎜- 2.2415328399914e-5⋅sin ⎜──────⎟ + sin(\\theta) + 1\n",
       "     ⎝                    ⎝                         ⎝  2   ⎠                  \n",
       "──────────────────────────────────────────────────────────────────────────────\n",
       "                                                                              \n",
       "\n",
       "                  2                                                           \n",
       "                 ⎞                   ⎛                               2⎛\\theta⎞\n",
       ".1207664199957e-5⎟  + 33260.71357504⋅⎜0.499999999968597⋅c_A - c_V⋅sin ⎜──────⎟\n",
       "                 ⎠                   ⎝                                ⎝  2   ⎠\n",
       "──────────────────────────────────────────────────────────────────────────────\n",
       "                                                                              \n",
       "\n",
       "                                                2                             \n",
       "                                               ⎞                   ⎛          \n",
       " - 5.6038320999785e-6⋅c_V⋅sin(\\theta) + 0.5⋅c_V⎟  + 33260.71357504⋅⎜0.49999999\n",
       "                                               ⎠                   ⎝          \n",
       "──────────────────────────────────────────────────────────────────────────────\n",
       "6                                                                             \n",
       "\n",
       "                                                                              \n",
       "                                                          2⎛\\theta⎞          ⎞\n",
       "9968597⋅c_A + 5.6038320999785e-6⋅c_V⋅sin(\\theta) - c_V⋅cos ⎜──────⎟ + 0.5⋅c_V⎟\n",
       "                                                           ⎝  2   ⎠          ⎠\n",
       "──────────────────────────────────────────────────────────────────────────────\n",
       "                                                                              \n",
       "\n",
       "2⎞\n",
       " ⎟\n",
       " ⎟\n",
       " ⎠\n",
       "──\n",
       "  "
      ]
     },
     "execution_count": 149,
     "metadata": {},
     "output_type": "execute_result"
    }
   ],
   "source": [
    "M_ave.subs(\n",
    "    {mZ:mZ_val, mf:me_val}\n",
    ")"
   ]
  },
  {
   "cell_type": "code",
   "execution_count": 150,
   "metadata": {},
   "outputs": [],
   "source": [
    "width_Wlnu = integrate(\n",
    "    (M_ave*mZ/2)/(32*pi**2*mZ**2)*sin(th), (th, 0, pi), (phi, 0, 2*pi)\n",
    ")"
   ]
  },
  {
   "cell_type": "code",
   "execution_count": 151,
   "metadata": {},
   "outputs": [
    {
     "data": {
      "image/png": "[encoded data removed]",
      "text/latex": [
       "$\\displaystyle \\frac{g_{Z}^{2} m_{Z} \\left(c_{A}^{2} + c_{V}^{2}\\right)}{48 \\pi}$"
      ],
      "text/plain": [
       "   2     ⎛   2      2⎞\n",
       "g_Z ⋅m_Z⋅⎝c_A  + c_V ⎠\n",
       "──────────────────────\n",
       "         48⋅π         "
      ]
     },
     "execution_count": 151,
     "metadata": {},
     "output_type": "execute_result"
    }
   ],
   "source": [
    "width_Wlnu.subs(high_energy_limit).simplify()"
   ]
  },
  {
   "cell_type": "code",
   "execution_count": null,
   "metadata": {},
   "outputs": [],
   "source": []
  },
  {
   "cell_type": "code",
   "execution_count": null,
   "metadata": {},
   "outputs": [],
   "source": []
  }
 ],
 "metadata": {
  "celltoolbar": "Slideshow",
  "kernelspec": {
   "display_name": "Python 3",
   "language": "python",
   "name": "python3"
  },
  "language_info": {
   "codemirror_mode": {
    "name": "ipython",
    "version": 3
   },
   "file_extension": ".py",
   "mimetype": "text/x-python",
   "name": "python",
   "nbconvert_exporter": "python",
   "pygments_lexer": "ipython3",
   "version": "3.7.12"
  },
  "latex_envs": {
   "LaTeX_envs_menu_present": true,
   "autoclose": false,
   "autocomplete": true,
   "bibliofile": "biblio.bib",
   "cite_by": "apalike",
   "current_citInitial": 1,
   "eqLabelWithNumbers": true,
   "eqNumInitial": 1,
   "hotkeys": {
    "equation": "Ctrl-E",
    "itemize": "Ctrl-I"
   },
   "labels_anchors": false,
   "latex_user_defs": false,
   "report_style_numbering": false,
   "user_envs_cfg": false
  },
  "toc": {
   "base_numbering": 1,
   "nav_menu": {},
   "number_sections": true,
   "sideBar": true,
   "skip_h1_title": false,
   "title_cell": "Table of Contents",
   "title_sidebar": "Contents",
   "toc_cell": false,
   "toc_position": {},
   "toc_section_display": true,
   "toc_window_display": false
  }
 },
 "nbformat": 4,
 "nbformat_minor": 4
}
