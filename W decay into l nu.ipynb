{
 "cells": [
  {
   "cell_type": "code",
   "execution_count": 1,
   "metadata": {
    "Collapsed": "false",
    "slideshow": {
     "slide_type": "subslide"
    }
   },
   "outputs": [],
   "source": [
    "from sympy import init_printing, symbols, sqrt, Add, eye, simplify\n",
    "init_printing()"
   ]
  },
  {
   "cell_type": "code",
   "execution_count": 2,
   "metadata": {
    "Collapsed": "false",
    "slideshow": {
     "slide_type": "subslide"
    }
   },
   "outputs": [],
   "source": [
    "from kinematics import V3D, FV, SpinorU, SpinorV\n",
    "from sympy import sin, cos, I, pi, acos\n",
    "from sympy import Dummy\n",
    "from sympy.physics.matrices import mgamma\n"
   ]
  },
  {
   "cell_type": "markdown",
   "metadata": {},
   "source": [
    "## W decay into leptons"
   ]
  },
  {
   "cell_type": "markdown",
   "metadata": {},
   "source": [
    "### kinematics"
   ]
  },
  {
   "cell_type": "code",
   "execution_count": 3,
   "metadata": {},
   "outputs": [],
   "source": [
    "mW = symbols('m_W', positive=True)\n",
    "E = symbols(r'E', positive=True)\n",
    "th = V3D.th\n",
    "phi = V3D.phi"
   ]
  },
  {
   "cell_type": "code",
   "execution_count": 4,
   "metadata": {},
   "outputs": [],
   "source": [
    "px, py, pz = E*sin(th), 0, E*cos(th)\n",
    "p3 = V3D(px, py, pz)\n",
    "p4 = V3D(-px, py, -pz)\n"
   ]
  },
  {
   "cell_type": "code",
   "execution_count": 5,
   "metadata": {},
   "outputs": [],
   "source": [
    "pmu1 = FV(mW, 0, 0, 0)\n",
    "pmu3 = FV(E, p3.px, p3.py, p3.pz)\n",
    "pmu4 = FV(E, p4.px, p4.py, p4.pz)"
   ]
  },
  {
   "cell_type": "code",
   "execution_count": 6,
   "metadata": {},
   "outputs": [
    {
     "data": {
      "image/png": "[encoded data removed]",
      "text/latex": [
       "$\\displaystyle \\left( \\operatorname{FV}\\left(E, E \\sin{\\left(\\theta \\right)}, 0, E \\cos{\\left(\\theta \\right)}\\right), \\  \\operatorname{FV}\\left(E, - E \\sin{\\left(\\theta \\right)}, 0, - E \\cos{\\left(\\theta \\right)}\\right)\\right)$"
      ],
      "text/plain": [
       "((E,E \\sin{\\left(\\theta \\right)},0,E \\cos{\\left(\\theta \\right)}), (E,- E \\sin{\n",
       "\\left(\\theta \\right)},0,- E \\cos{\\left(\\theta \\right)}))"
      ]
     },
     "execution_count": 6,
     "metadata": {},
     "output_type": "execute_result"
    }
   ],
   "source": [
    "pmu3, pmu4"
   ]
  },
  {
   "cell_type": "markdown",
   "metadata": {},
   "source": [
    "### Massive W at rest polarizations along the z axis"
   ]
  },
  {
   "cell_type": "code",
   "execution_count": 7,
   "metadata": {},
   "outputs": [],
   "source": [
    "eps_minus = FV(0, 1/sqrt(2), -I/sqrt(2), 0)\n",
    "eps_L = FV(0, 0, 0, 1) # W boson at rest\n",
    "eps_plus = FV(0, -1/sqrt(2), -I/sqrt(2), 0)"
   ]
  },
  {
   "cell_type": "code",
   "execution_count": 8,
   "metadata": {},
   "outputs": [],
   "source": [
    "def polarization(type):\n",
    "    if type == 1:\n",
    "        out = eps_plus\n",
    "    elif type == -1:\n",
    "        out = eps_minus\n",
    "    elif type == 0:\n",
    "        out = eps_L\n",
    "    else:\n",
    "        raise ValueError(\"type must be 1, -1 or 0\")\n",
    "    return out"
   ]
  },
  {
   "cell_type": "code",
   "execution_count": 9,
   "metadata": {},
   "outputs": [],
   "source": [
    "ml, mnu = symbols(r'm_\\ell, m_\\nu', positive=True)\n",
    "u3 = lambda s3:SpinorU(pmu3, ml, s3)\n",
    "v4 = lambda s4:SpinorV(pmu4, mnu, s4)\n",
    "I4x4 = eye(4)"
   ]
  },
  {
   "cell_type": "code",
   "execution_count": 10,
   "metadata": {},
   "outputs": [],
   "source": [
    "\n",
    "positive_l_plus = Dummy(positive=True)\n",
    "positive_l_minus = Dummy(positive=True)\n",
    "\n",
    "positive_nu_plus = Dummy(positive=True)\n",
    "positive_nu_minus = Dummy(positive=True)"
   ]
  },
  {
   "cell_type": "code",
   "execution_count": 22,
   "metadata": {},
   "outputs": [],
   "source": [
    "helicities = [1, -1]"
   ]
  },
  {
   "cell_type": "code",
   "execution_count": 11,
   "metadata": {},
   "outputs": [
    {
     "data": {
      "image/png": "[encoded data removed]",
      "text/latex": [
       "$\\displaystyle - \\sqrt{E - m_{\\ell}} \\sqrt{E + m_{\\nu}} + \\sqrt{E + m_{\\ell}} \\sqrt{E - m_{\\nu}}$"
      ],
      "text/plain": [
       "    ____________   ___________     ____________   ___________\n",
       "- ╲╱ E - m_\\ell ⋅╲╱ E + m_\\nu  + ╲╱ E + m_\\ell ⋅╲╱ E - m_\\nu "
      ]
     },
     "execution_count": 11,
     "metadata": {},
     "output_type": "execute_result"
    }
   ],
   "source": [
    "Jmu = lambda nu, s3, s4: (\n",
    "    (u3(s3).adj()*mgamma(nu, lower=True)*v4(s4).matrixform())\n",
    "    )[0].subs(acos(cos(th)), th).subs(acos(-cos(th)), th + pi).subs(\n",
    "        {\n",
    "            E + ml:positive_l_plus,\n",
    "            E - ml: positive_l_minus\n",
    "        }\n",
    "        ).subs(\n",
    "            {\n",
    "                positive_l_plus: E + ml,\n",
    "                positive_l_minus: E - ml\n",
    "            }\n",
    "        )\n",
    "Jmu(0,1,1).simplify() #I4x4 - mgamma(5)"
   ]
  },
  {
   "cell_type": "code",
   "execution_count": 12,
   "metadata": {},
   "outputs": [
    {
     "data": {
      "image/png": "[encoded data removed]",
      "text/latex": [
       "$\\displaystyle 0$"
      ],
      "text/plain": [
       "0"
      ]
     },
     "metadata": {},
     "output_type": "display_data"
    },
    {
     "data": {
      "image/png": "[encoded data removed]",
      "text/latex": [
       "$\\displaystyle 2 E \\cos{\\left(\\theta \\right)}$"
      ],
      "text/plain": [
       "2⋅E⋅cos(\\theta)"
      ]
     },
     "metadata": {},
     "output_type": "display_data"
    },
    {
     "data": {
      "image/png": "[encoded data removed]",
      "text/latex": [
       "$\\displaystyle 2 i E$"
      ],
      "text/plain": [
       "2⋅ⅈ⋅E"
      ]
     },
     "metadata": {},
     "output_type": "display_data"
    },
    {
     "data": {
      "image/png": "[encoded data removed]",
      "text/latex": [
       "$\\displaystyle - 2 E \\sin{\\left(\\theta \\right)}$"
      ],
      "text/plain": [
       "-2⋅E⋅sin(\\theta)"
      ]
     },
     "metadata": {},
     "output_type": "display_data"
    }
   ],
   "source": [
    "for mu in range(4):\n",
    "    display(Jmu(mu,-1,1).subs(ml,0).subs(mnu,0).simplify())"
   ]
  },
  {
   "cell_type": "code",
   "execution_count": 13,
   "metadata": {},
   "outputs": [],
   "source": [
    "gW = symbols('g_W', positive=True)\n",
    "def M_polarization(pol_type, J):\n",
    "    eps = polarization(pol_type).matrixform()\n",
    "    factor = gW/sqrt(2)\n",
    "    J0 = eps[0]*Jmu(0,-1,1)#.subs(ml,0).subs(mnu,0)\n",
    "    J1 = eps[1]*Jmu(1,-1,1)#.subs(ml,0).subs(mnu,0)\n",
    "    J2 = eps[2]*Jmu(2,-1,1)#.subs(ml,0).subs(mnu,0)\n",
    "    J3 = eps[3]*Jmu(3,-1,1)#.subs(ml,0).subs(mnu,0)\n",
    "    return factor*(J0 + J1 + J2 + J3)"
   ]
  },
  {
   "cell_type": "code",
   "execution_count": 14,
   "metadata": {},
   "outputs": [],
   "source": [
    "high_energy_limit = {\n",
    "                    ml:0, mnu:0\n",
    "                }"
   ]
  },
  {
   "cell_type": "code",
   "execution_count": 15,
   "metadata": {},
   "outputs": [],
   "source": [
    "M_plus = M_polarization(1,Jmu).subs(E, mW/2).simplify()\n",
    "M_L = M_polarization(0,Jmu).subs(E, mW/2).simplify()\n",
    "M_minus = M_polarization(-1,Jmu).subs(E, mW/2).simplify()"
   ]
  },
  {
   "cell_type": "code",
   "execution_count": 17,
   "metadata": {},
   "outputs": [
    {
     "data": {
      "image/png": "[encoded data removed]",
      "text/latex": [
       "$\\displaystyle \\frac{g_{W}^{2} \\left(\\sqrt{m_{W} - 2 m_{\\ell}} \\sqrt{m_{W} - 2 m_{\\nu}} + \\sqrt{m_{W} + 2 m_{\\ell}} \\sqrt{m_{W} + 2 m_{\\nu}}\\right)^{2} \\cos^{4}{\\left(\\frac{\\theta}{2} \\right)}}{4}$"
      ],
      "text/plain": [
       "                                                                              \n",
       "   2 ⎛  ________________   _______________     ________________   ____________\n",
       "g_W ⋅⎝╲╱ m_W - 2⋅m_\\ell ⋅╲╱ m_W - 2⋅m_\\nu  + ╲╱ m_W + 2⋅m_\\ell ⋅╲╱ m_W + 2⋅m_\\\n",
       "                                                                              \n",
       "──────────────────────────────────────────────────────────────────────────────\n",
       "                                               4                              \n",
       "\n",
       "    2             \n",
       "___⎞     4⎛\\theta⎞\n",
       "nu ⎠ ⋅cos ⎜──────⎟\n",
       "          ⎝  2   ⎠\n",
       "──────────────────\n",
       "                  "
      ]
     },
     "execution_count": 17,
     "metadata": {},
     "output_type": "execute_result"
    }
   ],
   "source": [
    "M_minus_square = M_minus.factor()**2\n",
    "M_minus_square"
   ]
  },
  {
   "cell_type": "code",
   "execution_count": 18,
   "metadata": {},
   "outputs": [
    {
     "data": {
      "image/png": "[encoded data removed]",
      "text/latex": [
       "$\\displaystyle \\frac{g_{W}^{2} \\left(\\sqrt{m_{W} - 2 m_{\\ell}} \\sqrt{m_{W} - 2 m_{\\nu}} + \\sqrt{m_{W} + 2 m_{\\ell}} \\sqrt{m_{W} + 2 m_{\\nu}}\\right)^{2} \\sin^{2}{\\left(\\theta \\right)}}{8}$"
      ],
      "text/plain": [
       "                                                                              \n",
       "   2 ⎛  ________________   _______________     ________________   ____________\n",
       "g_W ⋅⎝╲╱ m_W - 2⋅m_\\ell ⋅╲╱ m_W - 2⋅m_\\nu  + ╲╱ m_W + 2⋅m_\\ell ⋅╲╱ m_W + 2⋅m_\\\n",
       "──────────────────────────────────────────────────────────────────────────────\n",
       "                                               8                              \n",
       "\n",
       "    2             \n",
       "___⎞     2        \n",
       "nu ⎠ ⋅sin (\\theta)\n",
       "──────────────────\n",
       "                  "
      ]
     },
     "execution_count": 18,
     "metadata": {},
     "output_type": "execute_result"
    }
   ],
   "source": [
    "M_L_square = M_L.factor()**2\n",
    "M_L_square\n"
   ]
  },
  {
   "cell_type": "code",
   "execution_count": 19,
   "metadata": {},
   "outputs": [
    {
     "data": {
      "image/png": "[encoded data removed]",
      "text/latex": [
       "$\\displaystyle \\frac{g_{W}^{2} \\left(\\sqrt{m_{W} - 2 m_{\\ell}} \\sqrt{m_{W} - 2 m_{\\nu}} + \\sqrt{m_{W} + 2 m_{\\ell}} \\sqrt{m_{W} + 2 m_{\\nu}}\\right)^{2} \\sin^{4}{\\left(\\frac{\\theta}{2} \\right)}}{4}$"
      ],
      "text/plain": [
       "                                                                              \n",
       "   2 ⎛  ________________   _______________     ________________   ____________\n",
       "g_W ⋅⎝╲╱ m_W - 2⋅m_\\ell ⋅╲╱ m_W - 2⋅m_\\nu  + ╲╱ m_W + 2⋅m_\\ell ⋅╲╱ m_W + 2⋅m_\\\n",
       "                                                                              \n",
       "──────────────────────────────────────────────────────────────────────────────\n",
       "                                               4                              \n",
       "\n",
       "    2             \n",
       "___⎞     4⎛\\theta⎞\n",
       "nu ⎠ ⋅sin ⎜──────⎟\n",
       "          ⎝  2   ⎠\n",
       "──────────────────\n",
       "                  "
      ]
     },
     "execution_count": 19,
     "metadata": {},
     "output_type": "execute_result"
    }
   ],
   "source": [
    "M_plus_square = M_plus.factor()**2\n",
    "M_plus_square"
   ]
  },
  {
   "cell_type": "code",
   "execution_count": 20,
   "metadata": {},
   "outputs": [],
   "source": [
    "from sympy import integrate"
   ]
  },
  {
   "cell_type": "code",
   "execution_count": 21,
   "metadata": {},
   "outputs": [],
   "source": [
    "Ga_minus = integrate(\n",
    "    M_minus_square.subs(E, mW/2)*sin(th), (th, 0, pi), (phi, 0, 2*pi))\n",
    "Ga_L = integrate(\n",
    "    M_L_square.subs(E, mW/2)*sin(th), (th, 0, pi), (phi, 0, 2*pi))\n",
    "Ga_plus = integrate(\n",
    "    M_plus_square.subs(E, mW/2)*sin(th), (th, 0, pi), (phi, 0, 2*pi))"
   ]
  },
  {
   "cell_type": "code",
   "execution_count": 22,
   "metadata": {},
   "outputs": [
    {
     "data": {
      "image/png": "[encoded data removed]",
      "text/latex": [
       "$\\displaystyle \\left( \\frac{\\pi g_{W}^{2} \\left(\\sqrt{m_{W} - 2 m_{\\ell}} \\sqrt{m_{W} - 2 m_{\\nu}} + \\sqrt{m_{W} + 2 m_{\\ell}} \\sqrt{m_{W} + 2 m_{\\nu}}\\right)^{2}}{3}, \\  \\frac{\\pi g_{W}^{2} \\left(\\sqrt{m_{W} - 2 m_{\\ell}} \\sqrt{m_{W} - 2 m_{\\nu}} + \\sqrt{m_{W} + 2 m_{\\ell}} \\sqrt{m_{W} + 2 m_{\\nu}}\\right)^{2}}{3}, \\  \\frac{\\pi g_{W}^{2} \\left(\\sqrt{m_{W} - 2 m_{\\ell}} \\sqrt{m_{W} - 2 m_{\\nu}} + \\sqrt{m_{W} + 2 m_{\\ell}} \\sqrt{m_{W} + 2 m_{\\nu}}\\right)^{2}}{3}\\right)$"
      ],
      "text/plain": [
       "⎛                                                                             \n",
       "⎜     2 ⎛  ________________   _______________     ________________   _________\n",
       "⎜π⋅g_W ⋅⎝╲╱ m_W - 2⋅m_\\ell ⋅╲╱ m_W - 2⋅m_\\nu  + ╲╱ m_W + 2⋅m_\\ell ⋅╲╱ m_W + 2⋅\n",
       "⎜─────────────────────────────────────────────────────────────────────────────\n",
       "⎝                                          3                                  \n",
       "\n",
       "       2                                                                      \n",
       "______⎞        2 ⎛  ________________   _______________     ________________   \n",
       "m_\\nu ⎠   π⋅g_W ⋅⎝╲╱ m_W - 2⋅m_\\ell ⋅╲╱ m_W - 2⋅m_\\nu  + ╲╱ m_W + 2⋅m_\\ell ⋅╲╱\n",
       "────────, ────────────────────────────────────────────────────────────────────\n",
       "                                                    3                         \n",
       "\n",
       "                2                                                             \n",
       "_______________⎞        2 ⎛  ________________   _______________     __________\n",
       " m_W + 2⋅m_\\nu ⎠   π⋅g_W ⋅⎝╲╱ m_W - 2⋅m_\\ell ⋅╲╱ m_W - 2⋅m_\\nu  + ╲╱ m_W + 2⋅m\n",
       "─────────────────, ───────────────────────────────────────────────────────────\n",
       "                                                             3                \n",
       "\n",
       "                         2⎞\n",
       "______   _______________⎞ ⎟\n",
       "_\\ell ⋅╲╱ m_W + 2⋅m_\\nu ⎠ ⎟\n",
       "──────────────────────────⎟\n",
       "                          ⎠"
      ]
     },
     "execution_count": 22,
     "metadata": {},
     "output_type": "execute_result"
    }
   ],
   "source": [
    "Ga_minus, Ga_L, Ga_plus"
   ]
  },
  {
   "cell_type": "code",
   "execution_count": 23,
   "metadata": {},
   "outputs": [
    {
     "data": {
      "image/png": "[encoded data removed]",
      "text/latex": [
       "$\\displaystyle \\left( \\frac{g_{W}^{2} \\left(\\sqrt{m_{W} - 2 m_{\\ell}} \\sqrt{m_{W} - 2 m_{\\nu}} + \\sqrt{m_{W} + 2 m_{\\ell}} \\sqrt{m_{W} + 2 m_{\\nu}}\\right)^{2} \\cos^{4}{\\left(\\frac{\\theta}{2} \\right)}}{4}, \\  \\frac{g_{W}^{2} \\left(\\sqrt{m_{W} - 2 m_{\\ell}} \\sqrt{m_{W} - 2 m_{\\nu}} + \\sqrt{m_{W} + 2 m_{\\ell}} \\sqrt{m_{W} + 2 m_{\\nu}}\\right)^{2} \\sin^{2}{\\left(\\theta \\right)}}{8}, \\  \\frac{g_{W}^{2} \\left(\\sqrt{m_{W} - 2 m_{\\ell}} \\sqrt{m_{W} - 2 m_{\\nu}} + \\sqrt{m_{W} + 2 m_{\\ell}} \\sqrt{m_{W} + 2 m_{\\nu}}\\right)^{2} \\sin^{4}{\\left(\\frac{\\theta}{2} \\right)}}{4}\\right)$"
      ],
      "text/plain": [
       "⎛                                                                             \n",
       "⎜   2 ⎛  ________________   _______________     ________________   ___________\n",
       "⎜g_W ⋅⎝╲╱ m_W - 2⋅m_\\ell ⋅╲╱ m_W - 2⋅m_\\nu  + ╲╱ m_W + 2⋅m_\\ell ⋅╲╱ m_W + 2⋅m_\n",
       "⎜                                                                             \n",
       "⎜─────────────────────────────────────────────────────────────────────────────\n",
       "⎝                                               4                             \n",
       "\n",
       "     2                                                                        \n",
       "____⎞     4⎛\\theta⎞                                                           \n",
       "\\nu ⎠ ⋅cos ⎜──────⎟     2 ⎛  ________________   _______________     __________\n",
       "           ⎝  2   ⎠  g_W ⋅⎝╲╱ m_W - 2⋅m_\\ell ⋅╲╱ m_W - 2⋅m_\\nu  + ╲╱ m_W + 2⋅m\n",
       "───────────────────, ─────────────────────────────────────────────────────────\n",
       "                                                                    8         \n",
       "\n",
       "                                                                              \n",
       "                         2                  2 ⎛  ________________   __________\n",
       "______   _______________⎞     2          g_W ⋅⎝╲╱ m_W - 2⋅m_\\ell ⋅╲╱ m_W - 2⋅m\n",
       "_\\ell ⋅╲╱ m_W + 2⋅m_\\nu ⎠ ⋅sin (\\theta)                                       \n",
       "───────────────────────────────────────, ─────────────────────────────────────\n",
       "                                                                              \n",
       "\n",
       "                                             2             ⎞\n",
       "_____     ________________   _______________⎞     4⎛\\theta⎞⎟\n",
       "_\\nu  + ╲╱ m_W + 2⋅m_\\ell ⋅╲╱ m_W + 2⋅m_\\nu ⎠ ⋅sin ⎜──────⎟⎟\n",
       "                                                   ⎝  2   ⎠⎟\n",
       "───────────────────────────────────────────────────────────⎟\n",
       "          4                                                ⎠"
      ]
     },
     "execution_count": 23,
     "metadata": {},
     "output_type": "execute_result"
    }
   ],
   "source": [
    "M_minus_square, M_L_square, M_plus_square"
   ]
  },
  {
   "cell_type": "code",
   "execution_count": 24,
   "metadata": {},
   "outputs": [
    {
     "data": {
      "image/png": "[encoded data removed]",
      "text/latex": [
       "$\\displaystyle \\frac{g_{W}^{2} \\left(\\sqrt{m_{W} - 2 m_{\\ell}} \\sqrt{m_{W} - 2 m_{\\nu}} + \\sqrt{m_{W} + 2 m_{\\ell}} \\sqrt{m_{W} + 2 m_{\\nu}}\\right)^{2}}{12}$"
      ],
      "text/plain": [
       "                                                                              \n",
       "   2 ⎛  ________________   _______________     ________________   ____________\n",
       "g_W ⋅⎝╲╱ m_W - 2⋅m_\\ell ⋅╲╱ m_W - 2⋅m_\\nu  + ╲╱ m_W + 2⋅m_\\ell ⋅╲╱ m_W + 2⋅m_\\\n",
       "──────────────────────────────────────────────────────────────────────────────\n",
       "                                         12                                   \n",
       "\n",
       "    2\n",
       "___⎞ \n",
       "nu ⎠ \n",
       "─────\n",
       "     "
      ]
     },
     "execution_count": 24,
     "metadata": {},
     "output_type": "execute_result"
    }
   ],
   "source": [
    "M_ave = ((M_L_square + M_plus_square + M_minus_square)/3).simplify()\n",
    "M_ave"
   ]
  },
  {
   "cell_type": "code",
   "execution_count": 25,
   "metadata": {},
   "outputs": [
    {
     "data": {
      "image/png": "[encoded data removed]",
      "text/latex": [
       "$\\displaystyle \\frac{g_{W}^{2} m_{W}^{2}}{3}$"
      ],
      "text/plain": [
       "   2    2\n",
       "g_W ⋅m_W \n",
       "─────────\n",
       "    3    "
      ]
     },
     "execution_count": 25,
     "metadata": {},
     "output_type": "execute_result"
    }
   ],
   "source": [
    "M_ave.subs(high_energy_limit)"
   ]
  },
  {
   "cell_type": "code",
   "execution_count": 26,
   "metadata": {},
   "outputs": [],
   "source": [
    "mW_val = 80.377 # GeV\n",
    "me_val = 0.000511 # GeV\n",
    "mmu_val = 0.105 #GeV\n",
    "mtau_val = 1.777 # GeV"
   ]
  },
  {
   "cell_type": "code",
   "execution_count": 27,
   "metadata": {},
   "outputs": [
    {
     "data": {
      "image/png": "[encoded data removed]",
      "text/latex": [
       "$\\displaystyle 2153.48737624629 g_{W}^{2}$"
      ],
      "text/plain": [
       "                    2\n",
       "2153.48737624629⋅g_W "
      ]
     },
     "execution_count": 27,
     "metadata": {},
     "output_type": "execute_result"
    }
   ],
   "source": [
    "M_ave.subs(mnu, 0).subs(\n",
    "    {mW:mW_val, ml:me_val}\n",
    ")"
   ]
  },
  {
   "cell_type": "code",
   "execution_count": 28,
   "metadata": {},
   "outputs": [
    {
     "data": {
      "image/png": "[encoded data removed]",
      "text/latex": [
       "$\\displaystyle 2153.48370132706 g_{W}^{2}$"
      ],
      "text/plain": [
       "                    2\n",
       "2153.48370132706⋅g_W "
      ]
     },
     "execution_count": 28,
     "metadata": {},
     "output_type": "execute_result"
    }
   ],
   "source": [
    "M_ave.subs(mnu, 0).subs(\n",
    "    {mW:mW_val, ml:mmu_val}\n",
    ")"
   ]
  },
  {
   "cell_type": "code",
   "execution_count": 29,
   "metadata": {},
   "outputs": [
    {
     "data": {
      "image/png": "[encoded data removed]",
      "text/latex": [
       "$\\displaystyle 2152.43428502075 g_{W}^{2}$"
      ],
      "text/plain": [
       "                    2\n",
       "2152.43428502075⋅g_W "
      ]
     },
     "execution_count": 29,
     "metadata": {},
     "output_type": "execute_result"
    }
   ],
   "source": [
    "M_ave.subs(mnu, 0).subs(\n",
    "    {mW:mW_val, ml:mtau_val}\n",
    ")"
   ]
  },
  {
   "cell_type": "code",
   "execution_count": 31,
   "metadata": {},
   "outputs": [],
   "source": [
    "width_Wlnu = integrate(\n",
    "    (M_ave*mW/2)/(32*pi**2*mW**2)*sin(th), (th, 0, pi), (phi, 0, 2*pi)\n",
    ")"
   ]
  },
  {
   "cell_type": "code",
   "execution_count": 32,
   "metadata": {},
   "outputs": [
    {
     "data": {
      "image/png": "[encoded data removed]",
      "text/latex": [
       "$\\displaystyle \\frac{g_{W}^{2} m_{W}}{48 \\pi}$"
      ],
      "text/plain": [
       "   2    \n",
       "g_W ⋅m_W\n",
       "────────\n",
       "  48⋅π  "
      ]
     },
     "execution_count": 32,
     "metadata": {},
     "output_type": "execute_result"
    }
   ],
   "source": [
    "width_Wlnu.subs(high_energy_limit)"
   ]
  },
  {
   "cell_type": "code",
   "execution_count": null,
   "metadata": {},
   "outputs": [],
   "source": []
  }
 ],
 "metadata": {
  "celltoolbar": "Slideshow",
  "kernelspec": {
   "display_name": "Python 3",
   "language": "python",
   "name": "python3"
  },
  "language_info": {
   "codemirror_mode": {
    "name": "ipython",
    "version": 3
   },
   "file_extension": ".py",
   "mimetype": "text/x-python",
   "name": "python",
   "nbconvert_exporter": "python",
   "pygments_lexer": "ipython3",
   "version": "3.7.12"
  },
  "latex_envs": {
   "LaTeX_envs_menu_present": true,
   "autoclose": false,
   "autocomplete": true,
   "bibliofile": "biblio.bib",
   "cite_by": "apalike",
   "current_citInitial": 1,
   "eqLabelWithNumbers": true,
   "eqNumInitial": 1,
   "hotkeys": {
    "equation": "Ctrl-E",
    "itemize": "Ctrl-I"
   },
   "labels_anchors": false,
   "latex_user_defs": false,
   "report_style_numbering": false,
   "user_envs_cfg": false
  },
  "toc": {
   "base_numbering": 1,
   "nav_menu": {},
   "number_sections": true,
   "sideBar": true,
   "skip_h1_title": false,
   "title_cell": "Table of Contents",
   "title_sidebar": "Contents",
   "toc_cell": false,
   "toc_position": {},
   "toc_section_display": true,
   "toc_window_display": false
  }
 },
 "nbformat": 4,
 "nbformat_minor": 4
}
