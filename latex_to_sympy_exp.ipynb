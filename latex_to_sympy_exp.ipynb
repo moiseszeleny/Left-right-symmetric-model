{
 "cells": [
  {
   "cell_type": "code",
   "execution_count": 1,
   "metadata": {},
   "outputs": [],
   "source": [
    "from sympy import symbols, simplify, init_printing\n",
    "init_printing()"
   ]
  },
  {
   "cell_type": "markdown",
   "metadata": {},
   "source": [
    "$\\left(M_{0}^{2}-m_{H}^{2}+m_{a}^{2}-m_{b}^{2}\\right)C_{0}+m_{H}^{2}\\left(C_{1}-C_{2}\\right)-m_{a}^{2}\\left(2C_{1}-C_{2}\\right)-m_{b}^{2}\\left(C_{1}-2C_{2}\\right)-m_{b}M_{1}\\left(C_{2}+C_{0}\\right)$"
   ]
  },
  {
   "cell_type": "code",
   "execution_count": 2,
   "metadata": {},
   "outputs": [
    {
     "data": {
      "image/png": "[encoded data removed]",
      "text/latex": [
       "$\\displaystyle C_{0} \\left(M_{0}^{2} - m_{H}^{2} + m_{a}^{2} - m_{b}^{2}\\right) - M_{1} m_{b} \\left(C_{0} + C_{2}\\right) + m_{H}^{2} \\left(C_{1} - C_{2}\\right) - m_{a}^{2} \\cdot \\left(2 C_{1} - C_{2}\\right) - m_{b}^{2} \\left(C_{1} - 2 C_{2}\\right)$"
      ],
      "text/plain": [
       "   ⎛  2      2     2      2⎞                         2               2        \n",
       "C₀⋅⎝M₀  - m_H  + mₐ  - m_b ⎠ - M₁⋅m_b⋅(C₀ + C₂) + m_H ⋅(C₁ - C₂) - mₐ ⋅(2⋅C₁ -\n",
       "\n",
       "          2            \n",
       " C₂) - m_b ⋅(C₁ - 2⋅C₂)"
      ]
     },
     "execution_count": 2,
     "metadata": {},
     "output_type": "execute_result"
    }
   ],
   "source": [
    "M0, mH, ma, mb, M1, C0, C1, C2 = symbols('M_0 m_H m_a m_b M_1 C_0 C_1 C_2')\n",
    "\n",
    "expr = (M0**2 - mH**2 + ma**2 - mb**2)*C0 + mH**2*(C1 - C2) - ma**2*(2*C1 - C2) - mb**2*(C1 - 2*C2) - mb*M1*(C2 + C0)\n",
    "\n",
    "expr"
   ]
  },
  {
   "cell_type": "code",
   "execution_count": 3,
   "metadata": {},
   "outputs": [
    {
     "data": {
      "image/png": "[encoded data removed]",
      "text/latex": [
       "$\\displaystyle C_{0} \\left(M_{0}^{2} - M_{1} m_{b} - m_{H}^{2} + m_{a}^{2} - m_{b}^{2}\\right) + C_{1} \\left(m_{H}^{2} - 2 m_{a}^{2} - m_{b}^{2}\\right) + C_{2} \\left(- M_{1} m_{b} - m_{H}^{2} + m_{a}^{2} + 2 m_{b}^{2}\\right)$"
      ],
      "text/plain": [
       "   ⎛  2               2     2      2⎞      ⎛   2       2      2⎞      ⎛       \n",
       "C₀⋅⎝M₀  - M₁⋅m_b - m_H  + mₐ  - m_b ⎠ + C₁⋅⎝m_H  - 2⋅mₐ  - m_b ⎠ + C₂⋅⎝-M₁⋅m_b\n",
       "\n",
       "      2     2        2⎞\n",
       " - m_H  + mₐ  + 2⋅m_b ⎠"
      ]
     },
     "execution_count": 3,
     "metadata": {},
     "output_type": "execute_result"
    }
   ],
   "source": [
    "Cs = [C0,C1,C2]\n",
    "expr.expand().collect(Cs, simplify)"
   ]
  },
  {
   "cell_type": "markdown",
   "metadata": {},
   "source": [
    "\\begin{aligned}-\\mathcal{A}_{R}^{H}\\left(SFF\\right)= & c_{HR}^{(1)}\\left(M_{2}\\left(M_{1}C_{0}-m_{b}C_{2}\\right)c_{R}^{(2)}c_{R}^{(3)}+\\left(m_{a}m_{b}\\left(C_{1}-C_{2}-C_{0}\\right)+m_{a}M_{1}C_{1}\\right)c_{L}^{(2)}c_{L}^{(3)}\\right)\\\\\n",
    "+ & c_{HL}^{(1)}\\left(B_{0}^{(12)}+M_{0}^{2}C_{0}+m_{H}^{2}\\left(C_{1}-C_{2}-C_{0}\\right)-m_{a}^{2}\\left(2C_{1}-C_{2}-C_{0}\\right)-m_{b}^{2}\\left(C_{0}+C_{1}-2C_{2}\\right)-m_{b}M_{1}\\left(C_{2}+C_{0}\\right)c_{R}^{(2)}c_{R}^{(3)}+M_{2}m_{a}\\left(C_{1}-C_{0}\\right)c_{L}^{(2)}c_{L}^{(3)}\\right)\\\\\n",
    "-\\mathcal{A}_{L}^{H}\\left(SFF\\right)=\n",
    "\\end{aligned}\n"
   ]
  },
  {
   "cell_type": "code",
   "execution_count": 6,
   "metadata": {},
   "outputs": [
    {
     "data": {
      "image/png": "[encoded data removed]",
      "text/latex": [
       "$\\displaystyle cHR_{1}^{2} \\left(M_{2} cR_{2} cR_{3} \\left(C_{0} M_{1} - C_{2} mb\\right) + cL_{2} cL_{3} \\left(C_{1} M_{1} ma + ma mb \\left(- C_{0} + C_{1} - C_{2}\\right)\\right)\\right)^{2}$"
      ],
      "text/plain": [
       "    2                                                                         \n",
       "cHR₁ ⋅(M₂⋅cR₂⋅cR₃⋅(C₀⋅M₁ - C₂⋅mb) + cL₂⋅cL₃⋅(C₁⋅M₁⋅ma + ma⋅mb⋅(-C₀ + C₁ - C₂))\n",
       "\n",
       " 2\n",
       ") "
      ]
     },
     "execution_count": 6,
     "metadata": {},
     "output_type": "execute_result"
    }
   ],
   "source": [
    "import sympy as sp\n",
    "\n",
    "M1, M2, ma, mb, C0, C1, C2 = sp.symbols('M1 M2 ma mb C0 C1 C2')\n",
    "cHR1, cR2, cR3, cL2, cL3 = sp.symbols('{{c_{HR}}}^(1) cR2 cR3 cL2 cL3')\n",
    "\n",
    "sympy_expr = cHR1**2*(M2*(M1*C0 - mb*C2)*cR2*cR3 + (ma*mb*(C1 - C2 - C0) + ma*M1*C1)*cL2*cL3)**2\n",
    "\n",
    "sympy_expr"
   ]
  },
  {
   "cell_type": "code",
   "execution_count": null,
   "metadata": {},
   "outputs": [],
   "source": []
  }
 ],
 "metadata": {
  "kernelspec": {
   "display_name": "py37",
   "language": "python",
   "name": "python3"
  },
  "language_info": {
   "codemirror_mode": {
    "name": "ipython",
    "version": 3
   },
   "file_extension": ".py",
   "mimetype": "text/x-python",
   "name": "python",
   "nbconvert_exporter": "python",
   "pygments_lexer": "ipython3",
   "version": "3.7.12"
  }
 },
 "nbformat": 4,
 "nbformat_minor": 2
}
